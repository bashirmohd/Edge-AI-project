{
 "cells": [
  {
   "cell_type": "code",
   "execution_count": 1,
   "metadata": {},
   "outputs": [
    {
     "name": "stdout",
     "output_type": "stream",
     "text": [
      "torch version: 1.13.0+cu117\n",
      "torchvision version: 0.14.0+cu117\n"
     ]
    },
    {
     "name": "stderr",
     "output_type": "stream",
     "text": [
      "/home/anonymous/projects/stanlito/lib/python3.10/site-packages/requests/__init__.py:102: RequestsDependencyWarning: urllib3 (1.26.6) or chardet (5.1.0)/charset_normalizer (2.0.12) doesn't match a supported version!\n",
      "  warnings.warn(\"urllib3 ({}) or chardet ({})/charset_normalizer ({}) doesn't match a supported \"\n"
     ]
    }
   ],
   "source": [
    "# Continue with regular imports\n",
    "import matplotlib.pyplot as plt\n",
    "import torch\n",
    "import torchvision\n",
    "print(f\"torch version: {torch.__version__}\")\n",
    "print(f\"torchvision version: {torchvision.__version__}\")\n",
    "from torch import nn\n",
    "from torchvision import transforms\n",
    "\n",
    "# Try to get torchinfo, install it if it doesn't work\n",
    "try:\n",
    "    from torchinfo import summary\n",
    "except:\n",
    "    print(\"[INFO] Couldn't find torchinfo... installing it.\")\n",
    "    !pip install -q torchinfo\n",
    "    from torchinfo import summary\n",
    "\n"
   ]
  },
  {
   "cell_type": "code",
   "execution_count": 2,
   "metadata": {},
   "outputs": [
    {
     "data": {
      "text/plain": [
       "'/Users/bashirmohammed/Documents/GitHub/Edge-AI-project/cmpare_between_transformer_and_cnn'"
      ]
     },
     "execution_count": 2,
     "metadata": {},
     "output_type": "execute_result"
    }
   ],
   "source": [
    "pwd"
   ]
  },
  {
   "cell_type": "code",
   "execution_count": 1,
   "metadata": {},
   "outputs": [
    {
     "name": "stdout",
     "output_type": "stream",
     "text": [
      "bird_classification.ipynb\n"
     ]
    }
   ],
   "source": [
    "ls"
   ]
  },
  {
   "cell_type": "code",
   "execution_count": 3,
   "metadata": {},
   "outputs": [
    {
     "name": "stdout",
     "output_type": "stream",
     "text": [
      "total 752\n",
      "-rw-r--r--  1 bashirmohammed  staff  382163 Feb 28 09:41 bird_classification.ipynb\n"
     ]
    }
   ],
   "source": [
    "ls -ltr"
   ]
  },
  {
   "cell_type": "code",
   "execution_count": 2,
   "metadata": {},
   "outputs": [],
   "source": [
    "# Try to import the going_modular directory, download it from GitHub if it doesn't work\n",
    "try:\n",
    "    from going_modular import data_setup, engine\n",
    "except:\n",
    "    # Get the going_modular scripts\n",
    "    print(\"[INFO] Couldn't find going_modular scripts... downloading them from GitHub.\")\n",
    "    !git clone https://github.com/mrdbourke/pytorch-deep-learning\n",
    "    !mv pytorch-deep-learning/going_modular .\n",
    "    !rm -rf pytorch-deep-learning\n",
    "    from going_modular.going_modular import data_setup, engine"
   ]
  },
  {
   "cell_type": "code",
   "execution_count": 3,
   "metadata": {},
   "outputs": [
    {
     "name": "stdout",
     "output_type": "stream",
     "text": [
      "01_pytorch_workflow.ipynb\n",
      "02_pytorch_neural_network_classification.ipynb\n",
      "03_pytorch_computer_vision.ipynb\n",
      "04_PyTorch_Custom_Datasets.ipynb\n",
      "05_pytorch_going_modular_cell_mode.ipynb\n",
      "06_pytorch_transfer_learning.ipynb\n",
      "07_pytorch_experiment_tracking.ipynb\n",
      "08_pytorch_paper_replicating.ipynb\n",
      "09-foodvision-mini-inference-speed-vs-performance.png\n",
      "09_pytorch_model_deployment.ipynb\n",
      "bird_classification.ipynb\n",
      "car_models.ipynb\n",
      "data\n",
      "demos\n",
      "flagged\n",
      "going_modular\n",
      "helper_functions.py\n",
      "models\n",
      "__pycache__\n"
     ]
    }
   ],
   "source": [
    "!ls"
   ]
  },
  {
   "cell_type": "code",
   "execution_count": 4,
   "metadata": {},
   "outputs": [],
   "source": [
    "from going_modular import data_setup, engine\n",
    "from helper_functions import download_data, set_seeds, plot_loss_curves"
   ]
  },
  {
   "cell_type": "code",
   "execution_count": 5,
   "metadata": {},
   "outputs": [
    {
     "data": {
      "text/plain": [
       "'cuda'"
      ]
     },
     "execution_count": 5,
     "metadata": {},
     "output_type": "execute_result"
    }
   ],
   "source": [
    "device = \"cuda\" if torch.cuda.is_available() else \"cpu\"\n",
    "device "
   ]
  },
  {
   "cell_type": "code",
   "execution_count": 6,
   "metadata": {},
   "outputs": [
    {
     "name": "stdout",
     "output_type": "stream",
     "text": [
      "[INFO] data/bird_species_classification directory exists, skipping download.\n"
     ]
    },
    {
     "data": {
      "text/plain": [
       "PosixPath('data/bird_species_classification')"
      ]
     },
     "execution_count": 6,
     "metadata": {},
     "output_type": "execute_result"
    }
   ],
   "source": [
    "# Download pizza, steak, sushi images from GitHub\n",
    "data = download_data(source=\"https://github.com/mrdbourke/pytorch-deep-learning/raw/main/data/pizza_steak_sushi_20_percent.zip\",\n",
    "                                     destination=\"bird_species_classification\")\n",
    "\n",
    "data"
   ]
  },
  {
   "cell_type": "code",
   "execution_count": 7,
   "metadata": {},
   "outputs": [
    {
     "data": {
      "text/plain": [
       "(PosixPath('data/bird_species_classification/train'),\n",
       " PosixPath('data/bird_species_classification/test'))"
      ]
     },
     "execution_count": 7,
     "metadata": {},
     "output_type": "execute_result"
    }
   ],
   "source": [
    "# Setup training and test paths\n",
    "train_dir = data / \"train\"\n",
    "test_dir = data / \"test\"\n",
    "\n",
    "train_dir, test_dir"
   ]
  },
  {
   "cell_type": "markdown",
   "metadata": {},
   "source": [
    "### using VIT"
   ]
  },
  {
   "cell_type": "code",
   "execution_count": 96,
   "metadata": {},
   "outputs": [
    {
     "data": {
      "text/plain": [
       "Sequential(\n",
       "  (head): Linear(in_features=768, out_features=1000, bias=True)\n",
       ")"
      ]
     },
     "execution_count": 96,
     "metadata": {},
     "output_type": "execute_result"
    }
   ],
   "source": [
    "# Check out the ViT heads layer\n",
    "vit = torchvision.models.vit_b_16()\n",
    "vit.heads"
   ]
  },
  {
   "cell_type": "code",
   "execution_count": 97,
   "metadata": {},
   "outputs": [
    {
     "data": {
      "text/plain": [
       "<module 'torchvision.models' from '/home/anonymous/projects/stanlito/lib/python3.10/site-packages/torchvision/models/__init__.py'>"
      ]
     },
     "execution_count": 97,
     "metadata": {},
     "output_type": "execute_result"
    }
   ],
   "source": [
    "torchvision.models"
   ]
  },
  {
   "cell_type": "code",
   "execution_count": 98,
   "metadata": {},
   "outputs": [],
   "source": [
    "def create_vit_model(num_classes:int=325,\n",
    "                     seed:int=42):\n",
    "  # Create ViT_B_16 pretrained weights, transforms and model\n",
    "  weights = torchvision.models.ViT_B_16_Weights.DEFAULT\n",
    "  transforms = weights.transforms()\n",
    "  model = torchvision.models.vit_b_16(weights=weights)\n",
    "\n",
    "  # Freeze all of the base layers\n",
    "  for param in model.parameters():\n",
    "    param.requires_grad = False\n",
    "\n",
    "  # Change classifier head to suit our needs\n",
    "  torch.manual_seed(seed)\n",
    "  model.heads = nn.Sequential(nn.Linear(in_features=768, \n",
    "                                        out_features=325))\n",
    "  \n",
    "  return model, transforms"
   ]
  },
  {
   "cell_type": "code",
   "execution_count": 99,
   "metadata": {},
   "outputs": [
    {
     "data": {
      "text/plain": [
       "ImageClassification(\n",
       "    crop_size=[224]\n",
       "    resize_size=[256]\n",
       "    mean=[0.485, 0.456, 0.406]\n",
       "    std=[0.229, 0.224, 0.225]\n",
       "    interpolation=InterpolationMode.BILINEAR\n",
       ")"
      ]
     },
     "execution_count": 99,
     "metadata": {},
     "output_type": "execute_result"
    }
   ],
   "source": [
    "vit, vit_transforms = create_vit_model()\n",
    "vit_transforms"
   ]
  },
  {
   "cell_type": "code",
   "execution_count": 100,
   "metadata": {},
   "outputs": [
    {
     "data": {
      "text/plain": [
       "VisionTransformer(\n",
       "  (conv_proj): Conv2d(3, 768, kernel_size=(16, 16), stride=(16, 16))\n",
       "  (encoder): Encoder(\n",
       "    (dropout): Dropout(p=0.0, inplace=False)\n",
       "    (layers): Sequential(\n",
       "      (encoder_layer_0): EncoderBlock(\n",
       "        (ln_1): LayerNorm((768,), eps=1e-06, elementwise_affine=True)\n",
       "        (self_attention): MultiheadAttention(\n",
       "          (out_proj): NonDynamicallyQuantizableLinear(in_features=768, out_features=768, bias=True)\n",
       "        )\n",
       "        (dropout): Dropout(p=0.0, inplace=False)\n",
       "        (ln_2): LayerNorm((768,), eps=1e-06, elementwise_affine=True)\n",
       "        (mlp): MLPBlock(\n",
       "          (0): Linear(in_features=768, out_features=3072, bias=True)\n",
       "          (1): GELU(approximate='none')\n",
       "          (2): Dropout(p=0.0, inplace=False)\n",
       "          (3): Linear(in_features=3072, out_features=768, bias=True)\n",
       "          (4): Dropout(p=0.0, inplace=False)\n",
       "        )\n",
       "      )\n",
       "      (encoder_layer_1): EncoderBlock(\n",
       "        (ln_1): LayerNorm((768,), eps=1e-06, elementwise_affine=True)\n",
       "        (self_attention): MultiheadAttention(\n",
       "          (out_proj): NonDynamicallyQuantizableLinear(in_features=768, out_features=768, bias=True)\n",
       "        )\n",
       "        (dropout): Dropout(p=0.0, inplace=False)\n",
       "        (ln_2): LayerNorm((768,), eps=1e-06, elementwise_affine=True)\n",
       "        (mlp): MLPBlock(\n",
       "          (0): Linear(in_features=768, out_features=3072, bias=True)\n",
       "          (1): GELU(approximate='none')\n",
       "          (2): Dropout(p=0.0, inplace=False)\n",
       "          (3): Linear(in_features=3072, out_features=768, bias=True)\n",
       "          (4): Dropout(p=0.0, inplace=False)\n",
       "        )\n",
       "      )\n",
       "      (encoder_layer_2): EncoderBlock(\n",
       "        (ln_1): LayerNorm((768,), eps=1e-06, elementwise_affine=True)\n",
       "        (self_attention): MultiheadAttention(\n",
       "          (out_proj): NonDynamicallyQuantizableLinear(in_features=768, out_features=768, bias=True)\n",
       "        )\n",
       "        (dropout): Dropout(p=0.0, inplace=False)\n",
       "        (ln_2): LayerNorm((768,), eps=1e-06, elementwise_affine=True)\n",
       "        (mlp): MLPBlock(\n",
       "          (0): Linear(in_features=768, out_features=3072, bias=True)\n",
       "          (1): GELU(approximate='none')\n",
       "          (2): Dropout(p=0.0, inplace=False)\n",
       "          (3): Linear(in_features=3072, out_features=768, bias=True)\n",
       "          (4): Dropout(p=0.0, inplace=False)\n",
       "        )\n",
       "      )\n",
       "      (encoder_layer_3): EncoderBlock(\n",
       "        (ln_1): LayerNorm((768,), eps=1e-06, elementwise_affine=True)\n",
       "        (self_attention): MultiheadAttention(\n",
       "          (out_proj): NonDynamicallyQuantizableLinear(in_features=768, out_features=768, bias=True)\n",
       "        )\n",
       "        (dropout): Dropout(p=0.0, inplace=False)\n",
       "        (ln_2): LayerNorm((768,), eps=1e-06, elementwise_affine=True)\n",
       "        (mlp): MLPBlock(\n",
       "          (0): Linear(in_features=768, out_features=3072, bias=True)\n",
       "          (1): GELU(approximate='none')\n",
       "          (2): Dropout(p=0.0, inplace=False)\n",
       "          (3): Linear(in_features=3072, out_features=768, bias=True)\n",
       "          (4): Dropout(p=0.0, inplace=False)\n",
       "        )\n",
       "      )\n",
       "      (encoder_layer_4): EncoderBlock(\n",
       "        (ln_1): LayerNorm((768,), eps=1e-06, elementwise_affine=True)\n",
       "        (self_attention): MultiheadAttention(\n",
       "          (out_proj): NonDynamicallyQuantizableLinear(in_features=768, out_features=768, bias=True)\n",
       "        )\n",
       "        (dropout): Dropout(p=0.0, inplace=False)\n",
       "        (ln_2): LayerNorm((768,), eps=1e-06, elementwise_affine=True)\n",
       "        (mlp): MLPBlock(\n",
       "          (0): Linear(in_features=768, out_features=3072, bias=True)\n",
       "          (1): GELU(approximate='none')\n",
       "          (2): Dropout(p=0.0, inplace=False)\n",
       "          (3): Linear(in_features=3072, out_features=768, bias=True)\n",
       "          (4): Dropout(p=0.0, inplace=False)\n",
       "        )\n",
       "      )\n",
       "      (encoder_layer_5): EncoderBlock(\n",
       "        (ln_1): LayerNorm((768,), eps=1e-06, elementwise_affine=True)\n",
       "        (self_attention): MultiheadAttention(\n",
       "          (out_proj): NonDynamicallyQuantizableLinear(in_features=768, out_features=768, bias=True)\n",
       "        )\n",
       "        (dropout): Dropout(p=0.0, inplace=False)\n",
       "        (ln_2): LayerNorm((768,), eps=1e-06, elementwise_affine=True)\n",
       "        (mlp): MLPBlock(\n",
       "          (0): Linear(in_features=768, out_features=3072, bias=True)\n",
       "          (1): GELU(approximate='none')\n",
       "          (2): Dropout(p=0.0, inplace=False)\n",
       "          (3): Linear(in_features=3072, out_features=768, bias=True)\n",
       "          (4): Dropout(p=0.0, inplace=False)\n",
       "        )\n",
       "      )\n",
       "      (encoder_layer_6): EncoderBlock(\n",
       "        (ln_1): LayerNorm((768,), eps=1e-06, elementwise_affine=True)\n",
       "        (self_attention): MultiheadAttention(\n",
       "          (out_proj): NonDynamicallyQuantizableLinear(in_features=768, out_features=768, bias=True)\n",
       "        )\n",
       "        (dropout): Dropout(p=0.0, inplace=False)\n",
       "        (ln_2): LayerNorm((768,), eps=1e-06, elementwise_affine=True)\n",
       "        (mlp): MLPBlock(\n",
       "          (0): Linear(in_features=768, out_features=3072, bias=True)\n",
       "          (1): GELU(approximate='none')\n",
       "          (2): Dropout(p=0.0, inplace=False)\n",
       "          (3): Linear(in_features=3072, out_features=768, bias=True)\n",
       "          (4): Dropout(p=0.0, inplace=False)\n",
       "        )\n",
       "      )\n",
       "      (encoder_layer_7): EncoderBlock(\n",
       "        (ln_1): LayerNorm((768,), eps=1e-06, elementwise_affine=True)\n",
       "        (self_attention): MultiheadAttention(\n",
       "          (out_proj): NonDynamicallyQuantizableLinear(in_features=768, out_features=768, bias=True)\n",
       "        )\n",
       "        (dropout): Dropout(p=0.0, inplace=False)\n",
       "        (ln_2): LayerNorm((768,), eps=1e-06, elementwise_affine=True)\n",
       "        (mlp): MLPBlock(\n",
       "          (0): Linear(in_features=768, out_features=3072, bias=True)\n",
       "          (1): GELU(approximate='none')\n",
       "          (2): Dropout(p=0.0, inplace=False)\n",
       "          (3): Linear(in_features=3072, out_features=768, bias=True)\n",
       "          (4): Dropout(p=0.0, inplace=False)\n",
       "        )\n",
       "      )\n",
       "      (encoder_layer_8): EncoderBlock(\n",
       "        (ln_1): LayerNorm((768,), eps=1e-06, elementwise_affine=True)\n",
       "        (self_attention): MultiheadAttention(\n",
       "          (out_proj): NonDynamicallyQuantizableLinear(in_features=768, out_features=768, bias=True)\n",
       "        )\n",
       "        (dropout): Dropout(p=0.0, inplace=False)\n",
       "        (ln_2): LayerNorm((768,), eps=1e-06, elementwise_affine=True)\n",
       "        (mlp): MLPBlock(\n",
       "          (0): Linear(in_features=768, out_features=3072, bias=True)\n",
       "          (1): GELU(approximate='none')\n",
       "          (2): Dropout(p=0.0, inplace=False)\n",
       "          (3): Linear(in_features=3072, out_features=768, bias=True)\n",
       "          (4): Dropout(p=0.0, inplace=False)\n",
       "        )\n",
       "      )\n",
       "      (encoder_layer_9): EncoderBlock(\n",
       "        (ln_1): LayerNorm((768,), eps=1e-06, elementwise_affine=True)\n",
       "        (self_attention): MultiheadAttention(\n",
       "          (out_proj): NonDynamicallyQuantizableLinear(in_features=768, out_features=768, bias=True)\n",
       "        )\n",
       "        (dropout): Dropout(p=0.0, inplace=False)\n",
       "        (ln_2): LayerNorm((768,), eps=1e-06, elementwise_affine=True)\n",
       "        (mlp): MLPBlock(\n",
       "          (0): Linear(in_features=768, out_features=3072, bias=True)\n",
       "          (1): GELU(approximate='none')\n",
       "          (2): Dropout(p=0.0, inplace=False)\n",
       "          (3): Linear(in_features=3072, out_features=768, bias=True)\n",
       "          (4): Dropout(p=0.0, inplace=False)\n",
       "        )\n",
       "      )\n",
       "      (encoder_layer_10): EncoderBlock(\n",
       "        (ln_1): LayerNorm((768,), eps=1e-06, elementwise_affine=True)\n",
       "        (self_attention): MultiheadAttention(\n",
       "          (out_proj): NonDynamicallyQuantizableLinear(in_features=768, out_features=768, bias=True)\n",
       "        )\n",
       "        (dropout): Dropout(p=0.0, inplace=False)\n",
       "        (ln_2): LayerNorm((768,), eps=1e-06, elementwise_affine=True)\n",
       "        (mlp): MLPBlock(\n",
       "          (0): Linear(in_features=768, out_features=3072, bias=True)\n",
       "          (1): GELU(approximate='none')\n",
       "          (2): Dropout(p=0.0, inplace=False)\n",
       "          (3): Linear(in_features=3072, out_features=768, bias=True)\n",
       "          (4): Dropout(p=0.0, inplace=False)\n",
       "        )\n",
       "      )\n",
       "      (encoder_layer_11): EncoderBlock(\n",
       "        (ln_1): LayerNorm((768,), eps=1e-06, elementwise_affine=True)\n",
       "        (self_attention): MultiheadAttention(\n",
       "          (out_proj): NonDynamicallyQuantizableLinear(in_features=768, out_features=768, bias=True)\n",
       "        )\n",
       "        (dropout): Dropout(p=0.0, inplace=False)\n",
       "        (ln_2): LayerNorm((768,), eps=1e-06, elementwise_affine=True)\n",
       "        (mlp): MLPBlock(\n",
       "          (0): Linear(in_features=768, out_features=3072, bias=True)\n",
       "          (1): GELU(approximate='none')\n",
       "          (2): Dropout(p=0.0, inplace=False)\n",
       "          (3): Linear(in_features=3072, out_features=768, bias=True)\n",
       "          (4): Dropout(p=0.0, inplace=False)\n",
       "        )\n",
       "      )\n",
       "    )\n",
       "    (ln): LayerNorm((768,), eps=1e-06, elementwise_affine=True)\n",
       "  )\n",
       "  (heads): Sequential(\n",
       "    (0): Linear(in_features=768, out_features=325, bias=True)\n",
       "  )\n",
       ")"
      ]
     },
     "execution_count": 100,
     "metadata": {},
     "output_type": "execute_result"
    }
   ],
   "source": [
    "vit"
   ]
  },
  {
   "cell_type": "code",
   "execution_count": 101,
   "metadata": {},
   "outputs": [
    {
     "data": {
      "text/plain": [
       "======================================================================================================================================================\n",
       "Layer (type (var_name))                                                Input Shape          Output Shape         Param #              Trainable\n",
       "======================================================================================================================================================\n",
       "VisionTransformer (VisionTransformer)                                  [1, 3, 224, 224]     [1, 325]             768                  Partial\n",
       "├─Conv2d (conv_proj)                                                   [1, 3, 224, 224]     [1, 768, 14, 14]     (590,592)            False\n",
       "├─Encoder (encoder)                                                    [1, 197, 768]        [1, 197, 768]        151,296              False\n",
       "│    └─Dropout (dropout)                                               [1, 197, 768]        [1, 197, 768]        --                   --\n",
       "│    └─Sequential (layers)                                             [1, 197, 768]        [1, 197, 768]        --                   False\n",
       "│    │    └─EncoderBlock (encoder_layer_0)                             [1, 197, 768]        [1, 197, 768]        (7,087,872)          False\n",
       "│    │    └─EncoderBlock (encoder_layer_1)                             [1, 197, 768]        [1, 197, 768]        (7,087,872)          False\n",
       "│    │    └─EncoderBlock (encoder_layer_2)                             [1, 197, 768]        [1, 197, 768]        (7,087,872)          False\n",
       "│    │    └─EncoderBlock (encoder_layer_3)                             [1, 197, 768]        [1, 197, 768]        (7,087,872)          False\n",
       "│    │    └─EncoderBlock (encoder_layer_4)                             [1, 197, 768]        [1, 197, 768]        (7,087,872)          False\n",
       "│    │    └─EncoderBlock (encoder_layer_5)                             [1, 197, 768]        [1, 197, 768]        (7,087,872)          False\n",
       "│    │    └─EncoderBlock (encoder_layer_6)                             [1, 197, 768]        [1, 197, 768]        (7,087,872)          False\n",
       "│    │    └─EncoderBlock (encoder_layer_7)                             [1, 197, 768]        [1, 197, 768]        (7,087,872)          False\n",
       "│    │    └─EncoderBlock (encoder_layer_8)                             [1, 197, 768]        [1, 197, 768]        (7,087,872)          False\n",
       "│    │    └─EncoderBlock (encoder_layer_9)                             [1, 197, 768]        [1, 197, 768]        (7,087,872)          False\n",
       "│    │    └─EncoderBlock (encoder_layer_10)                            [1, 197, 768]        [1, 197, 768]        (7,087,872)          False\n",
       "│    │    └─EncoderBlock (encoder_layer_11)                            [1, 197, 768]        [1, 197, 768]        (7,087,872)          False\n",
       "│    └─LayerNorm (ln)                                                  [1, 197, 768]        [1, 197, 768]        (1,536)              False\n",
       "├─Sequential (heads)                                                   [1, 768]             [1, 325]             --                   True\n",
       "│    └─Linear (0)                                                      [1, 768]             [1, 325]             249,925              True\n",
       "======================================================================================================================================================\n",
       "Total params: 86,048,581\n",
       "Trainable params: 249,925\n",
       "Non-trainable params: 85,798,656\n",
       "Total mult-adds (M): 172.71\n",
       "======================================================================================================================================================\n",
       "Input size (MB): 0.60\n",
       "Forward/backward pass size (MB): 104.09\n",
       "Params size (MB): 258.54\n",
       "Estimated Total Size (MB): 363.23\n",
       "======================================================================================================================================================"
      ]
     },
     "execution_count": 101,
     "metadata": {},
     "output_type": "execute_result"
    }
   ],
   "source": [
    "# from torchinfo import summary\n",
    "\n",
    "# Print ViT model summary (uncomment for full output) \n",
    "summary(vit, \n",
    "        input_size=(1, 3, 224, 224),\n",
    "        col_names=[\"input_size\", \"output_size\", \"num_params\", \"trainable\"],\n",
    "        col_width=20,\n",
    "        row_settings=[\"var_names\"])"
   ]
  },
  {
   "cell_type": "code",
   "execution_count": 102,
   "metadata": {},
   "outputs": [
    {
     "data": {
      "text/plain": [
       "(1480,\n",
       " 51,\n",
       " ['AFRICAN CROWNED CRANE',\n",
       "  'AFRICAN FIREFINCH',\n",
       "  'ALBATROSS',\n",
       "  'ALEXANDRINE PARAKEET',\n",
       "  'AMERICAN AVOCET',\n",
       "  'AMERICAN BITTERN',\n",
       "  'AMERICAN COOT',\n",
       "  'AMERICAN GOLDFINCH',\n",
       "  'AMERICAN KESTREL',\n",
       "  'AMERICAN PIPIT',\n",
       "  'AMERICAN REDSTART',\n",
       "  'ANHINGA',\n",
       "  'ANNAS HUMMINGBIRD',\n",
       "  'ANTBIRD',\n",
       "  'ARARIPE MANAKIN',\n",
       "  'ASIAN CRESTED IBIS',\n",
       "  'BALD EAGLE',\n",
       "  'BALD IBIS',\n",
       "  'BALI STARLING',\n",
       "  'BALTIMORE ORIOLE',\n",
       "  'BANANAQUIT',\n",
       "  'BANDED BROADBILL',\n",
       "  'BANDED PITA',\n",
       "  'BAR-TAILED GODWIT',\n",
       "  'BARN OWL',\n",
       "  'BARN SWALLOW',\n",
       "  'BARRED PUFFBIRD',\n",
       "  'BAY-BREASTED WARBLER',\n",
       "  'BEARDED BARBET',\n",
       "  'BEARDED BELLBIRD',\n",
       "  'BEARDED REEDLING',\n",
       "  'BELTED KINGFISHER',\n",
       "  'BIRD OF PARADISE',\n",
       "  'BLACK & YELLOW bROADBILL',\n",
       "  'BLACK BAZA',\n",
       "  'BLACK FRANCOLIN',\n",
       "  'BLACK SKIMMER',\n",
       "  'BLACK SWAN',\n",
       "  'BLACK TAIL CRAKE',\n",
       "  'BLACK THROATED BUSHTIT',\n",
       "  'BLACK THROATED WARBLER',\n",
       "  'BLACK VULTURE',\n",
       "  'BLACK-CAPPED CHICKADEE',\n",
       "  'BLACK-NECKED GREBE',\n",
       "  'BLACK-THROATED SPARROW',\n",
       "  'BLACKBURNIAM WARBLER',\n",
       "  'BLONDE CRESTED WOODPECKER',\n",
       "  'BLUE COAU',\n",
       "  'BLUE GROUSE',\n",
       "  'BLUE HERON',\n",
       "  'BLUE THROATED TOUCANET',\n",
       "  'BOBOLINK',\n",
       "  'BORNEAN BRISTLEHEAD',\n",
       "  'BORNEAN LEAFBIRD',\n",
       "  'BORNEAN PHEASANT',\n",
       "  'BRANDT CORMARANT',\n",
       "  'BROWN CREPPER',\n",
       "  'BROWN NOODY',\n",
       "  'BROWN THRASHER',\n",
       "  'BULWERS PHEASANT',\n",
       "  'CACTUS WREN',\n",
       "  'CALIFORNIA CONDOR',\n",
       "  'CALIFORNIA GULL',\n",
       "  'CALIFORNIA QUAIL',\n",
       "  'CANARY',\n",
       "  'CAPE GLOSSY STARLING',\n",
       "  'CAPE MAY WARBLER',\n",
       "  'CAPPED HERON',\n",
       "  'CAPUCHINBIRD',\n",
       "  'CARMINE BEE-EATER',\n",
       "  'CASPIAN TERN',\n",
       "  'CASSOWARY',\n",
       "  'CEDAR WAXWING',\n",
       "  'CERULEAN WARBLER',\n",
       "  'CHARA DE COLLAR',\n",
       "  'CHESTNET BELLIED EUPHONIA',\n",
       "  'CHIPPING SPARROW',\n",
       "  'CHUKAR PARTRIDGE',\n",
       "  'CINNAMON TEAL',\n",
       "  'CLARKS NUTCRACKER',\n",
       "  'COCK OF THE  ROCK',\n",
       "  'COCKATOO',\n",
       "  'COLLARED ARACARI',\n",
       "  'COMMON FIRECREST',\n",
       "  'COMMON GRACKLE',\n",
       "  'COMMON HOUSE MARTIN',\n",
       "  'COMMON LOON',\n",
       "  'COMMON POORWILL',\n",
       "  'COMMON STARLING',\n",
       "  'COUCHS KINGBIRD',\n",
       "  'CRESTED AUKLET',\n",
       "  'CRESTED CARACARA',\n",
       "  'CRESTED NUTHATCH',\n",
       "  'CRIMSON SUNBIRD',\n",
       "  'CROW',\n",
       "  'CROWNED PIGEON',\n",
       "  'CUBAN TODY',\n",
       "  'CUBAN TROGON',\n",
       "  'CURL CRESTED ARACURI',\n",
       "  'D-ARNAUDS BARBET',\n",
       "  'DARK EYED JUNCO',\n",
       "  'DOUBLE BARRED FINCH',\n",
       "  'DOUBLE BRESTED CORMARANT',\n",
       "  'DOWNY WOODPECKER',\n",
       "  'EASTERN BLUEBIRD',\n",
       "  'EASTERN MEADOWLARK',\n",
       "  'EASTERN ROSELLA',\n",
       "  'EASTERN TOWEE',\n",
       "  'ELEGANT TROGON',\n",
       "  'ELLIOTS  PHEASANT',\n",
       "  'EMPEROR PENGUIN',\n",
       "  'EMU',\n",
       "  'ENGGANO MYNA',\n",
       "  'EURASIAN GOLDEN ORIOLE',\n",
       "  'EURASIAN MAGPIE',\n",
       "  'EVENING GROSBEAK',\n",
       "  'FAIRY BLUEBIRD',\n",
       "  'FIRE TAILLED MYZORNIS',\n",
       "  'FLAME TANAGER',\n",
       "  'FLAMINGO',\n",
       "  'FRIGATE',\n",
       "  'GAMBELS QUAIL',\n",
       "  'GANG GANG COCKATOO',\n",
       "  'GILA WOODPECKER',\n",
       "  'GILDED FLICKER',\n",
       "  'GLOSSY IBIS',\n",
       "  'GO AWAY BIRD',\n",
       "  'GOLD WING WARBLER',\n",
       "  'GOLDEN CHEEKED WARBLER',\n",
       "  'GOLDEN CHLOROPHONIA',\n",
       "  'GOLDEN EAGLE',\n",
       "  'GOLDEN PHEASANT',\n",
       "  'GOLDEN PIPIT',\n",
       "  'GOULDIAN FINCH',\n",
       "  'GRAY CATBIRD',\n",
       "  'GRAY KINGBIRD',\n",
       "  'GRAY PARTRIDGE',\n",
       "  'GREAT GRAY OWL',\n",
       "  'GREAT KISKADEE',\n",
       "  'GREAT POTOO',\n",
       "  'GREATOR SAGE GROUSE',\n",
       "  'GREEN BROADBILL',\n",
       "  'GREEN JAY',\n",
       "  'GREEN MAGPIE',\n",
       "  'GREY PLOVER',\n",
       "  'GROVED BILLED ANI',\n",
       "  'GUINEA TURACO',\n",
       "  'GUINEAFOWL',\n",
       "  'GYRFALCON',\n",
       "  'HARLEQUIN DUCK',\n",
       "  'HARPY EAGLE',\n",
       "  'HAWAIIAN GOOSE',\n",
       "  'HELMET VANGA',\n",
       "  'HIMALAYAN MONAL',\n",
       "  'HOATZIN',\n",
       "  'HOODED MERGANSER',\n",
       "  'HOOPOES',\n",
       "  'HORNBILL',\n",
       "  'HORNED GUAN',\n",
       "  'HORNED LARK',\n",
       "  'HORNED SUNGEM',\n",
       "  'HOUSE FINCH',\n",
       "  'HOUSE SPARROW',\n",
       "  'HYACINTH MACAW',\n",
       "  'IMPERIAL SHAQ',\n",
       "  'INCA TERN',\n",
       "  'INDIAN BUSTARD',\n",
       "  'INDIAN PITTA',\n",
       "  'INDIAN ROLLER',\n",
       "  'INDIGO BUNTING',\n",
       "  'IWI',\n",
       "  'JABIRU',\n",
       "  'JAVA SPARROW',\n",
       "  'KAGU',\n",
       "  'KAKAPO',\n",
       "  'KILLDEAR',\n",
       "  'KING VULTURE',\n",
       "  'KIWI',\n",
       "  'KOOKABURRA',\n",
       "  'LARK BUNTING',\n",
       "  'LAZULI BUNTING',\n",
       "  'LILAC ROLLER',\n",
       "  'LONG-EARED OWL',\n",
       "  'MAGPIE GOOSE',\n",
       "  'MALABAR HORNBILL',\n",
       "  'MALACHITE KINGFISHER',\n",
       "  'MALAGASY WHITE EYE',\n",
       "  'MALEO',\n",
       "  'MALLARD DUCK',\n",
       "  'MANDRIN DUCK',\n",
       "  'MANGROVE CUCKOO',\n",
       "  'MARABOU STORK',\n",
       "  'MASKED BOOBY',\n",
       "  'MASKED LAPWING',\n",
       "  'MIKADO  PHEASANT',\n",
       "  'MOURNING DOVE',\n",
       "  'MYNA',\n",
       "  'NICOBAR PIGEON',\n",
       "  'NOISY FRIARBIRD',\n",
       "  'NORTHERN CARDINAL',\n",
       "  'NORTHERN FLICKER',\n",
       "  'NORTHERN FULMAR',\n",
       "  'NORTHERN GANNET',\n",
       "  'NORTHERN GOSHAWK',\n",
       "  'NORTHERN JACANA',\n",
       "  'NORTHERN MOCKINGBIRD',\n",
       "  'NORTHERN PARULA',\n",
       "  'NORTHERN RED BISHOP',\n",
       "  'NORTHERN SHOVELER',\n",
       "  'OCELLATED TURKEY',\n",
       "  'OKINAWA RAIL',\n",
       "  'ORANGE BRESTED BUNTING',\n",
       "  'ORIENTAL BAY OWL',\n",
       "  'OSPREY',\n",
       "  'OSTRICH',\n",
       "  'OVENBIRD',\n",
       "  'OYSTER CATCHER',\n",
       "  'PAINTED BUNTIG',\n",
       "  'PALILA',\n",
       "  'PARADISE TANAGER',\n",
       "  'PARAKETT  AKULET',\n",
       "  'PARUS MAJOR',\n",
       "  'PATAGONIAN SIERRA FINCH',\n",
       "  'PEACOCK',\n",
       "  'PELICAN',\n",
       "  'PEREGRINE FALCON',\n",
       "  'PHILIPPINE EAGLE',\n",
       "  'PINK ROBIN',\n",
       "  'POMARINE JAEGER',\n",
       "  'PUFFIN',\n",
       "  'PURPLE FINCH',\n",
       "  'PURPLE GALLINULE',\n",
       "  'PURPLE MARTIN',\n",
       "  'PURPLE SWAMPHEN',\n",
       "  'PYGMY KINGFISHER',\n",
       "  'QUETZAL',\n",
       "  'RAINBOW LORIKEET',\n",
       "  'RAZORBILL',\n",
       "  'RED BEARDED BEE EATER',\n",
       "  'RED BELLIED PITTA',\n",
       "  'RED BROWED FINCH',\n",
       "  'RED FACED CORMORANT',\n",
       "  'RED FACED WARBLER',\n",
       "  'RED FODY',\n",
       "  'RED HEADED DUCK',\n",
       "  'RED HEADED WOODPECKER',\n",
       "  'RED HONEY CREEPER',\n",
       "  'RED NAPED TROGON',\n",
       "  'RED TAILED HAWK',\n",
       "  'RED TAILED THRUSH',\n",
       "  'RED WINGED BLACKBIRD',\n",
       "  'RED WISKERED BULBUL',\n",
       "  'REGENT BOWERBIRD',\n",
       "  'RING-NECKED PHEASANT',\n",
       "  'ROADRUNNER',\n",
       "  'ROBIN',\n",
       "  'ROCK DOVE',\n",
       "  'ROSY FACED LOVEBIRD',\n",
       "  'ROUGH LEG BUZZARD',\n",
       "  'ROYAL FLYCATCHER',\n",
       "  'RUBY THROATED HUMMINGBIRD',\n",
       "  'RUDY KINGFISHER',\n",
       "  'RUFOUS KINGFISHER',\n",
       "  'RUFUOS MOTMOT',\n",
       "  'SAMATRAN THRUSH',\n",
       "  'SAND MARTIN',\n",
       "  'SANDHILL CRANE',\n",
       "  'SATYR TRAGOPAN',\n",
       "  'SCARLET CROWNED FRUIT DOVE',\n",
       "  'SCARLET IBIS',\n",
       "  'SCARLET MACAW',\n",
       "  'SCARLET TANAGER',\n",
       "  'SHOEBILL',\n",
       "  'SHORT BILLED DOWITCHER',\n",
       "  'SMITHS LONGSPUR',\n",
       "  'SNOWY EGRET',\n",
       "  'SNOWY OWL',\n",
       "  'SORA',\n",
       "  'SPANGLED COTINGA',\n",
       "  'SPLENDID WREN',\n",
       "  'SPOON BILED SANDPIPER',\n",
       "  'SPOONBILL',\n",
       "  'SPOTTED CATBIRD',\n",
       "  'SRI LANKA BLUE MAGPIE',\n",
       "  'STEAMER DUCK',\n",
       "  'STORK BILLED KINGFISHER',\n",
       "  'STRAWBERRY FINCH',\n",
       "  'STRIPED OWL',\n",
       "  'STRIPPED MANAKIN',\n",
       "  'STRIPPED SWALLOW',\n",
       "  'SUPERB STARLING',\n",
       "  'SWINHOES PHEASANT',\n",
       "  'TAIWAN MAGPIE',\n",
       "  'TAKAHE',\n",
       "  'TASMANIAN HEN',\n",
       "  'TEAL DUCK',\n",
       "  'TIT MOUSE',\n",
       "  'TOUCHAN',\n",
       "  'TOWNSENDS WARBLER',\n",
       "  'TREE SWALLOW',\n",
       "  'TROPICAL KINGBIRD',\n",
       "  'TRUMPTER SWAN',\n",
       "  'TURKEY VULTURE',\n",
       "  'TURQUOISE MOTMOT',\n",
       "  'UMBRELLA BIRD',\n",
       "  'VARIED THRUSH',\n",
       "  'VENEZUELIAN TROUPIAL',\n",
       "  'VERMILION FLYCATHER',\n",
       "  'VICTORIA CROWNED PIGEON',\n",
       "  'VIOLET GREEN SWALLOW',\n",
       "  'VULTURINE GUINEAFOWL',\n",
       "  'WALL CREAPER',\n",
       "  'WATTLED CURASSOW',\n",
       "  'WHIMBREL',\n",
       "  'WHITE BROWED CRAKE',\n",
       "  'WHITE CHEEKED TURACO',\n",
       "  'WHITE NECKED RAVEN',\n",
       "  'WHITE TAILED TROPIC',\n",
       "  'WHITE THROATED BEE EATER',\n",
       "  'WILD TURKEY',\n",
       "  'WILSONS BIRD OF PARADISE',\n",
       "  'WOOD DUCK',\n",
       "  'YELLOW BELLIED FLOWERPECKER',\n",
       "  'YELLOW CACIQUE',\n",
       "  'YELLOW HEADED BLACKBIRD'])"
      ]
     },
     "execution_count": 102,
     "metadata": {},
     "output_type": "execute_result"
    }
   ],
   "source": [
    "# Setup ViT DataLoaders \n",
    "from going_modular import data_setup\n",
    "train_dataloader_vit, test_dataloader_vit, class_names = data_setup.create_dataloaders(train_dir=train_dir,\n",
    "                                                                                       test_dir=test_dir,\n",
    "                                                                                       transform=vit_transforms,\n",
    "                                                                                       batch_size=32)\n",
    "len(train_dataloader_vit), len(test_dataloader_vit), class_names"
   ]
  },
  {
   "cell_type": "code",
   "execution_count": 175,
   "metadata": {},
   "outputs": [
    {
     "name": "stdout",
     "output_type": "stream",
     "text": [
      "['AFRICAN CROWNED CRANE', 'AFRICAN FIREFINCH', 'ALBATROSS', 'ALEXANDRINE PARAKEET', 'AMERICAN AVOCET', 'AMERICAN BITTERN', 'AMERICAN COOT', 'AMERICAN GOLDFINCH', 'AMERICAN KESTREL', 'AMERICAN PIPIT', 'AMERICAN REDSTART', 'ANHINGA', 'ANNAS HUMMINGBIRD', 'ANTBIRD', 'ARARIPE MANAKIN', 'ASIAN CRESTED IBIS', 'BALD EAGLE', 'BALD IBIS', 'BALI STARLING', 'BALTIMORE ORIOLE', 'BANANAQUIT', 'BANDED BROADBILL', 'BANDED PITA', 'BAR-TAILED GODWIT', 'BARN OWL', 'BARN SWALLOW', 'BARRED PUFFBIRD', 'BAY-BREASTED WARBLER', 'BEARDED BARBET', 'BEARDED BELLBIRD', 'BEARDED REEDLING', 'BELTED KINGFISHER', 'BIRD OF PARADISE', 'BLACK & YELLOW bROADBILL', 'BLACK BAZA', 'BLACK FRANCOLIN', 'BLACK SKIMMER', 'BLACK SWAN', 'BLACK TAIL CRAKE', 'BLACK THROATED BUSHTIT', 'BLACK THROATED WARBLER', 'BLACK VULTURE', 'BLACK-CAPPED CHICKADEE', 'BLACK-NECKED GREBE', 'BLACK-THROATED SPARROW', 'BLACKBURNIAM WARBLER', 'BLONDE CRESTED WOODPECKER', 'BLUE COAU', 'BLUE GROUSE', 'BLUE HERON', 'BLUE THROATED TOUCANET', 'BOBOLINK', 'BORNEAN BRISTLEHEAD', 'BORNEAN LEAFBIRD', 'BORNEAN PHEASANT', 'BRANDT CORMARANT', 'BROWN CREPPER', 'BROWN NOODY', 'BROWN THRASHER', 'BULWERS PHEASANT', 'CACTUS WREN', 'CALIFORNIA CONDOR', 'CALIFORNIA GULL', 'CALIFORNIA QUAIL', 'CANARY', 'CAPE GLOSSY STARLING', 'CAPE MAY WARBLER', 'CAPPED HERON', 'CAPUCHINBIRD', 'CARMINE BEE-EATER', 'CASPIAN TERN', 'CASSOWARY', 'CEDAR WAXWING', 'CERULEAN WARBLER', 'CHARA DE COLLAR', 'CHESTNET BELLIED EUPHONIA', 'CHIPPING SPARROW', 'CHUKAR PARTRIDGE', 'CINNAMON TEAL', 'CLARKS NUTCRACKER', 'COCK OF THE  ROCK', 'COCKATOO', 'COLLARED ARACARI', 'COMMON FIRECREST', 'COMMON GRACKLE', 'COMMON HOUSE MARTIN', 'COMMON LOON', 'COMMON POORWILL', 'COMMON STARLING', 'COUCHS KINGBIRD', 'CRESTED AUKLET', 'CRESTED CARACARA', 'CRESTED NUTHATCH', 'CRIMSON SUNBIRD', 'CROW', 'CROWNED PIGEON', 'CUBAN TODY', 'CUBAN TROGON', 'CURL CRESTED ARACURI', 'D-ARNAUDS BARBET', 'DARK EYED JUNCO', 'DOUBLE BARRED FINCH', 'DOUBLE BRESTED CORMARANT', 'DOWNY WOODPECKER', 'EASTERN BLUEBIRD', 'EASTERN MEADOWLARK', 'EASTERN ROSELLA', 'EASTERN TOWEE', 'ELEGANT TROGON', 'ELLIOTS  PHEASANT', 'EMPEROR PENGUIN', 'EMU', 'ENGGANO MYNA', 'EURASIAN GOLDEN ORIOLE', 'EURASIAN MAGPIE', 'EVENING GROSBEAK', 'FAIRY BLUEBIRD', 'FIRE TAILLED MYZORNIS', 'FLAME TANAGER', 'FLAMINGO', 'FRIGATE', 'GAMBELS QUAIL', 'GANG GANG COCKATOO', 'GILA WOODPECKER', 'GILDED FLICKER', 'GLOSSY IBIS', 'GO AWAY BIRD', 'GOLD WING WARBLER', 'GOLDEN CHEEKED WARBLER', 'GOLDEN CHLOROPHONIA', 'GOLDEN EAGLE', 'GOLDEN PHEASANT', 'GOLDEN PIPIT', 'GOULDIAN FINCH', 'GRAY CATBIRD', 'GRAY KINGBIRD', 'GRAY PARTRIDGE', 'GREAT GRAY OWL', 'GREAT KISKADEE', 'GREAT POTOO', 'GREATOR SAGE GROUSE', 'GREEN BROADBILL', 'GREEN JAY', 'GREEN MAGPIE', 'GREY PLOVER', 'GROVED BILLED ANI', 'GUINEA TURACO', 'GUINEAFOWL', 'GYRFALCON', 'HARLEQUIN DUCK', 'HARPY EAGLE', 'HAWAIIAN GOOSE', 'HELMET VANGA', 'HIMALAYAN MONAL', 'HOATZIN', 'HOODED MERGANSER', 'HOOPOES', 'HORNBILL', 'HORNED GUAN', 'HORNED LARK', 'HORNED SUNGEM', 'HOUSE FINCH', 'HOUSE SPARROW', 'HYACINTH MACAW', 'IMPERIAL SHAQ', 'INCA TERN', 'INDIAN BUSTARD', 'INDIAN PITTA', 'INDIAN ROLLER', 'INDIGO BUNTING', 'IWI', 'JABIRU', 'JAVA SPARROW', 'KAGU', 'KAKAPO', 'KILLDEAR', 'KING VULTURE', 'KIWI', 'KOOKABURRA', 'LARK BUNTING', 'LAZULI BUNTING', 'LILAC ROLLER', 'LONG-EARED OWL', 'MAGPIE GOOSE', 'MALABAR HORNBILL', 'MALACHITE KINGFISHER', 'MALAGASY WHITE EYE', 'MALEO', 'MALLARD DUCK', 'MANDRIN DUCK', 'MANGROVE CUCKOO', 'MARABOU STORK', 'MASKED BOOBY', 'MASKED LAPWING', 'MIKADO  PHEASANT', 'MOURNING DOVE', 'MYNA', 'NICOBAR PIGEON', 'NOISY FRIARBIRD', 'NORTHERN CARDINAL', 'NORTHERN FLICKER', 'NORTHERN FULMAR', 'NORTHERN GANNET', 'NORTHERN GOSHAWK', 'NORTHERN JACANA', 'NORTHERN MOCKINGBIRD', 'NORTHERN PARULA', 'NORTHERN RED BISHOP', 'NORTHERN SHOVELER', 'OCELLATED TURKEY', 'OKINAWA RAIL', 'ORANGE BRESTED BUNTING', 'ORIENTAL BAY OWL', 'OSPREY', 'OSTRICH', 'OVENBIRD', 'OYSTER CATCHER', 'PAINTED BUNTIG', 'PALILA', 'PARADISE TANAGER', 'PARAKETT  AKULET', 'PARUS MAJOR', 'PATAGONIAN SIERRA FINCH', 'PEACOCK', 'PELICAN', 'PEREGRINE FALCON', 'PHILIPPINE EAGLE', 'PINK ROBIN', 'POMARINE JAEGER', 'PUFFIN', 'PURPLE FINCH', 'PURPLE GALLINULE', 'PURPLE MARTIN', 'PURPLE SWAMPHEN', 'PYGMY KINGFISHER', 'QUETZAL', 'RAINBOW LORIKEET', 'RAZORBILL', 'RED BEARDED BEE EATER', 'RED BELLIED PITTA', 'RED BROWED FINCH', 'RED FACED CORMORANT', 'RED FACED WARBLER', 'RED FODY', 'RED HEADED DUCK', 'RED HEADED WOODPECKER', 'RED HONEY CREEPER', 'RED NAPED TROGON', 'RED TAILED HAWK', 'RED TAILED THRUSH', 'RED WINGED BLACKBIRD', 'RED WISKERED BULBUL', 'REGENT BOWERBIRD', 'RING-NECKED PHEASANT', 'ROADRUNNER', 'ROBIN', 'ROCK DOVE', 'ROSY FACED LOVEBIRD', 'ROUGH LEG BUZZARD', 'ROYAL FLYCATCHER', 'RUBY THROATED HUMMINGBIRD', 'RUDY KINGFISHER', 'RUFOUS KINGFISHER', 'RUFUOS MOTMOT', 'SAMATRAN THRUSH', 'SAND MARTIN', 'SANDHILL CRANE', 'SATYR TRAGOPAN', 'SCARLET CROWNED FRUIT DOVE', 'SCARLET IBIS', 'SCARLET MACAW', 'SCARLET TANAGER', 'SHOEBILL', 'SHORT BILLED DOWITCHER', 'SMITHS LONGSPUR', 'SNOWY EGRET', 'SNOWY OWL', 'SORA', 'SPANGLED COTINGA', 'SPLENDID WREN', 'SPOON BILED SANDPIPER', 'SPOONBILL', 'SPOTTED CATBIRD', 'SRI LANKA BLUE MAGPIE', 'STEAMER DUCK', 'STORK BILLED KINGFISHER', 'STRAWBERRY FINCH', 'STRIPED OWL', 'STRIPPED MANAKIN', 'STRIPPED SWALLOW', 'SUPERB STARLING', 'SWINHOES PHEASANT', 'TAIWAN MAGPIE', 'TAKAHE', 'TASMANIAN HEN', 'TEAL DUCK', 'TIT MOUSE', 'TOUCHAN', 'TOWNSENDS WARBLER', 'TREE SWALLOW', 'TROPICAL KINGBIRD', 'TRUMPTER SWAN', 'TURKEY VULTURE', 'TURQUOISE MOTMOT', 'UMBRELLA BIRD', 'VARIED THRUSH', 'VENEZUELIAN TROUPIAL', 'VERMILION FLYCATHER', 'VICTORIA CROWNED PIGEON', 'VIOLET GREEN SWALLOW', 'VULTURINE GUINEAFOWL', 'WALL CREAPER', 'WATTLED CURASSOW', 'WHIMBREL', 'WHITE BROWED CRAKE', 'WHITE CHEEKED TURACO', 'WHITE NECKED RAVEN', 'WHITE TAILED TROPIC', 'WHITE THROATED BEE EATER', 'WILD TURKEY', 'WILSONS BIRD OF PARADISE', 'WOOD DUCK', 'YELLOW BELLIED FLOWERPECKER', 'YELLOW CACIQUE', 'YELLOW HEADED BLACKBIRD']\n"
     ]
    }
   ],
   "source": [
    "print(class_names)"
   ]
  },
  {
   "cell_type": "code",
   "execution_count": 103,
   "metadata": {},
   "outputs": [
    {
     "data": {
      "application/vnd.jupyter.widget-view+json": {
       "model_id": "1ad91e64df9b4a45946be45c82028841",
       "version_major": 2,
       "version_minor": 0
      },
      "text/plain": [
       "  0%|          | 0/5 [00:00<?, ?it/s]"
      ]
     },
     "metadata": {},
     "output_type": "display_data"
    },
    {
     "name": "stdout",
     "output_type": "stream",
     "text": [
      "Epoch: 1 | train_loss: 0.9968 | train_acc: 0.8117 | test_loss: 0.2003 | test_acc: 0.9730\n",
      "Epoch: 2 | train_loss: 0.2443 | train_acc: 0.9477 | test_loss: 0.1139 | test_acc: 0.9773\n",
      "Epoch: 3 | train_loss: 0.1464 | train_acc: 0.9687 | test_loss: 0.0942 | test_acc: 0.9778\n",
      "Epoch: 4 | train_loss: 0.0991 | train_acc: 0.9792 | test_loss: 0.0757 | test_acc: 0.9816\n",
      "Epoch: 5 | train_loss: 0.0703 | train_acc: 0.9850 | test_loss: 0.0770 | test_acc: 0.9772\n"
     ]
    }
   ],
   "source": [
    "from going_modular import engine\n",
    "\n",
    "# Setup optimizer \n",
    "optimizer = torch.optim.Adam(params=vit.parameters(),\n",
    "                             lr=1e-3)\n",
    "\n",
    "# Setup loss function\n",
    "loss_fn = torch.nn.CrossEntropyLoss()\n",
    "\n",
    "# Train ViT feature extractor with seeds set for reproducibility\n",
    "set_seeds()\n",
    "vit_results = engine.train(model=vit,\n",
    "                           train_dataloader=train_dataloader_vit,\n",
    "                           test_dataloader=test_dataloader_vit,\n",
    "                           epochs=5,\n",
    "                           optimizer=optimizer,\n",
    "                           loss_fn=loss_fn,\n",
    "                           device=device)"
   ]
  },
  {
   "cell_type": "code",
   "execution_count": 104,
   "metadata": {},
   "outputs": [
    {
     "data": {
      "image/png": "[encoded data removed]",
      "text/plain": [
       "<Figure size 1500x700 with 2 Axes>"
      ]
     },
     "metadata": {},
     "output_type": "display_data"
    }
   ],
   "source": [
    "from helper_functions import plot_loss_curves\n",
    "\n",
    "plot_loss_curves(vit_results)"
   ]
  },
  {
   "cell_type": "code",
   "execution_count": 105,
   "metadata": {},
   "outputs": [
    {
     "name": "stdout",
     "output_type": "stream",
     "text": [
      "[INFO] Saving model to: models/bird_classification_vit.pth\n"
     ]
    }
   ],
   "source": [
    "# Save model\n",
    "from going_modular import utils\n",
    "\n",
    "utils.save_model(model=vit,\n",
    "                 target_dir=\"models\",\n",
    "                 model_name=\"bird_classification_vit.pth\")"
   ]
  },
  {
   "cell_type": "code",
   "execution_count": 106,
   "metadata": {},
   "outputs": [],
   "source": [
    "torch.save(vit.state_dict(), \"model_bird_classification.pt\")"
   ]
  },
  {
   "cell_type": "code",
   "execution_count": 107,
   "metadata": {},
   "outputs": [
    {
     "name": "stdout",
     "output_type": "stream",
     "text": [
      "01_pytorch_workflow.ipynb\n",
      "02_pytorch_neural_network_classification.ipynb\n",
      "03_pytorch_computer_vision.ipynb\n",
      "04_PyTorch_Custom_Datasets.ipynb\n",
      "05_pytorch_going_modular_cell_mode.ipynb\n",
      "06_pytorch_transfer_learning.ipynb\n",
      "07_pytorch_experiment_tracking.ipynb\n",
      "08_pytorch_paper_replicating.ipynb\n",
      "09-foodvision-mini-inference-speed-vs-performance.png\n",
      "09_pytorch_model_deployment.ipynb\n",
      "bird_classification.ipynb\n",
      "car_models.ipynb\n",
      "data\n",
      "demos\n",
      "flagged\n",
      "going_modular\n",
      "helper_functions.py\n",
      "model_bird_classification_cnn.pt\n",
      "model_bird_classification.pt\n",
      "models\n",
      "__pycache__\n"
     ]
    }
   ],
   "source": [
    "!ls"
   ]
  },
  {
   "cell_type": "code",
   "execution_count": 108,
   "metadata": {},
   "outputs": [
    {
     "data": {
      "text/plain": [
       "86048581"
      ]
     },
     "execution_count": 108,
     "metadata": {},
     "output_type": "execute_result"
    }
   ],
   "source": [
    "# Count number of parameters in ViT \n",
    "vit_total_params = sum(torch.numel(param) for param in vit.parameters())\n",
    "vit_total_params"
   ]
  },
  {
   "cell_type": "code",
   "execution_count": 109,
   "metadata": {},
   "outputs": [
    {
     "name": "stdout",
     "output_type": "stream",
     "text": [
      "Pretrained ViT feature extractor model size: 328.30882358551025 MB\n"
     ]
    }
   ],
   "source": [
    "from pathlib import Path\n",
    "\n",
    "# Get the model size in bytes then convert to megabytes\n",
    "pretrained_vit_model_size = Path(\"models/bird_classification_vit.pth\").stat().st_size / (1024*1024)\n",
    "print(f\"Pretrained ViT feature extractor model size: {pretrained_vit_model_size} MB\")"
   ]
  },
  {
   "cell_type": "code",
   "execution_count": 110,
   "metadata": {},
   "outputs": [
    {
     "name": "stdout",
     "output_type": "stream",
     "text": [
      "Pretrained ViT feature extractor model size: 328.3091173171997 MB\n"
     ]
    }
   ],
   "source": [
    "from pathlib import Path\n",
    "\n",
    "# Get the model size in bytes then convert to megabytes\n",
    "pretrained_vit_model_size = Path(\"model_bird_classification.pt\").stat().st_size / (1024*1024)\n",
    "print(f\"Pretrained ViT feature extractor model size: {pretrained_vit_model_size} MB\")"
   ]
  },
  {
   "cell_type": "code",
   "execution_count": 111,
   "metadata": {},
   "outputs": [],
   "source": [
    "# Create ViT statistics dictionary\n",
    "vit_stats = {\"test_loss\": vit_results[\"test_loss\"][-1],\n",
    "             \"test_acc\": vit_results[\"test_acc\"][-1],\n",
    "             \"number_of_parameters\": vit_total_params,\n",
    "             \"model_size (MB)\": pretrained_vit_model_size}"
   ]
  },
  {
   "cell_type": "code",
   "execution_count": 112,
   "metadata": {},
   "outputs": [
    {
     "data": {
      "text/plain": [
       "{'test_loss': 0.0769666581980738,\n",
       " 'test_acc': 0.977156862745098,\n",
       " 'number_of_parameters': 86048581,\n",
       " 'model_size (MB)': 328.3091173171997}"
      ]
     },
     "execution_count": 112,
     "metadata": {},
     "output_type": "execute_result"
    }
   ],
   "source": [
    "vit_stats    # Details"
   ]
  },
  {
   "cell_type": "code",
   "execution_count": null,
   "metadata": {},
   "outputs": [],
   "source": []
  },
  {
   "cell_type": "markdown",
   "metadata": {},
   "source": [
    "### Using CNN model "
   ]
  },
  {
   "cell_type": "code",
   "execution_count": 38,
   "metadata": {},
   "outputs": [
    {
     "data": {
      "text/plain": [
       "Linear(in_features=2048, out_features=1000, bias=True)"
      ]
     },
     "execution_count": 38,
     "metadata": {},
     "output_type": "execute_result"
    }
   ],
   "source": [
    "# Check out the ViT heads layer\n",
    "cnn = torchvision.models.resnet50()\n",
    "cnn.fc"
   ]
  },
  {
   "cell_type": "code",
   "execution_count": 35,
   "metadata": {},
   "outputs": [],
   "source": [
    "def create_cnn_model(num_classes:int=325,\n",
    "                     seed:int=42):\n",
    "  # Create ViT_B_16 pretrained weights, transforms and model\n",
    "  weights = torchvision.models.ResNet50_Weights.DEFAULT\n",
    "  transforms = weights.transforms()\n",
    "  model = torchvision.models.resnet50(weights=weights)\n",
    "\n",
    "  # Freeze all of the base layers\n",
    "  for param in model.parameters():\n",
    "    param.requires_grad = False\n",
    "\n",
    "  # Change classifier head to suit our needs\n",
    "  torch.manual_seed(seed)\n",
    "  model.fc = nn.Sequential(nn.Linear(in_features=2048, \n",
    "                                        out_features=num_classes))\n",
    "  \n",
    "  return model, transforms"
   ]
  },
  {
   "cell_type": "code",
   "execution_count": 39,
   "metadata": {},
   "outputs": [
    {
     "data": {
      "text/plain": [
       "ImageClassification(\n",
       "    crop_size=[224]\n",
       "    resize_size=[232]\n",
       "    mean=[0.485, 0.456, 0.406]\n",
       "    std=[0.229, 0.224, 0.225]\n",
       "    interpolation=InterpolationMode.BILINEAR\n",
       ")"
      ]
     },
     "execution_count": 39,
     "metadata": {},
     "output_type": "execute_result"
    }
   ],
   "source": [
    "cnn, cnn_transforms = create_cnn_model()\n",
    "cnn_transforms"
   ]
  },
  {
   "cell_type": "code",
   "execution_count": 41,
   "metadata": {},
   "outputs": [
    {
     "data": {
      "text/plain": [
       "========================================================================================================================\n",
       "Layer (type (var_name))                  Input Shape          Output Shape         Param #              Trainable\n",
       "========================================================================================================================\n",
       "ResNet (ResNet)                          [1, 3, 224, 224]     [1, 325]             --                   Partial\n",
       "├─Conv2d (conv1)                         [1, 3, 224, 224]     [1, 64, 112, 112]    (9,408)              False\n",
       "├─BatchNorm2d (bn1)                      [1, 64, 112, 112]    [1, 64, 112, 112]    (128)                False\n",
       "├─ReLU (relu)                            [1, 64, 112, 112]    [1, 64, 112, 112]    --                   --\n",
       "├─MaxPool2d (maxpool)                    [1, 64, 112, 112]    [1, 64, 56, 56]      --                   --\n",
       "├─Sequential (layer1)                    [1, 64, 56, 56]      [1, 256, 56, 56]     --                   False\n",
       "│    └─Bottleneck (0)                    [1, 64, 56, 56]      [1, 256, 56, 56]     --                   False\n",
       "│    │    └─Conv2d (conv1)               [1, 64, 56, 56]      [1, 64, 56, 56]      (4,096)              False\n",
       "│    │    └─BatchNorm2d (bn1)            [1, 64, 56, 56]      [1, 64, 56, 56]      (128)                False\n",
       "│    │    └─ReLU (relu)                  [1, 64, 56, 56]      [1, 64, 56, 56]      --                   --\n",
       "│    │    └─Conv2d (conv2)               [1, 64, 56, 56]      [1, 64, 56, 56]      (36,864)             False\n",
       "│    │    └─BatchNorm2d (bn2)            [1, 64, 56, 56]      [1, 64, 56, 56]      (128)                False\n",
       "│    │    └─ReLU (relu)                  [1, 64, 56, 56]      [1, 64, 56, 56]      --                   --\n",
       "│    │    └─Conv2d (conv3)               [1, 64, 56, 56]      [1, 256, 56, 56]     (16,384)             False\n",
       "│    │    └─BatchNorm2d (bn3)            [1, 256, 56, 56]     [1, 256, 56, 56]     (512)                False\n",
       "│    │    └─Sequential (downsample)      [1, 64, 56, 56]      [1, 256, 56, 56]     (16,896)             False\n",
       "│    │    └─ReLU (relu)                  [1, 256, 56, 56]     [1, 256, 56, 56]     --                   --\n",
       "│    └─Bottleneck (1)                    [1, 256, 56, 56]     [1, 256, 56, 56]     --                   False\n",
       "│    │    └─Conv2d (conv1)               [1, 256, 56, 56]     [1, 64, 56, 56]      (16,384)             False\n",
       "│    │    └─BatchNorm2d (bn1)            [1, 64, 56, 56]      [1, 64, 56, 56]      (128)                False\n",
       "│    │    └─ReLU (relu)                  [1, 64, 56, 56]      [1, 64, 56, 56]      --                   --\n",
       "│    │    └─Conv2d (conv2)               [1, 64, 56, 56]      [1, 64, 56, 56]      (36,864)             False\n",
       "│    │    └─BatchNorm2d (bn2)            [1, 64, 56, 56]      [1, 64, 56, 56]      (128)                False\n",
       "│    │    └─ReLU (relu)                  [1, 64, 56, 56]      [1, 64, 56, 56]      --                   --\n",
       "│    │    └─Conv2d (conv3)               [1, 64, 56, 56]      [1, 256, 56, 56]     (16,384)             False\n",
       "│    │    └─BatchNorm2d (bn3)            [1, 256, 56, 56]     [1, 256, 56, 56]     (512)                False\n",
       "│    │    └─ReLU (relu)                  [1, 256, 56, 56]     [1, 256, 56, 56]     --                   --\n",
       "│    └─Bottleneck (2)                    [1, 256, 56, 56]     [1, 256, 56, 56]     --                   False\n",
       "│    │    └─Conv2d (conv1)               [1, 256, 56, 56]     [1, 64, 56, 56]      (16,384)             False\n",
       "│    │    └─BatchNorm2d (bn1)            [1, 64, 56, 56]      [1, 64, 56, 56]      (128)                False\n",
       "│    │    └─ReLU (relu)                  [1, 64, 56, 56]      [1, 64, 56, 56]      --                   --\n",
       "│    │    └─Conv2d (conv2)               [1, 64, 56, 56]      [1, 64, 56, 56]      (36,864)             False\n",
       "│    │    └─BatchNorm2d (bn2)            [1, 64, 56, 56]      [1, 64, 56, 56]      (128)                False\n",
       "│    │    └─ReLU (relu)                  [1, 64, 56, 56]      [1, 64, 56, 56]      --                   --\n",
       "│    │    └─Conv2d (conv3)               [1, 64, 56, 56]      [1, 256, 56, 56]     (16,384)             False\n",
       "│    │    └─BatchNorm2d (bn3)            [1, 256, 56, 56]     [1, 256, 56, 56]     (512)                False\n",
       "│    │    └─ReLU (relu)                  [1, 256, 56, 56]     [1, 256, 56, 56]     --                   --\n",
       "├─Sequential (layer2)                    [1, 256, 56, 56]     [1, 512, 28, 28]     --                   False\n",
       "│    └─Bottleneck (0)                    [1, 256, 56, 56]     [1, 512, 28, 28]     --                   False\n",
       "│    │    └─Conv2d (conv1)               [1, 256, 56, 56]     [1, 128, 56, 56]     (32,768)             False\n",
       "│    │    └─BatchNorm2d (bn1)            [1, 128, 56, 56]     [1, 128, 56, 56]     (256)                False\n",
       "│    │    └─ReLU (relu)                  [1, 128, 56, 56]     [1, 128, 56, 56]     --                   --\n",
       "│    │    └─Conv2d (conv2)               [1, 128, 56, 56]     [1, 128, 28, 28]     (147,456)            False\n",
       "│    │    └─BatchNorm2d (bn2)            [1, 128, 28, 28]     [1, 128, 28, 28]     (256)                False\n",
       "│    │    └─ReLU (relu)                  [1, 128, 28, 28]     [1, 128, 28, 28]     --                   --\n",
       "│    │    └─Conv2d (conv3)               [1, 128, 28, 28]     [1, 512, 28, 28]     (65,536)             False\n",
       "│    │    └─BatchNorm2d (bn3)            [1, 512, 28, 28]     [1, 512, 28, 28]     (1,024)              False\n",
       "│    │    └─Sequential (downsample)      [1, 256, 56, 56]     [1, 512, 28, 28]     (132,096)            False\n",
       "│    │    └─ReLU (relu)                  [1, 512, 28, 28]     [1, 512, 28, 28]     --                   --\n",
       "│    └─Bottleneck (1)                    [1, 512, 28, 28]     [1, 512, 28, 28]     --                   False\n",
       "│    │    └─Conv2d (conv1)               [1, 512, 28, 28]     [1, 128, 28, 28]     (65,536)             False\n",
       "│    │    └─BatchNorm2d (bn1)            [1, 128, 28, 28]     [1, 128, 28, 28]     (256)                False\n",
       "│    │    └─ReLU (relu)                  [1, 128, 28, 28]     [1, 128, 28, 28]     --                   --\n",
       "│    │    └─Conv2d (conv2)               [1, 128, 28, 28]     [1, 128, 28, 28]     (147,456)            False\n",
       "│    │    └─BatchNorm2d (bn2)            [1, 128, 28, 28]     [1, 128, 28, 28]     (256)                False\n",
       "│    │    └─ReLU (relu)                  [1, 128, 28, 28]     [1, 128, 28, 28]     --                   --\n",
       "│    │    └─Conv2d (conv3)               [1, 128, 28, 28]     [1, 512, 28, 28]     (65,536)             False\n",
       "│    │    └─BatchNorm2d (bn3)            [1, 512, 28, 28]     [1, 512, 28, 28]     (1,024)              False\n",
       "│    │    └─ReLU (relu)                  [1, 512, 28, 28]     [1, 512, 28, 28]     --                   --\n",
       "│    └─Bottleneck (2)                    [1, 512, 28, 28]     [1, 512, 28, 28]     --                   False\n",
       "│    │    └─Conv2d (conv1)               [1, 512, 28, 28]     [1, 128, 28, 28]     (65,536)             False\n",
       "│    │    └─BatchNorm2d (bn1)            [1, 128, 28, 28]     [1, 128, 28, 28]     (256)                False\n",
       "│    │    └─ReLU (relu)                  [1, 128, 28, 28]     [1, 128, 28, 28]     --                   --\n",
       "│    │    └─Conv2d (conv2)               [1, 128, 28, 28]     [1, 128, 28, 28]     (147,456)            False\n",
       "│    │    └─BatchNorm2d (bn2)            [1, 128, 28, 28]     [1, 128, 28, 28]     (256)                False\n",
       "│    │    └─ReLU (relu)                  [1, 128, 28, 28]     [1, 128, 28, 28]     --                   --\n",
       "│    │    └─Conv2d (conv3)               [1, 128, 28, 28]     [1, 512, 28, 28]     (65,536)             False\n",
       "│    │    └─BatchNorm2d (bn3)            [1, 512, 28, 28]     [1, 512, 28, 28]     (1,024)              False\n",
       "│    │    └─ReLU (relu)                  [1, 512, 28, 28]     [1, 512, 28, 28]     --                   --\n",
       "│    └─Bottleneck (3)                    [1, 512, 28, 28]     [1, 512, 28, 28]     --                   False\n",
       "│    │    └─Conv2d (conv1)               [1, 512, 28, 28]     [1, 128, 28, 28]     (65,536)             False\n",
       "│    │    └─BatchNorm2d (bn1)            [1, 128, 28, 28]     [1, 128, 28, 28]     (256)                False\n",
       "│    │    └─ReLU (relu)                  [1, 128, 28, 28]     [1, 128, 28, 28]     --                   --\n",
       "│    │    └─Conv2d (conv2)               [1, 128, 28, 28]     [1, 128, 28, 28]     (147,456)            False\n",
       "│    │    └─BatchNorm2d (bn2)            [1, 128, 28, 28]     [1, 128, 28, 28]     (256)                False\n",
       "│    │    └─ReLU (relu)                  [1, 128, 28, 28]     [1, 128, 28, 28]     --                   --\n",
       "│    │    └─Conv2d (conv3)               [1, 128, 28, 28]     [1, 512, 28, 28]     (65,536)             False\n",
       "│    │    └─BatchNorm2d (bn3)            [1, 512, 28, 28]     [1, 512, 28, 28]     (1,024)              False\n",
       "│    │    └─ReLU (relu)                  [1, 512, 28, 28]     [1, 512, 28, 28]     --                   --\n",
       "├─Sequential (layer3)                    [1, 512, 28, 28]     [1, 1024, 14, 14]    --                   False\n",
       "│    └─Bottleneck (0)                    [1, 512, 28, 28]     [1, 1024, 14, 14]    --                   False\n",
       "│    │    └─Conv2d (conv1)               [1, 512, 28, 28]     [1, 256, 28, 28]     (131,072)            False\n",
       "│    │    └─BatchNorm2d (bn1)            [1, 256, 28, 28]     [1, 256, 28, 28]     (512)                False\n",
       "│    │    └─ReLU (relu)                  [1, 256, 28, 28]     [1, 256, 28, 28]     --                   --\n",
       "│    │    └─Conv2d (conv2)               [1, 256, 28, 28]     [1, 256, 14, 14]     (589,824)            False\n",
       "│    │    └─BatchNorm2d (bn2)            [1, 256, 14, 14]     [1, 256, 14, 14]     (512)                False\n",
       "│    │    └─ReLU (relu)                  [1, 256, 14, 14]     [1, 256, 14, 14]     --                   --\n",
       "│    │    └─Conv2d (conv3)               [1, 256, 14, 14]     [1, 1024, 14, 14]    (262,144)            False\n",
       "│    │    └─BatchNorm2d (bn3)            [1, 1024, 14, 14]    [1, 1024, 14, 14]    (2,048)              False\n",
       "│    │    └─Sequential (downsample)      [1, 512, 28, 28]     [1, 1024, 14, 14]    (526,336)            False\n",
       "│    │    └─ReLU (relu)                  [1, 1024, 14, 14]    [1, 1024, 14, 14]    --                   --\n",
       "│    └─Bottleneck (1)                    [1, 1024, 14, 14]    [1, 1024, 14, 14]    --                   False\n",
       "│    │    └─Conv2d (conv1)               [1, 1024, 14, 14]    [1, 256, 14, 14]     (262,144)            False\n",
       "│    │    └─BatchNorm2d (bn1)            [1, 256, 14, 14]     [1, 256, 14, 14]     (512)                False\n",
       "│    │    └─ReLU (relu)                  [1, 256, 14, 14]     [1, 256, 14, 14]     --                   --\n",
       "│    │    └─Conv2d (conv2)               [1, 256, 14, 14]     [1, 256, 14, 14]     (589,824)            False\n",
       "│    │    └─BatchNorm2d (bn2)            [1, 256, 14, 14]     [1, 256, 14, 14]     (512)                False\n",
       "│    │    └─ReLU (relu)                  [1, 256, 14, 14]     [1, 256, 14, 14]     --                   --\n",
       "│    │    └─Conv2d (conv3)               [1, 256, 14, 14]     [1, 1024, 14, 14]    (262,144)            False\n",
       "│    │    └─BatchNorm2d (bn3)            [1, 1024, 14, 14]    [1, 1024, 14, 14]    (2,048)              False\n",
       "│    │    └─ReLU (relu)                  [1, 1024, 14, 14]    [1, 1024, 14, 14]    --                   --\n",
       "│    └─Bottleneck (2)                    [1, 1024, 14, 14]    [1, 1024, 14, 14]    --                   False\n",
       "│    │    └─Conv2d (conv1)               [1, 1024, 14, 14]    [1, 256, 14, 14]     (262,144)            False\n",
       "│    │    └─BatchNorm2d (bn1)            [1, 256, 14, 14]     [1, 256, 14, 14]     (512)                False\n",
       "│    │    └─ReLU (relu)                  [1, 256, 14, 14]     [1, 256, 14, 14]     --                   --\n",
       "│    │    └─Conv2d (conv2)               [1, 256, 14, 14]     [1, 256, 14, 14]     (589,824)            False\n",
       "│    │    └─BatchNorm2d (bn2)            [1, 256, 14, 14]     [1, 256, 14, 14]     (512)                False\n",
       "│    │    └─ReLU (relu)                  [1, 256, 14, 14]     [1, 256, 14, 14]     --                   --\n",
       "│    │    └─Conv2d (conv3)               [1, 256, 14, 14]     [1, 1024, 14, 14]    (262,144)            False\n",
       "│    │    └─BatchNorm2d (bn3)            [1, 1024, 14, 14]    [1, 1024, 14, 14]    (2,048)              False\n",
       "│    │    └─ReLU (relu)                  [1, 1024, 14, 14]    [1, 1024, 14, 14]    --                   --\n",
       "│    └─Bottleneck (3)                    [1, 1024, 14, 14]    [1, 1024, 14, 14]    --                   False\n",
       "│    │    └─Conv2d (conv1)               [1, 1024, 14, 14]    [1, 256, 14, 14]     (262,144)            False\n",
       "│    │    └─BatchNorm2d (bn1)            [1, 256, 14, 14]     [1, 256, 14, 14]     (512)                False\n",
       "│    │    └─ReLU (relu)                  [1, 256, 14, 14]     [1, 256, 14, 14]     --                   --\n",
       "│    │    └─Conv2d (conv2)               [1, 256, 14, 14]     [1, 256, 14, 14]     (589,824)            False\n",
       "│    │    └─BatchNorm2d (bn2)            [1, 256, 14, 14]     [1, 256, 14, 14]     (512)                False\n",
       "│    │    └─ReLU (relu)                  [1, 256, 14, 14]     [1, 256, 14, 14]     --                   --\n",
       "│    │    └─Conv2d (conv3)               [1, 256, 14, 14]     [1, 1024, 14, 14]    (262,144)            False\n",
       "│    │    └─BatchNorm2d (bn3)            [1, 1024, 14, 14]    [1, 1024, 14, 14]    (2,048)              False\n",
       "│    │    └─ReLU (relu)                  [1, 1024, 14, 14]    [1, 1024, 14, 14]    --                   --\n",
       "│    └─Bottleneck (4)                    [1, 1024, 14, 14]    [1, 1024, 14, 14]    --                   False\n",
       "│    │    └─Conv2d (conv1)               [1, 1024, 14, 14]    [1, 256, 14, 14]     (262,144)            False\n",
       "│    │    └─BatchNorm2d (bn1)            [1, 256, 14, 14]     [1, 256, 14, 14]     (512)                False\n",
       "│    │    └─ReLU (relu)                  [1, 256, 14, 14]     [1, 256, 14, 14]     --                   --\n",
       "│    │    └─Conv2d (conv2)               [1, 256, 14, 14]     [1, 256, 14, 14]     (589,824)            False\n",
       "│    │    └─BatchNorm2d (bn2)            [1, 256, 14, 14]     [1, 256, 14, 14]     (512)                False\n",
       "│    │    └─ReLU (relu)                  [1, 256, 14, 14]     [1, 256, 14, 14]     --                   --\n",
       "│    │    └─Conv2d (conv3)               [1, 256, 14, 14]     [1, 1024, 14, 14]    (262,144)            False\n",
       "│    │    └─BatchNorm2d (bn3)            [1, 1024, 14, 14]    [1, 1024, 14, 14]    (2,048)              False\n",
       "│    │    └─ReLU (relu)                  [1, 1024, 14, 14]    [1, 1024, 14, 14]    --                   --\n",
       "│    └─Bottleneck (5)                    [1, 1024, 14, 14]    [1, 1024, 14, 14]    --                   False\n",
       "│    │    └─Conv2d (conv1)               [1, 1024, 14, 14]    [1, 256, 14, 14]     (262,144)            False\n",
       "│    │    └─BatchNorm2d (bn1)            [1, 256, 14, 14]     [1, 256, 14, 14]     (512)                False\n",
       "│    │    └─ReLU (relu)                  [1, 256, 14, 14]     [1, 256, 14, 14]     --                   --\n",
       "│    │    └─Conv2d (conv2)               [1, 256, 14, 14]     [1, 256, 14, 14]     (589,824)            False\n",
       "│    │    └─BatchNorm2d (bn2)            [1, 256, 14, 14]     [1, 256, 14, 14]     (512)                False\n",
       "│    │    └─ReLU (relu)                  [1, 256, 14, 14]     [1, 256, 14, 14]     --                   --\n",
       "│    │    └─Conv2d (conv3)               [1, 256, 14, 14]     [1, 1024, 14, 14]    (262,144)            False\n",
       "│    │    └─BatchNorm2d (bn3)            [1, 1024, 14, 14]    [1, 1024, 14, 14]    (2,048)              False\n",
       "│    │    └─ReLU (relu)                  [1, 1024, 14, 14]    [1, 1024, 14, 14]    --                   --\n",
       "├─Sequential (layer4)                    [1, 1024, 14, 14]    [1, 2048, 7, 7]      --                   False\n",
       "│    └─Bottleneck (0)                    [1, 1024, 14, 14]    [1, 2048, 7, 7]      --                   False\n",
       "│    │    └─Conv2d (conv1)               [1, 1024, 14, 14]    [1, 512, 14, 14]     (524,288)            False\n",
       "│    │    └─BatchNorm2d (bn1)            [1, 512, 14, 14]     [1, 512, 14, 14]     (1,024)              False\n",
       "│    │    └─ReLU (relu)                  [1, 512, 14, 14]     [1, 512, 14, 14]     --                   --\n",
       "│    │    └─Conv2d (conv2)               [1, 512, 14, 14]     [1, 512, 7, 7]       (2,359,296)          False\n",
       "│    │    └─BatchNorm2d (bn2)            [1, 512, 7, 7]       [1, 512, 7, 7]       (1,024)              False\n",
       "│    │    └─ReLU (relu)                  [1, 512, 7, 7]       [1, 512, 7, 7]       --                   --\n",
       "│    │    └─Conv2d (conv3)               [1, 512, 7, 7]       [1, 2048, 7, 7]      (1,048,576)          False\n",
       "│    │    └─BatchNorm2d (bn3)            [1, 2048, 7, 7]      [1, 2048, 7, 7]      (4,096)              False\n",
       "│    │    └─Sequential (downsample)      [1, 1024, 14, 14]    [1, 2048, 7, 7]      (2,101,248)          False\n",
       "│    │    └─ReLU (relu)                  [1, 2048, 7, 7]      [1, 2048, 7, 7]      --                   --\n",
       "│    └─Bottleneck (1)                    [1, 2048, 7, 7]      [1, 2048, 7, 7]      --                   False\n",
       "│    │    └─Conv2d (conv1)               [1, 2048, 7, 7]      [1, 512, 7, 7]       (1,048,576)          False\n",
       "│    │    └─BatchNorm2d (bn1)            [1, 512, 7, 7]       [1, 512, 7, 7]       (1,024)              False\n",
       "│    │    └─ReLU (relu)                  [1, 512, 7, 7]       [1, 512, 7, 7]       --                   --\n",
       "│    │    └─Conv2d (conv2)               [1, 512, 7, 7]       [1, 512, 7, 7]       (2,359,296)          False\n",
       "│    │    └─BatchNorm2d (bn2)            [1, 512, 7, 7]       [1, 512, 7, 7]       (1,024)              False\n",
       "│    │    └─ReLU (relu)                  [1, 512, 7, 7]       [1, 512, 7, 7]       --                   --\n",
       "│    │    └─Conv2d (conv3)               [1, 512, 7, 7]       [1, 2048, 7, 7]      (1,048,576)          False\n",
       "│    │    └─BatchNorm2d (bn3)            [1, 2048, 7, 7]      [1, 2048, 7, 7]      (4,096)              False\n",
       "│    │    └─ReLU (relu)                  [1, 2048, 7, 7]      [1, 2048, 7, 7]      --                   --\n",
       "│    └─Bottleneck (2)                    [1, 2048, 7, 7]      [1, 2048, 7, 7]      --                   False\n",
       "│    │    └─Conv2d (conv1)               [1, 2048, 7, 7]      [1, 512, 7, 7]       (1,048,576)          False\n",
       "│    │    └─BatchNorm2d (bn1)            [1, 512, 7, 7]       [1, 512, 7, 7]       (1,024)              False\n",
       "│    │    └─ReLU (relu)                  [1, 512, 7, 7]       [1, 512, 7, 7]       --                   --\n",
       "│    │    └─Conv2d (conv2)               [1, 512, 7, 7]       [1, 512, 7, 7]       (2,359,296)          False\n",
       "│    │    └─BatchNorm2d (bn2)            [1, 512, 7, 7]       [1, 512, 7, 7]       (1,024)              False\n",
       "│    │    └─ReLU (relu)                  [1, 512, 7, 7]       [1, 512, 7, 7]       --                   --\n",
       "│    │    └─Conv2d (conv3)               [1, 512, 7, 7]       [1, 2048, 7, 7]      (1,048,576)          False\n",
       "│    │    └─BatchNorm2d (bn3)            [1, 2048, 7, 7]      [1, 2048, 7, 7]      (4,096)              False\n",
       "│    │    └─ReLU (relu)                  [1, 2048, 7, 7]      [1, 2048, 7, 7]      --                   --\n",
       "├─AdaptiveAvgPool2d (avgpool)            [1, 2048, 7, 7]      [1, 2048, 1, 1]      --                   --\n",
       "├─Sequential (fc)                        [1, 2048]            [1, 325]             --                   True\n",
       "│    └─Linear (0)                        [1, 2048]            [1, 325]             665,925              True\n",
       "========================================================================================================================\n",
       "Total params: 24,173,957\n",
       "Trainable params: 665,925\n",
       "Non-trainable params: 23,508,032\n",
       "Total mult-adds (G): 4.09\n",
       "========================================================================================================================\n",
       "Input size (MB): 0.60\n",
       "Forward/backward pass size (MB): 177.83\n",
       "Params size (MB): 96.70\n",
       "Estimated Total Size (MB): 275.12\n",
       "========================================================================================================================"
      ]
     },
     "execution_count": 41,
     "metadata": {},
     "output_type": "execute_result"
    }
   ],
   "source": [
    "# from torchinfo import summary\n",
    "\n",
    "# Print ViT model summary (uncomment for full output) \n",
    "summary(cnn, \n",
    "        input_size=(1, 3, 224, 224),\n",
    "        col_names=[\"input_size\", \"output_size\", \"num_params\", \"trainable\"],\n",
    "        col_width=20,\n",
    "        row_settings=[\"var_names\"])"
   ]
  },
  {
   "cell_type": "code",
   "execution_count": 78,
   "metadata": {},
   "outputs": [
    {
     "data": {
      "text/plain": [
       "(1480,\n",
       " 51,\n",
       " ['AFRICAN CROWNED CRANE',\n",
       "  'AFRICAN FIREFINCH',\n",
       "  'ALBATROSS',\n",
       "  'ALEXANDRINE PARAKEET',\n",
       "  'AMERICAN AVOCET',\n",
       "  'AMERICAN BITTERN',\n",
       "  'AMERICAN COOT',\n",
       "  'AMERICAN GOLDFINCH',\n",
       "  'AMERICAN KESTREL',\n",
       "  'AMERICAN PIPIT',\n",
       "  'AMERICAN REDSTART',\n",
       "  'ANHINGA',\n",
       "  'ANNAS HUMMINGBIRD',\n",
       "  'ANTBIRD',\n",
       "  'ARARIPE MANAKIN',\n",
       "  'ASIAN CRESTED IBIS',\n",
       "  'BALD EAGLE',\n",
       "  'BALD IBIS',\n",
       "  'BALI STARLING',\n",
       "  'BALTIMORE ORIOLE',\n",
       "  'BANANAQUIT',\n",
       "  'BANDED BROADBILL',\n",
       "  'BANDED PITA',\n",
       "  'BAR-TAILED GODWIT',\n",
       "  'BARN OWL',\n",
       "  'BARN SWALLOW',\n",
       "  'BARRED PUFFBIRD',\n",
       "  'BAY-BREASTED WARBLER',\n",
       "  'BEARDED BARBET',\n",
       "  'BEARDED BELLBIRD',\n",
       "  'BEARDED REEDLING',\n",
       "  'BELTED KINGFISHER',\n",
       "  'BIRD OF PARADISE',\n",
       "  'BLACK & YELLOW bROADBILL',\n",
       "  'BLACK BAZA',\n",
       "  'BLACK FRANCOLIN',\n",
       "  'BLACK SKIMMER',\n",
       "  'BLACK SWAN',\n",
       "  'BLACK TAIL CRAKE',\n",
       "  'BLACK THROATED BUSHTIT',\n",
       "  'BLACK THROATED WARBLER',\n",
       "  'BLACK VULTURE',\n",
       "  'BLACK-CAPPED CHICKADEE',\n",
       "  'BLACK-NECKED GREBE',\n",
       "  'BLACK-THROATED SPARROW',\n",
       "  'BLACKBURNIAM WARBLER',\n",
       "  'BLONDE CRESTED WOODPECKER',\n",
       "  'BLUE COAU',\n",
       "  'BLUE GROUSE',\n",
       "  'BLUE HERON',\n",
       "  'BLUE THROATED TOUCANET',\n",
       "  'BOBOLINK',\n",
       "  'BORNEAN BRISTLEHEAD',\n",
       "  'BORNEAN LEAFBIRD',\n",
       "  'BORNEAN PHEASANT',\n",
       "  'BRANDT CORMARANT',\n",
       "  'BROWN CREPPER',\n",
       "  'BROWN NOODY',\n",
       "  'BROWN THRASHER',\n",
       "  'BULWERS PHEASANT',\n",
       "  'CACTUS WREN',\n",
       "  'CALIFORNIA CONDOR',\n",
       "  'CALIFORNIA GULL',\n",
       "  'CALIFORNIA QUAIL',\n",
       "  'CANARY',\n",
       "  'CAPE GLOSSY STARLING',\n",
       "  'CAPE MAY WARBLER',\n",
       "  'CAPPED HERON',\n",
       "  'CAPUCHINBIRD',\n",
       "  'CARMINE BEE-EATER',\n",
       "  'CASPIAN TERN',\n",
       "  'CASSOWARY',\n",
       "  'CEDAR WAXWING',\n",
       "  'CERULEAN WARBLER',\n",
       "  'CHARA DE COLLAR',\n",
       "  'CHESTNET BELLIED EUPHONIA',\n",
       "  'CHIPPING SPARROW',\n",
       "  'CHUKAR PARTRIDGE',\n",
       "  'CINNAMON TEAL',\n",
       "  'CLARKS NUTCRACKER',\n",
       "  'COCK OF THE  ROCK',\n",
       "  'COCKATOO',\n",
       "  'COLLARED ARACARI',\n",
       "  'COMMON FIRECREST',\n",
       "  'COMMON GRACKLE',\n",
       "  'COMMON HOUSE MARTIN',\n",
       "  'COMMON LOON',\n",
       "  'COMMON POORWILL',\n",
       "  'COMMON STARLING',\n",
       "  'COUCHS KINGBIRD',\n",
       "  'CRESTED AUKLET',\n",
       "  'CRESTED CARACARA',\n",
       "  'CRESTED NUTHATCH',\n",
       "  'CRIMSON SUNBIRD',\n",
       "  'CROW',\n",
       "  'CROWNED PIGEON',\n",
       "  'CUBAN TODY',\n",
       "  'CUBAN TROGON',\n",
       "  'CURL CRESTED ARACURI',\n",
       "  'D-ARNAUDS BARBET',\n",
       "  'DARK EYED JUNCO',\n",
       "  'DOUBLE BARRED FINCH',\n",
       "  'DOUBLE BRESTED CORMARANT',\n",
       "  'DOWNY WOODPECKER',\n",
       "  'EASTERN BLUEBIRD',\n",
       "  'EASTERN MEADOWLARK',\n",
       "  'EASTERN ROSELLA',\n",
       "  'EASTERN TOWEE',\n",
       "  'ELEGANT TROGON',\n",
       "  'ELLIOTS  PHEASANT',\n",
       "  'EMPEROR PENGUIN',\n",
       "  'EMU',\n",
       "  'ENGGANO MYNA',\n",
       "  'EURASIAN GOLDEN ORIOLE',\n",
       "  'EURASIAN MAGPIE',\n",
       "  'EVENING GROSBEAK',\n",
       "  'FAIRY BLUEBIRD',\n",
       "  'FIRE TAILLED MYZORNIS',\n",
       "  'FLAME TANAGER',\n",
       "  'FLAMINGO',\n",
       "  'FRIGATE',\n",
       "  'GAMBELS QUAIL',\n",
       "  'GANG GANG COCKATOO',\n",
       "  'GILA WOODPECKER',\n",
       "  'GILDED FLICKER',\n",
       "  'GLOSSY IBIS',\n",
       "  'GO AWAY BIRD',\n",
       "  'GOLD WING WARBLER',\n",
       "  'GOLDEN CHEEKED WARBLER',\n",
       "  'GOLDEN CHLOROPHONIA',\n",
       "  'GOLDEN EAGLE',\n",
       "  'GOLDEN PHEASANT',\n",
       "  'GOLDEN PIPIT',\n",
       "  'GOULDIAN FINCH',\n",
       "  'GRAY CATBIRD',\n",
       "  'GRAY KINGBIRD',\n",
       "  'GRAY PARTRIDGE',\n",
       "  'GREAT GRAY OWL',\n",
       "  'GREAT KISKADEE',\n",
       "  'GREAT POTOO',\n",
       "  'GREATOR SAGE GROUSE',\n",
       "  'GREEN BROADBILL',\n",
       "  'GREEN JAY',\n",
       "  'GREEN MAGPIE',\n",
       "  'GREY PLOVER',\n",
       "  'GROVED BILLED ANI',\n",
       "  'GUINEA TURACO',\n",
       "  'GUINEAFOWL',\n",
       "  'GYRFALCON',\n",
       "  'HARLEQUIN DUCK',\n",
       "  'HARPY EAGLE',\n",
       "  'HAWAIIAN GOOSE',\n",
       "  'HELMET VANGA',\n",
       "  'HIMALAYAN MONAL',\n",
       "  'HOATZIN',\n",
       "  'HOODED MERGANSER',\n",
       "  'HOOPOES',\n",
       "  'HORNBILL',\n",
       "  'HORNED GUAN',\n",
       "  'HORNED LARK',\n",
       "  'HORNED SUNGEM',\n",
       "  'HOUSE FINCH',\n",
       "  'HOUSE SPARROW',\n",
       "  'HYACINTH MACAW',\n",
       "  'IMPERIAL SHAQ',\n",
       "  'INCA TERN',\n",
       "  'INDIAN BUSTARD',\n",
       "  'INDIAN PITTA',\n",
       "  'INDIAN ROLLER',\n",
       "  'INDIGO BUNTING',\n",
       "  'IWI',\n",
       "  'JABIRU',\n",
       "  'JAVA SPARROW',\n",
       "  'KAGU',\n",
       "  'KAKAPO',\n",
       "  'KILLDEAR',\n",
       "  'KING VULTURE',\n",
       "  'KIWI',\n",
       "  'KOOKABURRA',\n",
       "  'LARK BUNTING',\n",
       "  'LAZULI BUNTING',\n",
       "  'LILAC ROLLER',\n",
       "  'LONG-EARED OWL',\n",
       "  'MAGPIE GOOSE',\n",
       "  'MALABAR HORNBILL',\n",
       "  'MALACHITE KINGFISHER',\n",
       "  'MALAGASY WHITE EYE',\n",
       "  'MALEO',\n",
       "  'MALLARD DUCK',\n",
       "  'MANDRIN DUCK',\n",
       "  'MANGROVE CUCKOO',\n",
       "  'MARABOU STORK',\n",
       "  'MASKED BOOBY',\n",
       "  'MASKED LAPWING',\n",
       "  'MIKADO  PHEASANT',\n",
       "  'MOURNING DOVE',\n",
       "  'MYNA',\n",
       "  'NICOBAR PIGEON',\n",
       "  'NOISY FRIARBIRD',\n",
       "  'NORTHERN CARDINAL',\n",
       "  'NORTHERN FLICKER',\n",
       "  'NORTHERN FULMAR',\n",
       "  'NORTHERN GANNET',\n",
       "  'NORTHERN GOSHAWK',\n",
       "  'NORTHERN JACANA',\n",
       "  'NORTHERN MOCKINGBIRD',\n",
       "  'NORTHERN PARULA',\n",
       "  'NORTHERN RED BISHOP',\n",
       "  'NORTHERN SHOVELER',\n",
       "  'OCELLATED TURKEY',\n",
       "  'OKINAWA RAIL',\n",
       "  'ORANGE BRESTED BUNTING',\n",
       "  'ORIENTAL BAY OWL',\n",
       "  'OSPREY',\n",
       "  'OSTRICH',\n",
       "  'OVENBIRD',\n",
       "  'OYSTER CATCHER',\n",
       "  'PAINTED BUNTIG',\n",
       "  'PALILA',\n",
       "  'PARADISE TANAGER',\n",
       "  'PARAKETT  AKULET',\n",
       "  'PARUS MAJOR',\n",
       "  'PATAGONIAN SIERRA FINCH',\n",
       "  'PEACOCK',\n",
       "  'PELICAN',\n",
       "  'PEREGRINE FALCON',\n",
       "  'PHILIPPINE EAGLE',\n",
       "  'PINK ROBIN',\n",
       "  'POMARINE JAEGER',\n",
       "  'PUFFIN',\n",
       "  'PURPLE FINCH',\n",
       "  'PURPLE GALLINULE',\n",
       "  'PURPLE MARTIN',\n",
       "  'PURPLE SWAMPHEN',\n",
       "  'PYGMY KINGFISHER',\n",
       "  'QUETZAL',\n",
       "  'RAINBOW LORIKEET',\n",
       "  'RAZORBILL',\n",
       "  'RED BEARDED BEE EATER',\n",
       "  'RED BELLIED PITTA',\n",
       "  'RED BROWED FINCH',\n",
       "  'RED FACED CORMORANT',\n",
       "  'RED FACED WARBLER',\n",
       "  'RED FODY',\n",
       "  'RED HEADED DUCK',\n",
       "  'RED HEADED WOODPECKER',\n",
       "  'RED HONEY CREEPER',\n",
       "  'RED NAPED TROGON',\n",
       "  'RED TAILED HAWK',\n",
       "  'RED TAILED THRUSH',\n",
       "  'RED WINGED BLACKBIRD',\n",
       "  'RED WISKERED BULBUL',\n",
       "  'REGENT BOWERBIRD',\n",
       "  'RING-NECKED PHEASANT',\n",
       "  'ROADRUNNER',\n",
       "  'ROBIN',\n",
       "  'ROCK DOVE',\n",
       "  'ROSY FACED LOVEBIRD',\n",
       "  'ROUGH LEG BUZZARD',\n",
       "  'ROYAL FLYCATCHER',\n",
       "  'RUBY THROATED HUMMINGBIRD',\n",
       "  'RUDY KINGFISHER',\n",
       "  'RUFOUS KINGFISHER',\n",
       "  'RUFUOS MOTMOT',\n",
       "  'SAMATRAN THRUSH',\n",
       "  'SAND MARTIN',\n",
       "  'SANDHILL CRANE',\n",
       "  'SATYR TRAGOPAN',\n",
       "  'SCARLET CROWNED FRUIT DOVE',\n",
       "  'SCARLET IBIS',\n",
       "  'SCARLET MACAW',\n",
       "  'SCARLET TANAGER',\n",
       "  'SHOEBILL',\n",
       "  'SHORT BILLED DOWITCHER',\n",
       "  'SMITHS LONGSPUR',\n",
       "  'SNOWY EGRET',\n",
       "  'SNOWY OWL',\n",
       "  'SORA',\n",
       "  'SPANGLED COTINGA',\n",
       "  'SPLENDID WREN',\n",
       "  'SPOON BILED SANDPIPER',\n",
       "  'SPOONBILL',\n",
       "  'SPOTTED CATBIRD',\n",
       "  'SRI LANKA BLUE MAGPIE',\n",
       "  'STEAMER DUCK',\n",
       "  'STORK BILLED KINGFISHER',\n",
       "  'STRAWBERRY FINCH',\n",
       "  'STRIPED OWL',\n",
       "  'STRIPPED MANAKIN',\n",
       "  'STRIPPED SWALLOW',\n",
       "  'SUPERB STARLING',\n",
       "  'SWINHOES PHEASANT',\n",
       "  'TAIWAN MAGPIE',\n",
       "  'TAKAHE',\n",
       "  'TASMANIAN HEN',\n",
       "  'TEAL DUCK',\n",
       "  'TIT MOUSE',\n",
       "  'TOUCHAN',\n",
       "  'TOWNSENDS WARBLER',\n",
       "  'TREE SWALLOW',\n",
       "  'TROPICAL KINGBIRD',\n",
       "  'TRUMPTER SWAN',\n",
       "  'TURKEY VULTURE',\n",
       "  'TURQUOISE MOTMOT',\n",
       "  'UMBRELLA BIRD',\n",
       "  'VARIED THRUSH',\n",
       "  'VENEZUELIAN TROUPIAL',\n",
       "  'VERMILION FLYCATHER',\n",
       "  'VICTORIA CROWNED PIGEON',\n",
       "  'VIOLET GREEN SWALLOW',\n",
       "  'VULTURINE GUINEAFOWL',\n",
       "  'WALL CREAPER',\n",
       "  'WATTLED CURASSOW',\n",
       "  'WHIMBREL',\n",
       "  'WHITE BROWED CRAKE',\n",
       "  'WHITE CHEEKED TURACO',\n",
       "  'WHITE NECKED RAVEN',\n",
       "  'WHITE TAILED TROPIC',\n",
       "  'WHITE THROATED BEE EATER',\n",
       "  'WILD TURKEY',\n",
       "  'WILSONS BIRD OF PARADISE',\n",
       "  'WOOD DUCK',\n",
       "  'YELLOW BELLIED FLOWERPECKER',\n",
       "  'YELLOW CACIQUE',\n",
       "  'YELLOW HEADED BLACKBIRD'])"
      ]
     },
     "execution_count": 78,
     "metadata": {},
     "output_type": "execute_result"
    }
   ],
   "source": [
    "# Setup ViT DataLoaders \n",
    "from going_modular import data_setup\n",
    "train_dataloader_cnn, test_dataloader_cnn, class_names = data_setup.create_dataloaders(train_dir=train_dir,\n",
    "                                                                                       test_dir=test_dir,\n",
    "                                                                                       transform=cnn_transforms,\n",
    "                                                                                       batch_size=32)\n",
    "len(train_dataloader_cnn), len(test_dataloader_cnn), class_names"
   ]
  },
  {
   "cell_type": "code",
   "execution_count": 79,
   "metadata": {},
   "outputs": [
    {
     "data": {
      "text/plain": [
       "325"
      ]
     },
     "execution_count": 79,
     "metadata": {},
     "output_type": "execute_result"
    }
   ],
   "source": [
    "len(class_names)"
   ]
  },
  {
   "cell_type": "code",
   "execution_count": 45,
   "metadata": {},
   "outputs": [
    {
     "data": {
      "application/vnd.jupyter.widget-view+json": {
       "model_id": "a57bd6c5cca14446922ee0d71bbbec30",
       "version_major": 2,
       "version_minor": 0
      },
      "text/plain": [
       "  0%|          | 0/5 [00:00<?, ?it/s]"
      ]
     },
     "metadata": {},
     "output_type": "display_data"
    },
    {
     "name": "stdout",
     "output_type": "stream",
     "text": [
      "Epoch: 1 | train_loss: 1.8273 | train_acc: 0.7126 | test_loss: 0.5378 | test_acc: 0.9246\n",
      "Epoch: 2 | train_loss: 0.4613 | train_acc: 0.9224 | test_loss: 0.3216 | test_acc: 0.9541\n",
      "Epoch: 3 | train_loss: 0.2523 | train_acc: 0.9597 | test_loss: 0.2852 | test_acc: 0.9525\n",
      "Epoch: 4 | train_loss: 0.1544 | train_acc: 0.9788 | test_loss: 0.2106 | test_acc: 0.9647\n",
      "Epoch: 5 | train_loss: 0.1012 | train_acc: 0.9872 | test_loss: 0.1971 | test_acc: 0.9633\n"
     ]
    }
   ],
   "source": [
    "from going_modular import engine\n",
    "\n",
    "# Setup optimizer \n",
    "optimizer = torch.optim.Adam(params=cnn.parameters(),\n",
    "                             lr=1e-3)\n",
    "\n",
    "# Setup loss function\n",
    "loss_fn = torch.nn.CrossEntropyLoss()\n",
    "\n",
    "# Train ViT feature extractor with seeds set for reproducibility\n",
    "set_seeds()\n",
    "vit_results = engine.train(model=cnn,\n",
    "                           train_dataloader=train_dataloader_cnn,\n",
    "                           test_dataloader=test_dataloader_cnn,\n",
    "                           epochs=5,\n",
    "                           optimizer=optimizer,\n",
    "                           loss_fn=loss_fn,\n",
    "                           device=device)"
   ]
  },
  {
   "cell_type": "code",
   "execution_count": 46,
   "metadata": {},
   "outputs": [
    {
     "data": {
      "image/png": "[encoded data removed]",
      "text/plain": [
       "<Figure size 1500x700 with 2 Axes>"
      ]
     },
     "metadata": {},
     "output_type": "display_data"
    }
   ],
   "source": [
    "from helper_functions import plot_loss_curves\n",
    "\n",
    "plot_loss_curves(vit_results)\n",
    "\n"
   ]
  },
  {
   "cell_type": "code",
   "execution_count": 47,
   "metadata": {},
   "outputs": [
    {
     "name": "stdout",
     "output_type": "stream",
     "text": [
      "[INFO] Saving model to: models/bird_classification_cnn.pth\n"
     ]
    }
   ],
   "source": [
    "# Save model\n",
    "from going_modular import utils\n",
    "\n",
    "utils.save_model(model=cnn,\n",
    "                 target_dir=\"models\",\n",
    "                 model_name=\"bird_classification_cnn.pth\")"
   ]
  },
  {
   "cell_type": "code",
   "execution_count": 48,
   "metadata": {},
   "outputs": [],
   "source": [
    "torch.save(cnn.state_dict(), \"model_bird_classification_cnn.pt\")"
   ]
  },
  {
   "cell_type": "code",
   "execution_count": 49,
   "metadata": {},
   "outputs": [
    {
     "data": {
      "text/plain": [
       "24173957"
      ]
     },
     "execution_count": 49,
     "metadata": {},
     "output_type": "execute_result"
    }
   ],
   "source": [
    "# Count number of parameters in ViT \n",
    "vit_total_params = sum(torch.numel(param) for param in cnn.parameters())\n",
    "vit_total_params"
   ]
  },
  {
   "cell_type": "code",
   "execution_count": 52,
   "metadata": {},
   "outputs": [
    {
     "name": "stdout",
     "output_type": "stream",
     "text": [
      "Pretrained CNN model size: 92.52377414703369 MB\n"
     ]
    }
   ],
   "source": [
    "from pathlib import Path\n",
    "\n",
    "# Get the model size in bytes then convert to megabytes\n",
    "pretrained_cnn_model_size = Path(\"models/bird_classification_cnn.pth\").stat().st_size / (1024*1024)\n",
    "print(f\"Pretrained CNN model size: {pretrained_cnn_model_size} MB\")"
   ]
  },
  {
   "cell_type": "code",
   "execution_count": 53,
   "metadata": {},
   "outputs": [
    {
     "data": {
      "text/plain": [
       "{'test_loss': 0.19706711910811125,\n",
       " 'test_acc': 0.9633333333333334,\n",
       " 'number_of_parameters': 24173957,\n",
       " 'model_size (MB)': 92.52377414703369}"
      ]
     },
     "execution_count": 53,
     "metadata": {},
     "output_type": "execute_result"
    }
   ],
   "source": [
    "# Create ViT statistics dictionary\n",
    "cnn_stats = {\"test_loss\": vit_results[\"test_loss\"][-1],\n",
    "             \"test_acc\": vit_results[\"test_acc\"][-1],\n",
    "             \"number_of_parameters\": vit_total_params,\n",
    "             \"model_size (MB)\": pretrained_cnn_model_size}\n",
    "cnn_stats"
   ]
  },
  {
   "cell_type": "code",
   "execution_count": 54,
   "metadata": {},
   "outputs": [
    {
     "data": {
      "text/plain": [
       "{'test_loss': 0.0769666581980738,\n",
       " 'test_acc': 0.977156862745098,\n",
       " 'number_of_parameters': 86048581,\n",
       " 'model_size (MB)': 328.3091173171997}"
      ]
     },
     "execution_count": 54,
     "metadata": {},
     "output_type": "execute_result"
    }
   ],
   "source": [
    "vit_stats # Details"
   ]
  },
  {
   "cell_type": "markdown",
   "metadata": {},
   "source": [
    "### Predictions"
   ]
  },
  {
   "cell_type": "code",
   "execution_count": 56,
   "metadata": {},
   "outputs": [
    {
     "data": {
      "text/plain": [
       "[PosixPath('data/bird_species_classification/test/NORTHERN CARDINAL/4.jpg'),\n",
       " PosixPath('data/bird_species_classification/test/NORTHERN CARDINAL/3.jpg'),\n",
       " PosixPath('data/bird_species_classification/test/NORTHERN CARDINAL/5.jpg'),\n",
       " PosixPath('data/bird_species_classification/test/NORTHERN CARDINAL/1.jpg'),\n",
       " PosixPath('data/bird_species_classification/test/NORTHERN CARDINAL/2.jpg')]"
      ]
     },
     "execution_count": 56,
     "metadata": {},
     "output_type": "execute_result"
    }
   ],
   "source": [
    "from pathlib import Path\n",
    "\n",
    "# Get all test data paths\n",
    "test_data_paths = list(Path(test_dir).glob(\"*/*.jpg\"))\n",
    "test_data_paths[:5]"
   ]
  },
  {
   "cell_type": "markdown",
   "metadata": {},
   "source": [
    "##Prediction on Transformer"
   ]
  },
  {
   "cell_type": "code",
   "execution_count": 57,
   "metadata": {},
   "outputs": [],
   "source": [
    "#%%writefile going_modular/pred_and_store.py \n",
    "import pathlib\n",
    "import torch\n",
    "\n",
    "from PIL import Image\n",
    "from timeit import default_timer as timer # https://docs.python.org/3/library/timeit.html#timeit.default_timer \n",
    "from tqdm.auto import tqdm\n",
    "from typing import List, Dict\n",
    "\n",
    "# 1. Create a function that takes a list of paths and a trained PyTorch and a series of transforms a list of target class names and a target device.\n",
    "def pred_and_store(paths: List[pathlib.Path],\n",
    "                   model: torch.nn.Module,\n",
    "                   transform: torchvision.transforms,\n",
    "                   class_names: List[str],\n",
    "                   device: str = \"cuda\" if torch.cuda.is_available() else \"cpu\") -> List[Dict]:\n",
    "  \n",
    "  # 2. Create an empty list (can return a full list of all predictions later).\n",
    "  pred_list = []\n",
    "\n",
    "  # 3. Loop through the target input paths (the rest of the steps will take place inside the loop).\n",
    "  for path in tqdm(paths):\n",
    "\n",
    "    # 4. Create an empty dictionary for each sample (prediction statistics will go in here). \n",
    "    pred_dict = {}\n",
    "\n",
    "    # 5. Get the sample path and ground truth class from the filepath.\n",
    "    pred_dict[\"image_path\"] = path\n",
    "    class_name = path.parent.stem\n",
    "    pred_dict[\"class_name\"] = class_name\n",
    "\n",
    "    # 6. Start the prediction timer.\n",
    "    start_time = timer()\n",
    "\n",
    "    # 7. Open the image using Image.open(path)\n",
    "    img = Image.open(path)\n",
    "\n",
    "    # 8. Transform the image to be usable with a given model (also add a batch dimension and send to target device)\n",
    "    transformed_image = transform(img).unsqueeze(0).to(device)\n",
    "\n",
    "    # 9. Prepare the model model for inference by sending to the target device and turning on eval() mode.\n",
    "    model = model.to(device)\n",
    "    model.eval()\n",
    "\n",
    "    # 10. Turn on `torch.inference_mode()` and pass the target transformed image to the model and perform forward pass + calculate pred prob + pred class.\n",
    "    with torch.inference_mode():\n",
    "      pred_logit = model(transformed_image)\n",
    "      pred_prob = torch.softmax(pred_logit, dim=1) # turn logits into predicition probabilities\n",
    "      pred_label = torch.argmax(pred_prob, dim=1) # turn prediction probability into prediction label\n",
    "      pred_class = class_names[pred_label.cpu()] # hardcode prediction class to be on CPU (Python variables live on CPU)\n",
    "  \n",
    "      # 11. Add the pred prob + pred class to empty dictionary from step 4. \n",
    "      pred_dict[\"pred_prob\"] = round(pred_prob.unsqueeze(0).max().cpu().item(), 4)\n",
    "      pred_dict[\"pred_class\"] = pred_class\n",
    "\n",
    "      # 12. End the prediction timer started in step 6 and add the time to the prediction dictionary.\n",
    "      end_time = timer()\n",
    "      pred_dict[\"time_for_pred\"] = round(end_time-start_time, 4)\n",
    "\n",
    "    # 13. See if the predicted class matches the ground truth class. \n",
    "    pred_dict[\"correct\"] = class_name == pred_class\n",
    "\n",
    "    # 14. Append the updated prediction dictionary to the empty list of predictions we created in step 2. \n",
    "    pred_list.append(pred_dict) \n",
    "\n",
    "  # 15. Return the list of prediction dictionaries.\n",
    "  return pred_list"
   ]
  },
  {
   "cell_type": "code",
   "execution_count": 68,
   "metadata": {},
   "outputs": [
    {
     "data": {
      "application/vnd.jupyter.widget-view+json": {
       "model_id": "9b80cc4c8db24c88810448fc49bc7050",
       "version_major": 2,
       "version_minor": 0
      },
      "text/plain": [
       "  0%|          | 0/1625 [00:00<?, ?it/s]"
      ]
     },
     "metadata": {},
     "output_type": "display_data"
    }
   ],
   "source": [
    "# Make predictions test dataset with Transformer\n",
    "cnn_test_pred_dicts = pred_and_store(paths=test_data_paths,\n",
    "                                          model=cnn,\n",
    "                                          transform=cnn_transforms,\n",
    "                                          class_names=class_names,\n",
    "                                          device=\"cpu\") # hardcode predictions to happen on CPU"
   ]
  },
  {
   "cell_type": "code",
   "execution_count": 69,
   "metadata": {},
   "outputs": [
    {
     "data": {
      "text/html": [
       "<div>\n",
       "<style scoped>\n",
       "    .dataframe tbody tr th:only-of-type {\n",
       "        vertical-align: middle;\n",
       "    }\n",
       "\n",
       "    .dataframe tbody tr th {\n",
       "        vertical-align: top;\n",
       "    }\n",
       "\n",
       "    .dataframe thead th {\n",
       "        text-align: right;\n",
       "    }\n",
       "</style>\n",
       "<table border=\"1\" class=\"dataframe\">\n",
       "  <thead>\n",
       "    <tr style=\"text-align: right;\">\n",
       "      <th></th>\n",
       "      <th>image_path</th>\n",
       "      <th>class_name</th>\n",
       "      <th>pred_prob</th>\n",
       "      <th>pred_class</th>\n",
       "      <th>time_for_pred</th>\n",
       "      <th>correct</th>\n",
       "    </tr>\n",
       "  </thead>\n",
       "  <tbody>\n",
       "    <tr>\n",
       "      <th>0</th>\n",
       "      <td>data/bird_species_classification/test/NORTHERN...</td>\n",
       "      <td>NORTHERN CARDINAL</td>\n",
       "      <td>0.9187</td>\n",
       "      <td>NORTHERN CARDINAL</td>\n",
       "      <td>0.1988</td>\n",
       "      <td>True</td>\n",
       "    </tr>\n",
       "    <tr>\n",
       "      <th>1</th>\n",
       "      <td>data/bird_species_classification/test/NORTHERN...</td>\n",
       "      <td>NORTHERN CARDINAL</td>\n",
       "      <td>0.3973</td>\n",
       "      <td>BARN SWALLOW</td>\n",
       "      <td>0.1588</td>\n",
       "      <td>False</td>\n",
       "    </tr>\n",
       "    <tr>\n",
       "      <th>2</th>\n",
       "      <td>data/bird_species_classification/test/NORTHERN...</td>\n",
       "      <td>NORTHERN CARDINAL</td>\n",
       "      <td>0.6577</td>\n",
       "      <td>NORTHERN CARDINAL</td>\n",
       "      <td>0.1401</td>\n",
       "      <td>True</td>\n",
       "    </tr>\n",
       "    <tr>\n",
       "      <th>3</th>\n",
       "      <td>data/bird_species_classification/test/NORTHERN...</td>\n",
       "      <td>NORTHERN CARDINAL</td>\n",
       "      <td>0.9684</td>\n",
       "      <td>NORTHERN CARDINAL</td>\n",
       "      <td>0.1412</td>\n",
       "      <td>True</td>\n",
       "    </tr>\n",
       "    <tr>\n",
       "      <th>4</th>\n",
       "      <td>data/bird_species_classification/test/NORTHERN...</td>\n",
       "      <td>NORTHERN CARDINAL</td>\n",
       "      <td>0.7895</td>\n",
       "      <td>NORTHERN CARDINAL</td>\n",
       "      <td>0.1393</td>\n",
       "      <td>True</td>\n",
       "    </tr>\n",
       "  </tbody>\n",
       "</table>\n",
       "</div>"
      ],
      "text/plain": [
       "                                          image_path         class_name  \\\n",
       "0  data/bird_species_classification/test/NORTHERN...  NORTHERN CARDINAL   \n",
       "1  data/bird_species_classification/test/NORTHERN...  NORTHERN CARDINAL   \n",
       "2  data/bird_species_classification/test/NORTHERN...  NORTHERN CARDINAL   \n",
       "3  data/bird_species_classification/test/NORTHERN...  NORTHERN CARDINAL   \n",
       "4  data/bird_species_classification/test/NORTHERN...  NORTHERN CARDINAL   \n",
       "\n",
       "   pred_prob         pred_class  time_for_pred  correct  \n",
       "0     0.9187  NORTHERN CARDINAL         0.1988     True  \n",
       "1     0.3973       BARN SWALLOW         0.1588    False  \n",
       "2     0.6577  NORTHERN CARDINAL         0.1401     True  \n",
       "3     0.9684  NORTHERN CARDINAL         0.1412     True  \n",
       "4     0.7895  NORTHERN CARDINAL         0.1393     True  "
      ]
     },
     "execution_count": 69,
     "metadata": {},
     "output_type": "execute_result"
    }
   ],
   "source": [
    "# Turn the test_pred_dicts into a DataFrame\n",
    "import pandas as pd\n",
    "cnn_test_pred_df = pd.DataFrame(cnn_test_pred_dicts)\n",
    "cnn_test_pred_df.head()"
   ]
  },
  {
   "cell_type": "code",
   "execution_count": 70,
   "metadata": {},
   "outputs": [
    {
     "data": {
      "text/plain": [
       "True     1566\n",
       "False      59\n",
       "Name: correct, dtype: int64"
      ]
     },
     "execution_count": 70,
     "metadata": {},
     "output_type": "execute_result"
    }
   ],
   "source": [
    "# Check number of correct predictions\n",
    "cnn_test_pred_df.correct.value_counts()"
   ]
  },
  {
   "cell_type": "code",
   "execution_count": 71,
   "metadata": {},
   "outputs": [
    {
     "data": {
      "text/plain": [
       "FLAMINGO                   11\n",
       "NORTHERN FLICKER            9\n",
       "VICTORIA CROWNED PIGEON     7\n",
       "TROPICAL KINGBIRD           7\n",
       "ROUGH LEG BUZZARD           7\n",
       "                           ..\n",
       "RED TAILED HAWK             3\n",
       "HORNED GUAN                 3\n",
       "CROWNED PIGEON              3\n",
       "COUCHS KINGBIRD             2\n",
       "GILDED FLICKER              1\n",
       "Name: pred_class, Length: 325, dtype: int64"
      ]
     },
     "execution_count": 71,
     "metadata": {},
     "output_type": "execute_result"
    }
   ],
   "source": [
    "# Check number of correct predictions\n",
    "cnn_test_pred_df.pred_class.value_counts()"
   ]
  },
  {
   "cell_type": "code",
   "execution_count": 72,
   "metadata": {},
   "outputs": [
    {
     "name": "stdout",
     "output_type": "stream",
     "text": [
      "CNN average time per prediction: 0.163\n"
     ]
    }
   ],
   "source": [
    "# Find the average time per prediction \n",
    "cnn_average_time_per_pred = round(cnn_test_pred_df.time_for_pred.mean(), 4)\n",
    "print(f\"CNN average time per prediction: {cnn_average_time_per_pred}\")"
   ]
  },
  {
   "cell_type": "code",
   "execution_count": 73,
   "metadata": {},
   "outputs": [
    {
     "data": {
      "text/plain": [
       "{'test_loss': 0.19706711910811125,\n",
       " 'test_acc': 0.9633333333333334,\n",
       " 'number_of_parameters': 24173957,\n",
       " 'model_size (MB)': 92.52377414703369,\n",
       " 'time_per_pred_cpu': 0.163}"
      ]
     },
     "execution_count": 73,
     "metadata": {},
     "output_type": "execute_result"
    }
   ],
   "source": [
    "# Add time per pred to EffNetB2 stats dictionary\n",
    "cnn_stats[\"time_per_pred_cpu\"] = cnn_average_time_per_pred \n",
    "cnn_stats"
   ]
  },
  {
   "cell_type": "markdown",
   "metadata": {},
   "source": [
    "### Working on transformer"
   ]
  },
  {
   "cell_type": "code",
   "execution_count": 76,
   "metadata": {},
   "outputs": [],
   "source": [
    "class_names = 325"
   ]
  },
  {
   "cell_type": "code",
   "execution_count": 113,
   "metadata": {},
   "outputs": [
    {
     "data": {
      "application/vnd.jupyter.widget-view+json": {
       "model_id": "1013925574214ec7929e581d62b220f4",
       "version_major": 2,
       "version_minor": 0
      },
      "text/plain": [
       "  0%|          | 0/1625 [00:00<?, ?it/s]"
      ]
     },
     "metadata": {},
     "output_type": "display_data"
    }
   ],
   "source": [
    "# Make predictions test dataset with Transformer\n",
    "transformer_test_pred_dicts = pred_and_store(paths=test_data_paths,\n",
    "                                          model=vit,\n",
    "                                          transform=vit_transforms,\n",
    "                                          class_names=class_names,\n",
    "                                          device=\"cpu\") # hardcode predictions to happen on CPU"
   ]
  },
  {
   "cell_type": "code",
   "execution_count": 117,
   "metadata": {},
   "outputs": [
    {
     "data": {
      "text/html": [
       "<div>\n",
       "<style scoped>\n",
       "    .dataframe tbody tr th:only-of-type {\n",
       "        vertical-align: middle;\n",
       "    }\n",
       "\n",
       "    .dataframe tbody tr th {\n",
       "        vertical-align: top;\n",
       "    }\n",
       "\n",
       "    .dataframe thead th {\n",
       "        text-align: right;\n",
       "    }\n",
       "</style>\n",
       "<table border=\"1\" class=\"dataframe\">\n",
       "  <thead>\n",
       "    <tr style=\"text-align: right;\">\n",
       "      <th></th>\n",
       "      <th>image_path</th>\n",
       "      <th>class_name</th>\n",
       "      <th>pred_prob</th>\n",
       "      <th>pred_class</th>\n",
       "      <th>time_for_pred</th>\n",
       "      <th>correct</th>\n",
       "    </tr>\n",
       "  </thead>\n",
       "  <tbody>\n",
       "    <tr>\n",
       "      <th>0</th>\n",
       "      <td>data/bird_species_classification/test/NORTHERN...</td>\n",
       "      <td>NORTHERN CARDINAL</td>\n",
       "      <td>0.9915</td>\n",
       "      <td>NORTHERN CARDINAL</td>\n",
       "      <td>0.5856</td>\n",
       "      <td>True</td>\n",
       "    </tr>\n",
       "    <tr>\n",
       "      <th>1</th>\n",
       "      <td>data/bird_species_classification/test/NORTHERN...</td>\n",
       "      <td>NORTHERN CARDINAL</td>\n",
       "      <td>0.4246</td>\n",
       "      <td>NORTHERN CARDINAL</td>\n",
       "      <td>0.3803</td>\n",
       "      <td>True</td>\n",
       "    </tr>\n",
       "    <tr>\n",
       "      <th>2</th>\n",
       "      <td>data/bird_species_classification/test/NORTHERN...</td>\n",
       "      <td>NORTHERN CARDINAL</td>\n",
       "      <td>0.9929</td>\n",
       "      <td>NORTHERN CARDINAL</td>\n",
       "      <td>0.4372</td>\n",
       "      <td>True</td>\n",
       "    </tr>\n",
       "    <tr>\n",
       "      <th>3</th>\n",
       "      <td>data/bird_species_classification/test/NORTHERN...</td>\n",
       "      <td>NORTHERN CARDINAL</td>\n",
       "      <td>0.9999</td>\n",
       "      <td>NORTHERN CARDINAL</td>\n",
       "      <td>0.4060</td>\n",
       "      <td>True</td>\n",
       "    </tr>\n",
       "    <tr>\n",
       "      <th>4</th>\n",
       "      <td>data/bird_species_classification/test/NORTHERN...</td>\n",
       "      <td>NORTHERN CARDINAL</td>\n",
       "      <td>0.9989</td>\n",
       "      <td>NORTHERN CARDINAL</td>\n",
       "      <td>0.3822</td>\n",
       "      <td>True</td>\n",
       "    </tr>\n",
       "  </tbody>\n",
       "</table>\n",
       "</div>"
      ],
      "text/plain": [
       "                                          image_path         class_name  \\\n",
       "0  data/bird_species_classification/test/NORTHERN...  NORTHERN CARDINAL   \n",
       "1  data/bird_species_classification/test/NORTHERN...  NORTHERN CARDINAL   \n",
       "2  data/bird_species_classification/test/NORTHERN...  NORTHERN CARDINAL   \n",
       "3  data/bird_species_classification/test/NORTHERN...  NORTHERN CARDINAL   \n",
       "4  data/bird_species_classification/test/NORTHERN...  NORTHERN CARDINAL   \n",
       "\n",
       "   pred_prob         pred_class  time_for_pred  correct  \n",
       "0     0.9915  NORTHERN CARDINAL         0.5856     True  \n",
       "1     0.4246  NORTHERN CARDINAL         0.3803     True  \n",
       "2     0.9929  NORTHERN CARDINAL         0.4372     True  \n",
       "3     0.9999  NORTHERN CARDINAL         0.4060     True  \n",
       "4     0.9989  NORTHERN CARDINAL         0.3822     True  "
      ]
     },
     "execution_count": 117,
     "metadata": {},
     "output_type": "execute_result"
    }
   ],
   "source": [
    "# Turn the test_pred_dicts into a DataFrame\n",
    "import pandas as pd\n",
    "vit_test_pred_df = pd.DataFrame(transformer_test_pred_dicts)\n",
    "vit_test_pred_df.head()"
   ]
  },
  {
   "cell_type": "code",
   "execution_count": 120,
   "metadata": {},
   "outputs": [
    {
     "data": {
      "text/plain": [
       "True     1588\n",
       "False      37\n",
       "Name: correct, dtype: int64"
      ]
     },
     "execution_count": 120,
     "metadata": {},
     "output_type": "execute_result"
    }
   ],
   "source": [
    "# Check number of correct predictions\n",
    "vit_test_pred_df.correct.value_counts()"
   ]
  },
  {
   "cell_type": "code",
   "execution_count": 121,
   "metadata": {},
   "outputs": [
    {
     "data": {
      "text/plain": [
       "TOWNSENDS WARBLER       8\n",
       "TROPICAL KINGBIRD       8\n",
       "NORTHERN FLICKER        8\n",
       "PURPLE FINCH            7\n",
       "NORTHERN FULMAR         7\n",
       "                       ..\n",
       "HOUSE FINCH             3\n",
       "GREAT POTOO             3\n",
       "BAY-BREASTED WARBLER    3\n",
       "COUCHS KINGBIRD         2\n",
       "GILDED FLICKER          2\n",
       "Name: pred_class, Length: 325, dtype: int64"
      ]
     },
     "execution_count": 121,
     "metadata": {},
     "output_type": "execute_result"
    }
   ],
   "source": [
    "# Check number of correct predictions\n",
    "vit_test_pred_df.pred_class.value_counts()"
   ]
  },
  {
   "cell_type": "code",
   "execution_count": 122,
   "metadata": {},
   "outputs": [
    {
     "name": "stdout",
     "output_type": "stream",
     "text": [
      "CNN average time per prediction: 0.4138\n"
     ]
    }
   ],
   "source": [
    "# Find the average time per prediction \n",
    "vit_average_time_per_pred = round(vit_test_pred_df.time_for_pred.mean(), 4)\n",
    "print(f\"CNN average time per prediction: {vit_average_time_per_pred}\")"
   ]
  },
  {
   "cell_type": "code",
   "execution_count": 123,
   "metadata": {},
   "outputs": [
    {
     "data": {
      "text/plain": [
       "{'test_loss': 0.0769666581980738,\n",
       " 'test_acc': 0.977156862745098,\n",
       " 'number_of_parameters': 86048581,\n",
       " 'model_size (MB)': 328.3091173171997,\n",
       " 'time_per_pred_cpu': 0.4138}"
      ]
     },
     "execution_count": 123,
     "metadata": {},
     "output_type": "execute_result"
    }
   ],
   "source": [
    "# Add time per pred to EffNetB2 stats dictionary\n",
    "vit_stats[\"time_per_pred_cpu\"] = vit_average_time_per_pred \n",
    "vit_stats"
   ]
  },
  {
   "cell_type": "markdown",
   "metadata": {},
   "source": [
    "## Comparing model results, prediction times and size"
   ]
  },
  {
   "cell_type": "code",
   "execution_count": 124,
   "metadata": {},
   "outputs": [
    {
     "data": {
      "text/html": [
       "<div>\n",
       "<style scoped>\n",
       "    .dataframe tbody tr th:only-of-type {\n",
       "        vertical-align: middle;\n",
       "    }\n",
       "\n",
       "    .dataframe tbody tr th {\n",
       "        vertical-align: top;\n",
       "    }\n",
       "\n",
       "    .dataframe thead th {\n",
       "        text-align: right;\n",
       "    }\n",
       "</style>\n",
       "<table border=\"1\" class=\"dataframe\">\n",
       "  <thead>\n",
       "    <tr style=\"text-align: right;\">\n",
       "      <th></th>\n",
       "      <th>test_loss</th>\n",
       "      <th>test_acc</th>\n",
       "      <th>number_of_parameters</th>\n",
       "      <th>model_size (MB)</th>\n",
       "      <th>time_per_pred_cpu</th>\n",
       "      <th>model</th>\n",
       "    </tr>\n",
       "  </thead>\n",
       "  <tbody>\n",
       "    <tr>\n",
       "      <th>0</th>\n",
       "      <td>0.197067</td>\n",
       "      <td>96.33</td>\n",
       "      <td>24173957</td>\n",
       "      <td>92.523774</td>\n",
       "      <td>0.1630</td>\n",
       "      <td>CNN</td>\n",
       "    </tr>\n",
       "    <tr>\n",
       "      <th>1</th>\n",
       "      <td>0.076967</td>\n",
       "      <td>97.72</td>\n",
       "      <td>86048581</td>\n",
       "      <td>328.309117</td>\n",
       "      <td>0.4138</td>\n",
       "      <td>ViT</td>\n",
       "    </tr>\n",
       "  </tbody>\n",
       "</table>\n",
       "</div>"
      ],
      "text/plain": [
       "   test_loss  test_acc  number_of_parameters  model_size (MB)  \\\n",
       "0   0.197067     96.33              24173957        92.523774   \n",
       "1   0.076967     97.72              86048581       328.309117   \n",
       "\n",
       "   time_per_pred_cpu model  \n",
       "0             0.1630   CNN  \n",
       "1             0.4138   ViT  "
      ]
     },
     "execution_count": 124,
     "metadata": {},
     "output_type": "execute_result"
    }
   ],
   "source": [
    "# Turn stat dictionaries into DataFrame\n",
    "df = pd.DataFrame([cnn_stats, vit_stats])\n",
    "\n",
    "# Add column for model names\n",
    "df[\"model\"] = [\"CNN\", \"ViT\"] \n",
    "\n",
    "# Convert accuracy to percentages\n",
    "df[\"test_acc\"] = round(df[\"test_acc\"] * 100, 2) \n",
    "\n",
    "df"
   ]
  },
  {
   "cell_type": "code",
   "execution_count": 125,
   "metadata": {},
   "outputs": [
    {
     "data": {
      "text/html": [
       "<div>\n",
       "<style scoped>\n",
       "    .dataframe tbody tr th:only-of-type {\n",
       "        vertical-align: middle;\n",
       "    }\n",
       "\n",
       "    .dataframe tbody tr th {\n",
       "        vertical-align: top;\n",
       "    }\n",
       "\n",
       "    .dataframe thead th {\n",
       "        text-align: right;\n",
       "    }\n",
       "</style>\n",
       "<table border=\"1\" class=\"dataframe\">\n",
       "  <thead>\n",
       "    <tr style=\"text-align: right;\">\n",
       "      <th></th>\n",
       "      <th>ViT to CNN ratios</th>\n",
       "    </tr>\n",
       "  </thead>\n",
       "  <tbody>\n",
       "    <tr>\n",
       "      <th>test_loss</th>\n",
       "      <td>0.390561</td>\n",
       "    </tr>\n",
       "    <tr>\n",
       "      <th>test_acc</th>\n",
       "      <td>1.014430</td>\n",
       "    </tr>\n",
       "    <tr>\n",
       "      <th>number_of_parameters</th>\n",
       "      <td>3.559557</td>\n",
       "    </tr>\n",
       "    <tr>\n",
       "      <th>model_size (MB)</th>\n",
       "      <td>3.548376</td>\n",
       "    </tr>\n",
       "    <tr>\n",
       "      <th>time_per_pred_cpu</th>\n",
       "      <td>2.538650</td>\n",
       "    </tr>\n",
       "  </tbody>\n",
       "</table>\n",
       "</div>"
      ],
      "text/plain": [
       "                      ViT to CNN ratios\n",
       "test_loss                      0.390561\n",
       "test_acc                       1.014430\n",
       "number_of_parameters           3.559557\n",
       "model_size (MB)                3.548376\n",
       "time_per_pred_cpu              2.538650"
      ]
     },
     "execution_count": 125,
     "metadata": {},
     "output_type": "execute_result"
    }
   ],
   "source": [
    "# Compare ViT to CNN across different characteristics\n",
    "pd.DataFrame(data=(df.set_index(\"model\").loc[\"ViT\"] / df.set_index(\"model\").loc[\"CNN\"]),\n",
    "             columns=[\"ViT to CNN ratios\"])"
   ]
  },
  {
   "cell_type": "markdown",
   "metadata": {},
   "source": [
    "### 6.1 Visualizing the speed vs. performance tradeoff\n",
    "\n",
    "So we've compared our CNN and ViT  models, now let's visualize the comparison with a speed vs. performance plot.\n",
    "\n",
    "We can do so with matplotlib: \n",
    "1. Create a scatter plot from the comparison DataFrame to compare CNN and ViT across test accuracy and prediction time.\n",
    "2. Add titles and labels to make our plot look nice.\n",
    "3. Annotate the samples on the scatter plot so we know what's going on. \n",
    "4. Create a legend based on the model sizes (`model_size (MB)`)."
   ]
  },
  {
   "cell_type": "code",
   "execution_count": 126,
   "metadata": {},
   "outputs": [
    {
     "data": {
      "text/plain": [
       "'3.5.3'"
      ]
     },
     "execution_count": 126,
     "metadata": {},
     "output_type": "execute_result"
    }
   ],
   "source": [
    "import matplotlib\n",
    "matplotlib.__version__"
   ]
  },
  {
   "cell_type": "code",
   "execution_count": 127,
   "metadata": {},
   "outputs": [
    {
     "data": {
      "image/png": "[encoded data removed]",
      "text/plain": [
       "<Figure size 1200x800 with 1 Axes>"
      ]
     },
     "metadata": {},
     "output_type": "display_data"
    }
   ],
   "source": [
    "# 1. Create a plot from model comparison DataFrame\n",
    "fig, ax = plt.subplots(figsize=(12, 8))\n",
    "scatter = ax.scatter(data=df, \n",
    "                     x=\"time_per_pred_cpu\", \n",
    "                     y=\"test_acc\", \n",
    "                     c=[\"blue\", \"orange\"], # what colours to use?\n",
    "                     s=\"model_size (MB)\") # size the dots by the model sizes\n",
    "\n",
    "# 2. Add titles, labels and customize fontsize for aesthetics\n",
    "ax.set_title(\"Bird species Inference Speed vs Performance\", fontsize=18)\n",
    "ax.set_xlabel(\"Prediction time per image (seconds)\", fontsize=14)\n",
    "ax.set_ylabel(\"Test accuracy (%)\", fontsize=14)\n",
    "ax.tick_params(axis='both', labelsize=12)\n",
    "ax.grid(True)\n",
    "\n",
    "# 3. Annotate with model names\n",
    "for index, row in df.iterrows():\n",
    "    ax.annotate(text=row[\"model\"], # note: depending on your version of Matplotlib, you may need to use \"s=...\" or \"text=...\", see: https://github.com/faustomorales/keras-ocr/issues/183#issuecomment-977733270 \n",
    "                xy=(row[\"time_per_pred_cpu\"]+0.0007, row[\"test_acc\"]+0.04),\n",
    "                size=12)\n",
    "\n",
    "# 4. Create a legend based on model sizes\n",
    "handles, labels = scatter.legend_elements(prop=\"sizes\",\n",
    "                                          alpha=0.5)\n",
    "model_size_legend = ax.legend(handles, \n",
    "                              labels, \n",
    "                              loc=\"lower right\", \n",
    "                              title=\"Model size (MB)\",\n",
    "                              fontsize=12)\n",
    "\n",
    "# Save the figure\n",
    "plt.savefig(\"Bird_species_inference_speed_vs_performance.png\")\n",
    "\n",
    "# Show the figure\n",
    "plt.show()"
   ]
  },
  {
   "cell_type": "markdown",
   "metadata": {},
   "source": [
    "### Deploy on Hugging face"
   ]
  },
  {
   "cell_type": "code",
   "execution_count": 128,
   "metadata": {},
   "outputs": [
    {
     "name": "stdout",
     "output_type": "stream",
     "text": [
      "Gradio version: 3.14.0\n"
     ]
    }
   ],
   "source": [
    "# Import/install Gradio \n",
    "try:\n",
    "    import gradio as gr\n",
    "except: \n",
    "    !pip -q install gradio\n",
    "    import gradio as gr\n",
    "    \n",
    "print(f\"Gradio version: {gr.__version__}\")"
   ]
  },
  {
   "cell_type": "code",
   "execution_count": 129,
   "metadata": {},
   "outputs": [
    {
     "data": {
      "text/plain": [
       "device(type='cpu')"
      ]
     },
     "execution_count": 129,
     "metadata": {},
     "output_type": "execute_result"
    }
   ],
   "source": [
    "# Put our model on the CPU\n",
    "vit = vit.to(\"cpu\")\n",
    "\n",
    "# Check the device \n",
    "next(iter(vit.parameters())).device"
   ]
  },
  {
   "cell_type": "code",
   "execution_count": 134,
   "metadata": {},
   "outputs": [],
   "source": [
    "from typing import Tuple, Dict\n",
    "\n",
    "def predict(img) -> Tuple[Dict, float]:\n",
    "  # Start a timer\n",
    "  start_time = timer()\n",
    "\n",
    "  # Transform the input image for use with EffNetB2\n",
    "  img = vit_transforms(img).unsqueeze(0) # unsqueeze = add batch dimension on 0th index\n",
    "\n",
    "  # Put model into eval mode, make prediction\n",
    "  vit.eval()\n",
    "  with torch.inference_mode():\n",
    "    # Pass transformed image through the model and turn the prediction logits into probaiblities\n",
    "    pred_probs = torch.softmax(vit(img), dim=1)\n",
    "\n",
    "  # Create a prediction label and prediction probability dictionary\n",
    "  pred_labels_and_probs = {class_names[i]: float(pred_probs[0][i]) for i in range(5)}\n",
    "\n",
    "  # Calculate pred time\n",
    "  end_time = timer()\n",
    "  pred_time = round(end_time - start_time, 4)\n",
    "\n",
    "  # Return pred dict and pred time\n",
    "  return pred_labels_and_probs, pred_time\n"
   ]
  },
  {
   "cell_type": "code",
   "execution_count": 135,
   "metadata": {},
   "outputs": [
    {
     "name": "stdout",
     "output_type": "stream",
     "text": [
      "Example test data path: data/bird_species_classification/test/NORTHERN CARDINAL/4.jpg\n",
      "[INFO] Predicting on image at path: data/bird_species_classification/test/SNOWY OWL/4.jpg\n",
      "\n",
      "{'AFRICAN CROWNED CRANE': 2.615659425164729e-13, 'AFRICAN FIREFINCH': 1.2207270749797772e-09, 'ALBATROSS': 5.075094424572546e-12, 'ALEXANDRINE PARAKEET': 1.8996791695258253e-08, 'AMERICAN AVOCET': 1.534190201095409e-12}\n",
      "0.4507\n"
     ]
    }
   ],
   "source": [
    "import random\n",
    "from PIL import Image \n",
    "\n",
    "# Get a list of all test image filepaths\n",
    "test_data_paths = list(Path(test_dir).glob(\"*/*.jpg\"))\n",
    "print(f\"Example test data path: {test_data_paths[0]}\")\n",
    "\n",
    "# Randomly select a test image path\n",
    "random_image_path = random.sample(test_data_paths, k=1)[0]\n",
    "random_image_path\n",
    "\n",
    "# Open the target image\n",
    "image = Image.open(random_image_path)\n",
    "print(f\"[INFO] Predicting on image at path: {random_image_path}\\n\")\n",
    "\n",
    "# Predict on the target image and print out the outputs\n",
    "pred_dict, pred_time = predict(img=image)\n",
    "print(pred_dict)\n",
    "print(pred_time)"
   ]
  },
  {
   "cell_type": "code",
   "execution_count": 136,
   "metadata": {},
   "outputs": [
    {
     "data": {
      "text/plain": [
       "[['data/bird_species_classification/test/LILAC ROLLER/3.jpg'],\n",
       " ['data/bird_species_classification/test/BALD IBIS/5.jpg'],\n",
       " ['data/bird_species_classification/test/NOISY FRIARBIRD/5.jpg']]"
      ]
     },
     "execution_count": 136,
     "metadata": {},
     "output_type": "execute_result"
    }
   ],
   "source": [
    "# Create list of example inputs to our Gradio demo\n",
    "example_list = [[str(filepath)] for filepath in random.sample(test_data_paths, k=3)]\n",
    "example_list"
   ]
  },
  {
   "cell_type": "code",
   "execution_count": 137,
   "metadata": {},
   "outputs": [
    {
     "name": "stdout",
     "output_type": "stream",
     "text": [
      "Running on local URL:  http://127.0.0.1:7861\n",
      "\n",
      "Setting up a public link... we have recently upgraded the way public links are generated. If you encounter any problems, please report the issue and downgrade to gradio version 3.13.0\n",
      ".\n",
      "Running on public URL: https://5d625821-a8ec-409a.gradio.live\n",
      "\n",
      "This share link expires in 72 hours. For free permanent hosting and GPU upgrades (NEW!), check out Spaces: https://huggingface.co/spaces\n"
     ]
    },
    {
     "data": {
      "text/html": [
       "<div><iframe src=\"https://5d625821-a8ec-409a.gradio.live\" width=\"100%\" height=\"500\" allow=\"autoplay; camera; microphone; clipboard-read; clipboard-write;\" frameborder=\"0\" allowfullscreen></iframe></div>"
      ],
      "text/plain": [
       "<IPython.core.display.HTML object>"
      ]
     },
     "metadata": {},
     "output_type": "display_data"
    },
    {
     "data": {
      "text/plain": []
     },
     "execution_count": 137,
     "metadata": {},
     "output_type": "execute_result"
    }
   ],
   "source": [
    "import gradio as gr\n",
    "\n",
    "# Create title, description and article\n",
    "title = \"Bird species\"\n",
    "description = \"[info] Transformer computer vision model to classify bird species.\"\n",
    "article = \"Created by Chidera Stanley [PyTorch CNN Model]\"\n",
    "\n",
    "# Create the Gradio demo\n",
    "demo = gr.Interface(fn=predict, # maps inputs to outputs\n",
    "                    inputs=gr.Image(type=\"pil\"),\n",
    "                    outputs=[gr.Label(num_top_classes=3, label=\"Predictions\"),\n",
    "                             gr.Number(label=\"Prediction time (s)\")],\n",
    "                    examples=example_list,\n",
    "                    title=title,\n",
    "                    description=description,\n",
    "                    article=article)\n",
    "\n",
    "# Launch the demo!\n",
    "demo.launch(debug=False, # print errors locally?\n",
    "            share=True) # generate a publically shareable URL "
   ]
  },
  {
   "cell_type": "code",
   "execution_count": 145,
   "metadata": {},
   "outputs": [],
   "source": [
    "import shutil\n",
    "from pathlib import Path\n",
    "\n",
    "# Create FoodVision mini demo path\n",
    "bird_species_path = Path(\"app/Bird_species/\")\n",
    "\n",
    "# Remove files that might exist and create a new directory\n",
    "if bird_species_path.exists():\n",
    "  shutil.rmtree(bird_species_path)\n",
    "  bird_species_path.mkdir(parents=True,\n",
    "                          exist_ok=True)\n",
    "else:\n",
    "  bird_species_path.mkdir(parents=True,\n",
    "                          exist_ok=True)\n",
    "\n",
    "!ls app/Bird_species/"
   ]
  },
  {
   "cell_type": "code",
   "execution_count": 150,
   "metadata": {},
   "outputs": [
    {
     "name": "stdout",
     "output_type": "stream",
     "text": [
      "[INFO] Copying data/bird_species_classification/test/LILAC ROLLER/3.jpg to app/Bird_species/examples/3.jpg\n",
      "[INFO] Copying data/bird_species_classification/valid/CALIFORNIA QUAIL/1.jpg to app/Bird_species/examples/1.jpg\n",
      "[INFO] Copying data/bird_species_classification/test/NOISY FRIARBIRD/5.jpg to app/Bird_species/examples/5.jpg\n"
     ]
    }
   ],
   "source": [
    "import shutil\n",
    "from pathlib import Path\n",
    "\n",
    "# Create an examples directory\n",
    "bird_species_example_path = bird_species_path / \"examples\" \n",
    "bird_species_example_path.mkdir(parents=True, exist_ok=True)\n",
    "\n",
    "# Collect three random test dataset image paths\n",
    "bird_species_examples = [Path('data/bird_species_classification/test/LILAC ROLLER/3.jpg'),\n",
    "                         Path('data/bird_species_classification/valid/CALIFORNIA QUAIL/1.jpg'),\n",
    "                         Path('data/bird_species_classification/test/NOISY FRIARBIRD/5.jpg')]\n",
    " \n",
    "# Copy the three images to the examples directory \n",
    "for example in bird_species_examples:\n",
    "  destination = bird_species_example_path / example.name\n",
    "  print(f\"[INFO] Copying {example} to {destination}\")\n",
    "  shutil.copy2(src=example,\n",
    "               dst=destination)"
   ]
  },
  {
   "cell_type": "code",
   "execution_count": 151,
   "metadata": {},
   "outputs": [
    {
     "data": {
      "text/plain": [
       "[['examples/3.jpg'], ['examples/5.jpg'], ['examples/1.jpg']]"
      ]
     },
     "execution_count": 151,
     "metadata": {},
     "output_type": "execute_result"
    }
   ],
   "source": [
    "import os\n",
    "\n",
    "# Get example filepaths in a list of lists\n",
    "example_list = [[\"examples/\" + example] for example in os.listdir(bird_species_example_path)]\n",
    "example_list"
   ]
  },
  {
   "cell_type": "code",
   "execution_count": null,
   "metadata": {},
   "outputs": [],
   "source": [
    "import shutil\n",
    "\n",
    "# Create a source path for our target model \n",
    "bird_model_path = \"models/bird_classification_vit.pth\"\n",
    "\n",
    "# Create a destination path for our target model\n",
    "vit_model_destination = bird_model_path / effnetb2_foodvision_mini_model_path.split(\"/\")[1]\n",
    "\n",
    "# Try to move the model file\n",
    "try:\n",
    "  print(f\"[INFO] Attempting to move {effnetb2_foodvision_mini_model_path} to {effnetb2_foodvision_mini_model_destination}\")\n",
    "\n",
    "  # Move the movel\n",
    "  shutil.move(src=effnetb2_foodvision_mini_model_path,\n",
    "              dst=effnetb2_foodvision_mini_model_destination)\n",
    "  \n",
    "  print(f\"[INFO] Model move complete.\")\n",
    "# If the model has already been moved, check if it exists\n",
    "except:\n",
    "  print(f\"[INFO] No model found at {effnetb2_foodvision_mini_model_path}, perhaps its already been moved?\")\n",
    "  print(f\"[INFO] Model exists at {effnetb2_foodvision_mini_model_destination}: {effnetb2_foodvision_mini_model_destination.exists()}\")"
   ]
  },
  {
   "cell_type": "code",
   "execution_count": 152,
   "metadata": {},
   "outputs": [
    {
     "name": "stdout",
     "output_type": "stream",
     "text": [
      "01_pytorch_workflow.ipynb\n",
      "02_pytorch_neural_network_classification.ipynb\n",
      "03_pytorch_computer_vision.ipynb\n",
      "04_PyTorch_Custom_Datasets.ipynb\n",
      "05_pytorch_going_modular_cell_mode.ipynb\n",
      "06_pytorch_transfer_learning.ipynb\n",
      "07_pytorch_experiment_tracking.ipynb\n",
      "08_pytorch_paper_replicating.ipynb\n",
      "09-foodvision-mini-inference-speed-vs-performance.png\n",
      "09_pytorch_model_deployment.ipynb\n",
      "app\n",
      "bird_classification.ipynb\n",
      "Bird_species_inference_speed_vs_performance.png\n",
      "car_models.ipynb\n",
      "data\n",
      "demos\n",
      "flagged\n",
      "going_modular\n",
      "helper_functions.py\n",
      "model_bird_classification_cnn.pt\n",
      "model_bird_classification.pt\n",
      "models\n",
      "__pycache__\n"
     ]
    }
   ],
   "source": [
    "!ls"
   ]
  },
  {
   "cell_type": "code",
   "execution_count": 177,
   "metadata": {},
   "outputs": [],
   "source": [
    "#%%writefile app/Bird_species/model.py\n",
    "import torch\n",
    "import torchvision\n",
    "\n",
    "from torch import nn\n",
    "\n",
    "def create_transformer_model(num_classes:int=325, # default output classes = 3 (pizza, steak, sushi)\n",
    "                          seed:int=42):\n",
    "  # 1, 2, 3 Create EffNetB2 pretrained weights, transforms and model\n",
    "  weights = torchvision.models.ViT_B_16_Weights.DEFAULT\n",
    "  transforms = weights.transforms()\n",
    "  model = torchvision.models.vit_b_16(weights=weights)\n",
    "\n",
    "  # 4. Freeze all layers in the base model\n",
    "  for param in model.parameters():\n",
    "    param.requires_grad = False\n",
    "\n",
    "  # 5. Change classifier head with random seed for reproducibility\n",
    "  torch.manual_seed(seed)\n",
    "  model.classifier = nn.Sequential(\n",
    "      nn.Dropout(p=0.3, inplace=True),\n",
    "      nn.Linear(in_features=768, out_features=num_classes)\n",
    "  )\n",
    "\n",
    "  return model, transforms"
   ]
  },
  {
   "cell_type": "code",
   "execution_count": 162,
   "metadata": {},
   "outputs": [
    {
     "data": {
      "text/plain": [
       "['AFRICAN CROWNED CRANE',\n",
       " 'AFRICAN FIREFINCH',\n",
       " 'ALBATROSS',\n",
       " 'ALEXANDRINE PARAKEET',\n",
       " 'AMERICAN AVOCET',\n",
       " 'AMERICAN BITTERN',\n",
       " 'AMERICAN COOT',\n",
       " 'AMERICAN GOLDFINCH',\n",
       " 'AMERICAN KESTREL',\n",
       " 'AMERICAN PIPIT',\n",
       " 'AMERICAN REDSTART',\n",
       " 'ANHINGA',\n",
       " 'ANNAS HUMMINGBIRD',\n",
       " 'ANTBIRD',\n",
       " 'ARARIPE MANAKIN',\n",
       " 'ASIAN CRESTED IBIS',\n",
       " 'BALD EAGLE',\n",
       " 'BALD IBIS',\n",
       " 'BALI STARLING',\n",
       " 'BALTIMORE ORIOLE',\n",
       " 'BANANAQUIT',\n",
       " 'BANDED BROADBILL',\n",
       " 'BANDED PITA',\n",
       " 'BAR-TAILED GODWIT',\n",
       " 'BARN OWL',\n",
       " 'BARN SWALLOW',\n",
       " 'BARRED PUFFBIRD',\n",
       " 'BAY-BREASTED WARBLER',\n",
       " 'BEARDED BARBET',\n",
       " 'BEARDED BELLBIRD',\n",
       " 'BEARDED REEDLING',\n",
       " 'BELTED KINGFISHER',\n",
       " 'BIRD OF PARADISE',\n",
       " 'BLACK & YELLOW bROADBILL',\n",
       " 'BLACK BAZA',\n",
       " 'BLACK FRANCOLIN',\n",
       " 'BLACK SKIMMER',\n",
       " 'BLACK SWAN',\n",
       " 'BLACK TAIL CRAKE',\n",
       " 'BLACK THROATED BUSHTIT',\n",
       " 'BLACK THROATED WARBLER',\n",
       " 'BLACK VULTURE',\n",
       " 'BLACK-CAPPED CHICKADEE',\n",
       " 'BLACK-NECKED GREBE',\n",
       " 'BLACK-THROATED SPARROW',\n",
       " 'BLACKBURNIAM WARBLER',\n",
       " 'BLONDE CRESTED WOODPECKER',\n",
       " 'BLUE COAU',\n",
       " 'BLUE GROUSE',\n",
       " 'BLUE HERON',\n",
       " 'BLUE THROATED TOUCANET',\n",
       " 'BOBOLINK',\n",
       " 'BORNEAN BRISTLEHEAD',\n",
       " 'BORNEAN LEAFBIRD',\n",
       " 'BORNEAN PHEASANT',\n",
       " 'BRANDT CORMARANT',\n",
       " 'BROWN CREPPER',\n",
       " 'BROWN NOODY',\n",
       " 'BROWN THRASHER',\n",
       " 'BULWERS PHEASANT',\n",
       " 'CACTUS WREN',\n",
       " 'CALIFORNIA CONDOR',\n",
       " 'CALIFORNIA GULL',\n",
       " 'CALIFORNIA QUAIL',\n",
       " 'CANARY',\n",
       " 'CAPE GLOSSY STARLING',\n",
       " 'CAPE MAY WARBLER',\n",
       " 'CAPPED HERON',\n",
       " 'CAPUCHINBIRD',\n",
       " 'CARMINE BEE-EATER',\n",
       " 'CASPIAN TERN',\n",
       " 'CASSOWARY',\n",
       " 'CEDAR WAXWING',\n",
       " 'CERULEAN WARBLER',\n",
       " 'CHARA DE COLLAR',\n",
       " 'CHESTNET BELLIED EUPHONIA',\n",
       " 'CHIPPING SPARROW',\n",
       " 'CHUKAR PARTRIDGE',\n",
       " 'CINNAMON TEAL',\n",
       " 'CLARKS NUTCRACKER',\n",
       " 'COCK OF THE  ROCK',\n",
       " 'COCKATOO',\n",
       " 'COLLARED ARACARI',\n",
       " 'COMMON FIRECREST',\n",
       " 'COMMON GRACKLE',\n",
       " 'COMMON HOUSE MARTIN',\n",
       " 'COMMON LOON',\n",
       " 'COMMON POORWILL',\n",
       " 'COMMON STARLING',\n",
       " 'COUCHS KINGBIRD',\n",
       " 'CRESTED AUKLET',\n",
       " 'CRESTED CARACARA',\n",
       " 'CRESTED NUTHATCH',\n",
       " 'CRIMSON SUNBIRD',\n",
       " 'CROW',\n",
       " 'CROWNED PIGEON',\n",
       " 'CUBAN TODY',\n",
       " 'CUBAN TROGON',\n",
       " 'CURL CRESTED ARACURI',\n",
       " 'D-ARNAUDS BARBET',\n",
       " 'DARK EYED JUNCO',\n",
       " 'DOUBLE BARRED FINCH',\n",
       " 'DOUBLE BRESTED CORMARANT',\n",
       " 'DOWNY WOODPECKER',\n",
       " 'EASTERN BLUEBIRD',\n",
       " 'EASTERN MEADOWLARK',\n",
       " 'EASTERN ROSELLA',\n",
       " 'EASTERN TOWEE',\n",
       " 'ELEGANT TROGON',\n",
       " 'ELLIOTS  PHEASANT',\n",
       " 'EMPEROR PENGUIN',\n",
       " 'EMU',\n",
       " 'ENGGANO MYNA',\n",
       " 'EURASIAN GOLDEN ORIOLE',\n",
       " 'EURASIAN MAGPIE',\n",
       " 'EVENING GROSBEAK',\n",
       " 'FAIRY BLUEBIRD',\n",
       " 'FIRE TAILLED MYZORNIS',\n",
       " 'FLAME TANAGER',\n",
       " 'FLAMINGO',\n",
       " 'FRIGATE',\n",
       " 'GAMBELS QUAIL',\n",
       " 'GANG GANG COCKATOO',\n",
       " 'GILA WOODPECKER',\n",
       " 'GILDED FLICKER',\n",
       " 'GLOSSY IBIS',\n",
       " 'GO AWAY BIRD',\n",
       " 'GOLD WING WARBLER',\n",
       " 'GOLDEN CHEEKED WARBLER',\n",
       " 'GOLDEN CHLOROPHONIA',\n",
       " 'GOLDEN EAGLE',\n",
       " 'GOLDEN PHEASANT',\n",
       " 'GOLDEN PIPIT',\n",
       " 'GOULDIAN FINCH',\n",
       " 'GRAY CATBIRD',\n",
       " 'GRAY KINGBIRD',\n",
       " 'GRAY PARTRIDGE',\n",
       " 'GREAT GRAY OWL',\n",
       " 'GREAT KISKADEE',\n",
       " 'GREAT POTOO',\n",
       " 'GREATOR SAGE GROUSE',\n",
       " 'GREEN BROADBILL',\n",
       " 'GREEN JAY',\n",
       " 'GREEN MAGPIE',\n",
       " 'GREY PLOVER',\n",
       " 'GROVED BILLED ANI',\n",
       " 'GUINEA TURACO',\n",
       " 'GUINEAFOWL',\n",
       " 'GYRFALCON',\n",
       " 'HARLEQUIN DUCK',\n",
       " 'HARPY EAGLE',\n",
       " 'HAWAIIAN GOOSE',\n",
       " 'HELMET VANGA',\n",
       " 'HIMALAYAN MONAL',\n",
       " 'HOATZIN',\n",
       " 'HOODED MERGANSER',\n",
       " 'HOOPOES',\n",
       " 'HORNBILL',\n",
       " 'HORNED GUAN',\n",
       " 'HORNED LARK',\n",
       " 'HORNED SUNGEM',\n",
       " 'HOUSE FINCH',\n",
       " 'HOUSE SPARROW',\n",
       " 'HYACINTH MACAW',\n",
       " 'IMPERIAL SHAQ',\n",
       " 'INCA TERN',\n",
       " 'INDIAN BUSTARD',\n",
       " 'INDIAN PITTA',\n",
       " 'INDIAN ROLLER',\n",
       " 'INDIGO BUNTING',\n",
       " 'IWI',\n",
       " 'JABIRU',\n",
       " 'JAVA SPARROW',\n",
       " 'KAGU',\n",
       " 'KAKAPO',\n",
       " 'KILLDEAR',\n",
       " 'KING VULTURE',\n",
       " 'KIWI',\n",
       " 'KOOKABURRA',\n",
       " 'LARK BUNTING',\n",
       " 'LAZULI BUNTING',\n",
       " 'LILAC ROLLER',\n",
       " 'LONG-EARED OWL',\n",
       " 'MAGPIE GOOSE',\n",
       " 'MALABAR HORNBILL',\n",
       " 'MALACHITE KINGFISHER',\n",
       " 'MALAGASY WHITE EYE',\n",
       " 'MALEO',\n",
       " 'MALLARD DUCK',\n",
       " 'MANDRIN DUCK',\n",
       " 'MANGROVE CUCKOO',\n",
       " 'MARABOU STORK',\n",
       " 'MASKED BOOBY',\n",
       " 'MASKED LAPWING',\n",
       " 'MIKADO  PHEASANT',\n",
       " 'MOURNING DOVE',\n",
       " 'MYNA',\n",
       " 'NICOBAR PIGEON',\n",
       " 'NOISY FRIARBIRD',\n",
       " 'NORTHERN CARDINAL',\n",
       " 'NORTHERN FLICKER',\n",
       " 'NORTHERN FULMAR',\n",
       " 'NORTHERN GANNET',\n",
       " 'NORTHERN GOSHAWK',\n",
       " 'NORTHERN JACANA',\n",
       " 'NORTHERN MOCKINGBIRD',\n",
       " 'NORTHERN PARULA',\n",
       " 'NORTHERN RED BISHOP',\n",
       " 'NORTHERN SHOVELER',\n",
       " 'OCELLATED TURKEY',\n",
       " 'OKINAWA RAIL',\n",
       " 'ORANGE BRESTED BUNTING',\n",
       " 'ORIENTAL BAY OWL',\n",
       " 'OSPREY',\n",
       " 'OSTRICH',\n",
       " 'OVENBIRD',\n",
       " 'OYSTER CATCHER',\n",
       " 'PAINTED BUNTIG',\n",
       " 'PALILA',\n",
       " 'PARADISE TANAGER',\n",
       " 'PARAKETT  AKULET',\n",
       " 'PARUS MAJOR',\n",
       " 'PATAGONIAN SIERRA FINCH',\n",
       " 'PEACOCK',\n",
       " 'PELICAN',\n",
       " 'PEREGRINE FALCON',\n",
       " 'PHILIPPINE EAGLE',\n",
       " 'PINK ROBIN',\n",
       " 'POMARINE JAEGER',\n",
       " 'PUFFIN',\n",
       " 'PURPLE FINCH',\n",
       " 'PURPLE GALLINULE',\n",
       " 'PURPLE MARTIN',\n",
       " 'PURPLE SWAMPHEN',\n",
       " 'PYGMY KINGFISHER',\n",
       " 'QUETZAL',\n",
       " 'RAINBOW LORIKEET',\n",
       " 'RAZORBILL',\n",
       " 'RED BEARDED BEE EATER',\n",
       " 'RED BELLIED PITTA',\n",
       " 'RED BROWED FINCH',\n",
       " 'RED FACED CORMORANT',\n",
       " 'RED FACED WARBLER',\n",
       " 'RED FODY',\n",
       " 'RED HEADED DUCK',\n",
       " 'RED HEADED WOODPECKER',\n",
       " 'RED HONEY CREEPER',\n",
       " 'RED NAPED TROGON',\n",
       " 'RED TAILED HAWK',\n",
       " 'RED TAILED THRUSH',\n",
       " 'RED WINGED BLACKBIRD',\n",
       " 'RED WISKERED BULBUL',\n",
       " 'REGENT BOWERBIRD',\n",
       " 'RING-NECKED PHEASANT',\n",
       " 'ROADRUNNER',\n",
       " 'ROBIN',\n",
       " 'ROCK DOVE',\n",
       " 'ROSY FACED LOVEBIRD',\n",
       " 'ROUGH LEG BUZZARD',\n",
       " 'ROYAL FLYCATCHER',\n",
       " 'RUBY THROATED HUMMINGBIRD',\n",
       " 'RUDY KINGFISHER',\n",
       " 'RUFOUS KINGFISHER',\n",
       " 'RUFUOS MOTMOT',\n",
       " 'SAMATRAN THRUSH',\n",
       " 'SAND MARTIN',\n",
       " 'SANDHILL CRANE',\n",
       " 'SATYR TRAGOPAN',\n",
       " 'SCARLET CROWNED FRUIT DOVE',\n",
       " 'SCARLET IBIS',\n",
       " 'SCARLET MACAW',\n",
       " 'SCARLET TANAGER',\n",
       " 'SHOEBILL',\n",
       " 'SHORT BILLED DOWITCHER',\n",
       " 'SMITHS LONGSPUR',\n",
       " 'SNOWY EGRET',\n",
       " 'SNOWY OWL',\n",
       " 'SORA',\n",
       " 'SPANGLED COTINGA',\n",
       " 'SPLENDID WREN',\n",
       " 'SPOON BILED SANDPIPER',\n",
       " 'SPOONBILL',\n",
       " 'SPOTTED CATBIRD',\n",
       " 'SRI LANKA BLUE MAGPIE',\n",
       " 'STEAMER DUCK',\n",
       " 'STORK BILLED KINGFISHER',\n",
       " 'STRAWBERRY FINCH',\n",
       " 'STRIPED OWL',\n",
       " 'STRIPPED MANAKIN',\n",
       " 'STRIPPED SWALLOW',\n",
       " 'SUPERB STARLING',\n",
       " 'SWINHOES PHEASANT',\n",
       " 'TAIWAN MAGPIE',\n",
       " 'TAKAHE',\n",
       " 'TASMANIAN HEN',\n",
       " 'TEAL DUCK',\n",
       " 'TIT MOUSE',\n",
       " 'TOUCHAN',\n",
       " 'TOWNSENDS WARBLER',\n",
       " 'TREE SWALLOW',\n",
       " 'TROPICAL KINGBIRD',\n",
       " 'TRUMPTER SWAN',\n",
       " 'TURKEY VULTURE',\n",
       " 'TURQUOISE MOTMOT',\n",
       " 'UMBRELLA BIRD',\n",
       " 'VARIED THRUSH',\n",
       " 'VENEZUELIAN TROUPIAL',\n",
       " 'VERMILION FLYCATHER',\n",
       " 'VICTORIA CROWNED PIGEON',\n",
       " 'VIOLET GREEN SWALLOW',\n",
       " 'VULTURINE GUINEAFOWL',\n",
       " 'WALL CREAPER',\n",
       " 'WATTLED CURASSOW',\n",
       " 'WHIMBREL',\n",
       " 'WHITE BROWED CRAKE',\n",
       " 'WHITE CHEEKED TURACO',\n",
       " 'WHITE NECKED RAVEN',\n",
       " 'WHITE TAILED TROPIC',\n",
       " 'WHITE THROATED BEE EATER',\n",
       " 'WILD TURKEY',\n",
       " 'WILSONS BIRD OF PARADISE',\n",
       " 'WOOD DUCK',\n",
       " 'YELLOW BELLIED FLOWERPECKER',\n",
       " 'YELLOW CACIQUE',\n",
       " 'YELLOW HEADED BLACKBIRD']"
      ]
     },
     "execution_count": 162,
     "metadata": {},
     "output_type": "execute_result"
    }
   ],
   "source": [
    "class_names"
   ]
  },
  {
   "cell_type": "code",
   "execution_count": 166,
   "metadata": {},
   "outputs": [
    {
     "name": "stdout",
     "output_type": "stream",
     "text": [
      "Writing app/Bird_species/app.py\n"
     ]
    }
   ],
   "source": [
    "%%writefile app/Bird_species/app.py\n",
    "### 1. Imports and class names setup ###\n",
    "import gradio as gr\n",
    "import os \n",
    "import torch\n",
    "\n",
    "from model import create_effnetb2_model\n",
    "from timeit import default_timer as timer\n",
    "from typing import Tuple, Dict\n",
    "\n",
    "# Setup class names\n",
    "with open(\"class_names.txt\", \"r\") as f:\n",
    "  class_names = [food_name.strip() for food_name in f.readlines()\n",
    "\n",
    "### 2. Model and transforms perparation ###\n",
    "vit, vit_transforms = create_transformer_model(\n",
    "    num_classes=325)\n",
    "\n",
    "# Load save weights\n",
    "vit.load_state_dict(\n",
    "    torch.load(\n",
    "        f=\"bird_classification_vit.pth\",\n",
    "        map_location=torch.device(\"cpu\") # load the model to the CPU\n",
    "    )\n",
    ")\n",
    "\n",
    "### 3. Predict function ### \n",
    "\n",
    "def predict(img) -> Tuple[Dict, float]:\n",
    "  # Start a timer\n",
    "  start_time = timer()\n",
    "\n",
    "  # Transform the input image for use with EffNetB2\n",
    "  img = vit_transforms(img).unsqueeze(0) # unsqueeze = add batch dimension on 0th index\n",
    "\n",
    "  # Put model into eval mode, make prediction\n",
    "  vit.eval()\n",
    "  with torch.inference_mode():\n",
    "    # Pass transformed image through the model and turn the prediction logits into probaiblities\n",
    "    pred_probs = torch.softmax(effnetb2(img), dim=1)\n",
    "\n",
    "  # Create a prediction label and prediction probability dictionary\n",
    "  pred_labels_and_probs = {class_names[i]: float(pred_probs[0][i]) for i in range(len(class_names))}\n",
    "\n",
    "  # Calculate pred time\n",
    "  end_time = timer()\n",
    "  pred_time = round(end_time - start_time, 4)\n",
    "\n",
    "  # Return pred dict and pred time\n",
    "  return pred_labels_and_probs, pred_time\n",
    "\n",
    "### 4. Gradio app ### \n",
    "\n",
    "# Create title, description and article\n",
    "title = \"Bird Species Classification\"\n",
    "description = \"A [Transformer] computer vision model to classify Bird species..\"\n",
    "article = \"Created by Chidera Stanley [Transformer using PyTorch]\"\n",
    "\n",
    "# Create example list\n",
    "example_list = [[\"examples/\" + example] for example in os.listdir(\"examples\")]\n",
    "\n",
    "# Create the Gradio demo\n",
    "app = gr.Interface(fn=predict, # maps inputs to outputs\n",
    "                    inputs=gr.Image(type=\"pil\"),\n",
    "                    outputs=[gr.Label(num_top_classes=3, label=\"Predictions\"),\n",
    "                             gr.Number(label=\"Prediction time (s)\")],\n",
    "                    examples=example_list,\n",
    "                    title=title,\n",
    "                    description=description,\n",
    "                    article=article)\n",
    "\n",
    "# Launch the demo!\n",
    "app.launch() "
   ]
  },
  {
   "cell_type": "code",
   "execution_count": 170,
   "metadata": {},
   "outputs": [
    {
     "name": "stdout",
     "output_type": "stream",
     "text": [
      "updating: bird_classification_vit.pth (deflated 7%)\n",
      "updating: examples/ (stored 0%)\n",
      "updating: examples/3.jpg (deflated 1%)\n",
      "updating: examples/5.jpg (deflated 1%)\n",
      "updating: examples/1.jpg (deflated 1%)\n",
      "updating: model.py (deflated 45%)\n",
      "updating: app.py (deflated 59%)\n",
      "  adding: requirements.txt (deflated 4%)\n"
     ]
    }
   ],
   "source": [
    "# Change into the foodvision_mini directory and then zip it from the inside\n",
    "!cd app/Bird_species && zip -r ../Bird_species.zip * -x \"*.pyc\" \"*.ipynb\" \"*__pycache__*\" \"*ipynb_checkpoints*\""
   ]
  },
  {
   "cell_type": "code",
   "execution_count": 171,
   "metadata": {},
   "outputs": [
    {
     "name": "stdout",
     "output_type": "stream",
     "text": [
      "app.py\tbird_classification_vit.pth  examples  model.py  requirements.txt\n"
     ]
    }
   ],
   "source": [
    "!ls app/Bird_species/"
   ]
  },
  {
   "cell_type": "code",
   "execution_count": 169,
   "metadata": {},
   "outputs": [
    {
     "name": "stdout",
     "output_type": "stream",
     "text": [
      "Writing app/Bird_species/requirements.txt\n"
     ]
    }
   ],
   "source": [
    "%%writefile app/Bird_species/requirements.txt\n",
    "torch==1.12.0\n",
    "torchvision==0.13.0\n",
    "gradio==3.1.4"
   ]
  },
  {
   "cell_type": "code",
   "execution_count": 172,
   "metadata": {},
   "outputs": [
    {
     "name": "stdout",
     "output_type": "stream",
     "text": [
      "Git LFS initialized.\n"
     ]
    }
   ],
   "source": [
    "!git lfs install"
   ]
  },
  {
   "cell_type": "code",
   "execution_count": 174,
   "metadata": {},
   "outputs": [
    {
     "data": {
      "text/plain": [
       "'AFRICAN FIREFINCH'"
      ]
     },
     "execution_count": 174,
     "metadata": {},
     "output_type": "execute_result"
    }
   ],
   "source": [
    "class_names[1]"
   ]
  },
  {
   "cell_type": "code",
   "execution_count": 182,
   "metadata": {},
   "outputs": [
    {
     "data": {
      "text/plain": [
       "<All keys matched successfully>"
      ]
     },
     "execution_count": 182,
     "metadata": {},
     "output_type": "execute_result"
    }
   ],
   "source": [
    "### 2. Model and transforms perparation ###\n",
    "vit, vit_transforms = create_vit_model(\n",
    "    num_classes=325)\n",
    "\n",
    "# Load save weights\n",
    "vit.load_state_dict(\n",
    "    torch.load(\n",
    "        f=\"bird_classification_vit.pth\",\n",
    "        map_location=torch.device(\"cpu\") # load the model to the CPU\n",
    "    )\n",
    ")"
   ]
  },
  {
   "cell_type": "code",
   "execution_count": 179,
   "metadata": {},
   "outputs": [
    {
     "name": "stdout",
     "output_type": "stream",
     "text": [
      "01_pytorch_workflow.ipynb\n",
      "02_pytorch_neural_network_classification.ipynb\n",
      "03_pytorch_computer_vision.ipynb\n",
      "04_PyTorch_Custom_Datasets.ipynb\n",
      "05_pytorch_going_modular_cell_mode.ipynb\n",
      "06_pytorch_transfer_learning.ipynb\n",
      "07_pytorch_experiment_tracking.ipynb\n",
      "08_pytorch_paper_replicating.ipynb\n",
      "09-foodvision-mini-inference-speed-vs-performance.png\n",
      "09_pytorch_model_deployment.ipynb\n",
      "app\n",
      "bird_classification.ipynb\n",
      "Bird_species_inference_speed_vs_performance.png\n",
      "car_models.ipynb\n",
      "data\n",
      "demos\n",
      "flagged\n",
      "going_modular\n",
      "helper_functions.py\n",
      "model_bird_classification_cnn.pt\n",
      "model_bird_classification.pt\n",
      "models\n",
      "__pycache__\n"
     ]
    }
   ],
   "source": [
    "!ls"
   ]
  },
  {
   "cell_type": "code",
   "execution_count": 181,
   "metadata": {},
   "outputs": [],
   "source": [
    "def create_vit_model(num_classes:int=325,\n",
    "                     seed:int=42):\n",
    "  # Create ViT_B_16 pretrained weights, transforms and model\n",
    "  weights = torchvision.models.ViT_B_16_Weights.DEFAULT\n",
    "  transforms = weights.transforms()\n",
    "  model = torchvision.models.vit_b_16(weights=weights)\n",
    "\n",
    "  # Freeze all of the base layers\n",
    "  for param in model.parameters():\n",
    "    param.requires_grad = False\n",
    "\n",
    "  # Change classifier head to suit our needs\n",
    "  torch.manual_seed(seed)\n",
    "  model.heads = nn.Sequential(nn.Linear(in_features=768, \n",
    "                                        out_features=325))\n",
    "  \n",
    "  return model, transforms"
   ]
  },
  {
   "cell_type": "code",
   "execution_count": null,
   "metadata": {},
   "outputs": [],
   "source": [
    "\n",
    "def create_transformer_model(num_classes:int=325, # default output classes = 3 (pizza, steak, sushi)\n",
    "                          seed:int=42):\n",
    "  # 1, 2, 3 Create EffNetB2 pretrained weights, transforms and model\n",
    "  weights = torchvision.models.ViT_B_16_Weights.DEFAULT\n",
    "  transforms = weights.transforms()\n",
    "  model = torchvision.models.vit_b_16(weights=weights)\n",
    "\n",
    "  # 4. Freeze all layers in the base model\n",
    "  for param in model.parameters():\n",
    "    param.requires_grad = False\n",
    "\n",
    "  # 5. Change classifier head with random seed for reproducibility\n",
    "  torch.manual_seed(seed)\n",
    "  model.classifier = nn.Sequential(\n",
    "      nn.Dropout(p=0.3, inplace=True),\n",
    "      nn.Linear(in_features=768, out_features=num_classes)\n",
    "  )\n",
    "\n",
    "  return model, transforms"
   ]
  },
  {
   "cell_type": "markdown",
   "metadata": {},
   "source": [
    "### Converting CNN and Transformer to ONNX"
   ]
  },
  {
   "cell_type": "code",
   "execution_count": 185,
   "metadata": {},
   "outputs": [
    {
     "name": "stdout",
     "output_type": "stream",
     "text": [
      "[ WARNING ]  Use of deprecated cli option --data_type detected. Option use in the following releases will be fatal. \n",
      "/home/anonymous/projects/stanlito/lib/python3.10/site-packages/requests/__init__.py:102: RequestsDependencyWarning: urllib3 (1.26.6) or chardet (5.1.0)/charset_normalizer (2.0.12) doesn't match a supported version!\n",
      "  warnings.warn(\"urllib3 ({}) or chardet ({})/charset_normalizer ({}) doesn't match a supported \"\n",
      "[ ERROR ]  Framework name can not be deduced from the given options: --input_model=/home/anonymous/projects/PyTorch/video_notebooks/pytorch/model_bird_classification_cnn.pt. Please use --framework with one from the list: ['mxnet', 'kaldi', 'tf', 'onnx', 'paddle', 'caffe'].\n"
     ]
    }
   ],
   "source": [
    "!python3 ~/projects/stanlito/lib/python3.10/site-packages/openvino/tools/mo/mo.py --input_model model_bird_classification_cnn.pt --model_name model_bird_classification_cnn --output_dir model_bird_classification --data_type FP16 --input_shape [1,3,224,224]\n"
   ]
  },
  {
   "cell_type": "code",
   "execution_count": 183,
   "metadata": {},
   "outputs": [
    {
     "name": "stdout",
     "output_type": "stream",
     "text": [
      "01_pytorch_workflow.ipynb\n",
      "02_pytorch_neural_network_classification.ipynb\n",
      "03_pytorch_computer_vision.ipynb\n",
      "04_PyTorch_Custom_Datasets.ipynb\n",
      "05_pytorch_going_modular_cell_mode.ipynb\n",
      "06_pytorch_transfer_learning.ipynb\n",
      "07_pytorch_experiment_tracking.ipynb\n",
      "08_pytorch_paper_replicating.ipynb\n",
      "09-foodvision-mini-inference-speed-vs-performance.png\n",
      "09_pytorch_model_deployment.ipynb\n",
      "app\n",
      "bird_classification.ipynb\n",
      "bird_classification_vit.pth\n",
      "Bird_species_inference_speed_vs_performance.png\n",
      "car_models.ipynb\n",
      "data\n",
      "demos\n",
      "flagged\n",
      "going_modular\n",
      "helper_functions.py\n",
      "model_bird_classification_cnn.pt\n",
      "model_bird_classification.pt\n",
      "models\n",
      "__pycache__\n"
     ]
    }
   ],
   "source": [
    "!ls"
   ]
  },
  {
   "cell_type": "code",
   "execution_count": 189,
   "metadata": {},
   "outputs": [
    {
     "name": "stdout",
     "output_type": "stream",
     "text": [
      "/home/anonymous/projects/stanlito/lib/python3.10/site-packages/requests/__init__.py:102: RequestsDependencyWarning: urllib3 (1.26.6) or chardet (5.1.0)/charset_normalizer (2.0.12) doesn't match a supported version!\n",
      "  warnings.warn(\"urllib3 ({}) or chardet ({})/charset_normalizer ({}) doesn't match a supported \"\n",
      "Error executing job with overrides: ['mode=export', 'model=yolov8n.pt', 'format=onnx']\n",
      "Traceback (most recent call last):\n",
      "  File \"/home/anonymous/projects/Automatic_Number_Plate_Detection_Recognition_YOLOv8/ultralytics/yolo/cli.py\", line 36, in cli\n",
      "    task_module_map = {\"detect\": yolo.v8.detect, \"segment\": yolo.v8.segment, \"classify\": yolo.v8.classify}\n",
      "AttributeError: module 'ultralytics.yolo.v8' has no attribute 'segment'\n",
      "\n",
      "Set the environment variable HYDRA_FULL_ERROR=1 for a complete stack trace.\n"
     ]
    }
   ],
   "source": [
    "!yolo mode=export model=yolov8n.pt format=onnx"
   ]
  },
  {
   "cell_type": "code",
   "execution_count": 188,
   "metadata": {},
   "outputs": [
    {
     "name": "stdout",
     "output_type": "stream",
     "text": [
      "Looking in indexes: https://pypi.org/simple, https://packagecloud.io/github/git-lfs/pypi/simple\n",
      "Requirement already satisfied: ultralytics in /home/anonymous/projects/Automatic_Number_Plate_Detection_Recognition_YOLOv8 (8.0.3)\n",
      "Requirement already satisfied: hydra-core>=1.2.0 in /home/anonymous/projects/stanlito/lib/python3.10/site-packages (from ultralytics) (1.3.1)\n",
      "Requirement already satisfied: matplotlib>=3.2.2 in /home/anonymous/projects/stanlito/lib/python3.10/site-packages (from ultralytics) (3.5.3)\n",
      "Requirement already satisfied: numpy>=1.18.5 in /home/anonymous/projects/stanlito/lib/python3.10/site-packages (from ultralytics) (1.22.4)\n",
      "Requirement already satisfied: opencv-python>=4.1.1 in /home/anonymous/projects/stanlito/lib/python3.10/site-packages (from ultralytics) (4.7.0.68)\n",
      "Requirement already satisfied: Pillow>=7.1.2 in /home/anonymous/projects/stanlito/lib/python3.10/site-packages (from ultralytics) (9.2.0)\n",
      "Requirement already satisfied: PyYAML>=5.3.1 in /home/anonymous/projects/stanlito/lib/python3.10/site-packages (from ultralytics) (6.0)\n",
      "Requirement already satisfied: requests>=2.23.0 in /home/anonymous/projects/stanlito/lib/python3.10/site-packages (from ultralytics) (2.27.1)\n",
      "Requirement already satisfied: scipy>=1.4.1 in /home/anonymous/projects/stanlito/lib/python3.10/site-packages (from ultralytics) (1.8.1)\n",
      "Requirement already satisfied: torch>=1.7.0 in /home/anonymous/projects/stanlito/lib/python3.10/site-packages (from ultralytics) (1.13.0)\n",
      "Requirement already satisfied: torchvision>=0.8.1 in /home/anonymous/projects/stanlito/lib/python3.10/site-packages (from ultralytics) (0.14.0)\n",
      "Requirement already satisfied: tqdm>=4.64.0 in /home/anonymous/projects/stanlito/lib/python3.10/site-packages (from ultralytics) (4.64.1)\n",
      "Requirement already satisfied: tensorboard>=2.4.1 in /home/anonymous/projects/stanlito/lib/python3.10/site-packages (from ultralytics) (2.9.1)\n",
      "Requirement already satisfied: pandas>=1.1.4 in /home/anonymous/projects/stanlito/lib/python3.10/site-packages (from ultralytics) (1.3.5)\n",
      "Requirement already satisfied: seaborn>=0.11.0 in /home/anonymous/projects/stanlito/lib/python3.10/site-packages (from ultralytics) (0.11.2)\n",
      "Requirement already satisfied: ipython in /home/anonymous/projects/stanlito/lib/python3.10/site-packages (from ultralytics) (8.10.0)\n",
      "Requirement already satisfied: psutil in /home/anonymous/projects/stanlito/lib/python3.10/site-packages (from ultralytics) (5.9.2)\n",
      "Requirement already satisfied: thop>=0.1.1 in /home/anonymous/projects/stanlito/lib/python3.10/site-packages (from ultralytics) (0.1.1.post2209072238)\n",
      "Requirement already satisfied: GitPython>=3.1.24 in /home/anonymous/projects/stanlito/lib/python3.10/site-packages (from ultralytics) (3.1.27)\n",
      "Requirement already satisfied: gitdb<5,>=4.0.1 in /home/anonymous/projects/stanlito/lib/python3.10/site-packages (from GitPython>=3.1.24->ultralytics) (4.0.9)\n",
      "Requirement already satisfied: antlr4-python3-runtime==4.9.* in /home/anonymous/projects/stanlito/lib/python3.10/site-packages (from hydra-core>=1.2.0->ultralytics) (4.9.3)\n",
      "Requirement already satisfied: omegaconf<2.4,>=2.2 in /home/anonymous/projects/stanlito/lib/python3.10/site-packages (from hydra-core>=1.2.0->ultralytics) (2.3.0)\n",
      "Requirement already satisfied: packaging in /home/anonymous/projects/stanlito/lib/python3.10/site-packages (from hydra-core>=1.2.0->ultralytics) (23.0)\n",
      "Requirement already satisfied: fonttools>=4.22.0 in /home/anonymous/projects/stanlito/lib/python3.10/site-packages (from matplotlib>=3.2.2->ultralytics) (4.37.1)\n",
      "Requirement already satisfied: kiwisolver>=1.0.1 in /home/anonymous/projects/stanlito/lib/python3.10/site-packages (from matplotlib>=3.2.2->ultralytics) (1.3.1)\n",
      "Requirement already satisfied: pyparsing>=2.2.1 in /home/anonymous/projects/stanlito/lib/python3.10/site-packages (from matplotlib>=3.2.2->ultralytics) (2.4.7)\n",
      "Requirement already satisfied: cycler>=0.10 in /home/anonymous/projects/stanlito/lib/python3.10/site-packages (from matplotlib>=3.2.2->ultralytics) (0.10.0)\n",
      "Requirement already satisfied: python-dateutil>=2.7 in /home/anonymous/projects/stanlito/lib/python3.10/site-packages (from matplotlib>=3.2.2->ultralytics) (2.8.2)\n",
      "Requirement already satisfied: pytz>=2017.3 in /home/anonymous/projects/stanlito/lib/python3.10/site-packages (from pandas>=1.1.4->ultralytics) (2022.2.1)\n",
      "Requirement already satisfied: charset-normalizer~=2.0.0 in /home/anonymous/projects/stanlito/lib/python3.10/site-packages (from requests>=2.23.0->ultralytics) (2.0.12)\n",
      "Requirement already satisfied: idna<4,>=2.5 in /home/anonymous/projects/stanlito/lib/python3.10/site-packages (from requests>=2.23.0->ultralytics) (2.10)\n",
      "Requirement already satisfied: urllib3<1.27,>=1.21.1 in /home/anonymous/projects/stanlito/lib/python3.10/site-packages (from requests>=2.23.0->ultralytics) (1.26.6)\n",
      "Requirement already satisfied: certifi>=2017.4.17 in /home/anonymous/projects/stanlito/lib/python3.10/site-packages (from requests>=2.23.0->ultralytics) (2021.5.30)\n",
      "Requirement already satisfied: protobuf<3.20,>=3.9.2 in /home/anonymous/projects/stanlito/lib/python3.10/site-packages (from tensorboard>=2.4.1->ultralytics) (3.19.6)\n",
      "Requirement already satisfied: tensorboard-data-server<0.7.0,>=0.6.0 in /home/anonymous/projects/stanlito/lib/python3.10/site-packages (from tensorboard>=2.4.1->ultralytics) (0.6.1)\n",
      "Requirement already satisfied: wheel>=0.26 in /home/anonymous/projects/stanlito/lib/python3.10/site-packages (from tensorboard>=2.4.1->ultralytics) (0.38.4)\n",
      "Requirement already satisfied: werkzeug>=1.0.1 in /home/anonymous/projects/stanlito/lib/python3.10/site-packages (from tensorboard>=2.4.1->ultralytics) (2.2.2)\n",
      "Requirement already satisfied: google-auth<3,>=1.6.3 in /home/anonymous/projects/stanlito/lib/python3.10/site-packages (from tensorboard>=2.4.1->ultralytics) (2.11.0)\n",
      "Requirement already satisfied: grpcio>=1.24.3 in /home/anonymous/projects/stanlito/lib/python3.10/site-packages (from tensorboard>=2.4.1->ultralytics) (1.47.0)\n",
      "Requirement already satisfied: absl-py>=0.4 in /home/anonymous/projects/stanlito/lib/python3.10/site-packages (from tensorboard>=2.4.1->ultralytics) (1.2.0)\n",
      "Requirement already satisfied: markdown>=2.6.8 in /home/anonymous/projects/stanlito/lib/python3.10/site-packages (from tensorboard>=2.4.1->ultralytics) (3.3.7)\n",
      "Requirement already satisfied: setuptools>=41.0.0 in /home/anonymous/projects/stanlito/lib/python3.10/site-packages (from tensorboard>=2.4.1->ultralytics) (67.3.1)\n",
      "Requirement already satisfied: tensorboard-plugin-wit>=1.6.0 in /home/anonymous/projects/stanlito/lib/python3.10/site-packages (from tensorboard>=2.4.1->ultralytics) (1.8.1)\n",
      "Requirement already satisfied: google-auth-oauthlib<0.5,>=0.4.1 in /home/anonymous/projects/stanlito/lib/python3.10/site-packages (from tensorboard>=2.4.1->ultralytics) (0.4.6)\n",
      "Requirement already satisfied: nvidia-cublas-cu11==11.10.3.66 in /home/anonymous/projects/stanlito/lib/python3.10/site-packages (from torch>=1.7.0->ultralytics) (11.10.3.66)\n",
      "Requirement already satisfied: nvidia-cuda-nvrtc-cu11==11.7.99 in /home/anonymous/projects/stanlito/lib/python3.10/site-packages (from torch>=1.7.0->ultralytics) (11.7.99)\n",
      "Requirement already satisfied: nvidia-cuda-runtime-cu11==11.7.99 in /home/anonymous/projects/stanlito/lib/python3.10/site-packages (from torch>=1.7.0->ultralytics) (11.7.99)\n",
      "Requirement already satisfied: nvidia-cudnn-cu11==8.5.0.96 in /home/anonymous/projects/stanlito/lib/python3.10/site-packages (from torch>=1.7.0->ultralytics) (8.5.0.96)\n",
      "Requirement already satisfied: typing-extensions in /home/anonymous/projects/stanlito/lib/python3.10/site-packages (from torch>=1.7.0->ultralytics) (4.3.0)\n",
      "Requirement already satisfied: pickleshare in /home/anonymous/projects/stanlito/lib/python3.10/site-packages (from ipython->ultralytics) (0.7.5)\n",
      "Requirement already satisfied: backcall in /home/anonymous/projects/stanlito/lib/python3.10/site-packages (from ipython->ultralytics) (0.2.0)\n",
      "Requirement already satisfied: pexpect>4.3 in /home/anonymous/projects/stanlito/lib/python3.10/site-packages (from ipython->ultralytics) (4.8.0)\n",
      "Requirement already satisfied: matplotlib-inline in /home/anonymous/projects/stanlito/lib/python3.10/site-packages (from ipython->ultralytics) (0.1.6)\n",
      "Requirement already satisfied: stack-data in /home/anonymous/projects/stanlito/lib/python3.10/site-packages (from ipython->ultralytics) (0.5.0)\n",
      "Requirement already satisfied: prompt-toolkit<3.1.0,>=3.0.30 in /home/anonymous/projects/stanlito/lib/python3.10/site-packages (from ipython->ultralytics) (3.0.31)\n",
      "Requirement already satisfied: traitlets>=5 in /home/anonymous/projects/stanlito/lib/python3.10/site-packages (from ipython->ultralytics) (5.9.0)\n",
      "Requirement already satisfied: pygments>=2.4.0 in /home/anonymous/projects/stanlito/lib/python3.10/site-packages (from ipython->ultralytics) (2.14.0)\n",
      "Requirement already satisfied: decorator in /home/anonymous/projects/stanlito/lib/python3.10/site-packages (from ipython->ultralytics) (5.1.1)\n",
      "Requirement already satisfied: jedi>=0.16 in /home/anonymous/projects/stanlito/lib/python3.10/site-packages (from ipython->ultralytics) (0.18.1)\n",
      "Requirement already satisfied: six in /home/anonymous/projects/stanlito/lib/python3.10/site-packages (from cycler>=0.10->matplotlib>=3.2.2->ultralytics) (1.16.0)\n",
      "Requirement already satisfied: smmap<6,>=3.0.1 in /home/anonymous/projects/stanlito/lib/python3.10/site-packages (from gitdb<5,>=4.0.1->GitPython>=3.1.24->ultralytics) (5.0.0)\n",
      "Requirement already satisfied: cachetools<6.0,>=2.0.0 in /home/anonymous/projects/stanlito/lib/python3.10/site-packages (from google-auth<3,>=1.6.3->tensorboard>=2.4.1->ultralytics) (5.3.0)\n",
      "Requirement already satisfied: rsa<5,>=3.1.4 in /home/anonymous/projects/stanlito/lib/python3.10/site-packages (from google-auth<3,>=1.6.3->tensorboard>=2.4.1->ultralytics) (4.9)\n",
      "Requirement already satisfied: pyasn1-modules>=0.2.1 in /home/anonymous/projects/stanlito/lib/python3.10/site-packages (from google-auth<3,>=1.6.3->tensorboard>=2.4.1->ultralytics) (0.2.8)\n",
      "Requirement already satisfied: requests-oauthlib>=0.7.0 in /home/anonymous/projects/stanlito/lib/python3.10/site-packages (from google-auth-oauthlib<0.5,>=0.4.1->tensorboard>=2.4.1->ultralytics) (1.3.1)\n",
      "Requirement already satisfied: parso<0.9.0,>=0.8.0 in /home/anonymous/projects/stanlito/lib/python3.10/site-packages (from jedi>=0.16->ipython->ultralytics) (0.8.3)\n",
      "Requirement already satisfied: ptyprocess>=0.5 in /home/anonymous/projects/stanlito/lib/python3.10/site-packages (from pexpect>4.3->ipython->ultralytics) (0.7.0)\n",
      "Requirement already satisfied: wcwidth in /home/anonymous/projects/stanlito/lib/python3.10/site-packages (from prompt-toolkit<3.1.0,>=3.0.30->ipython->ultralytics) (0.2.5)\n",
      "Requirement already satisfied: MarkupSafe>=2.1.1 in /home/anonymous/projects/stanlito/lib/python3.10/site-packages (from werkzeug>=1.0.1->tensorboard>=2.4.1->ultralytics) (2.1.1)\n",
      "Requirement already satisfied: asttokens in /home/anonymous/projects/stanlito/lib/python3.10/site-packages (from stack-data->ipython->ultralytics) (2.0.8)\n",
      "Requirement already satisfied: executing in /home/anonymous/projects/stanlito/lib/python3.10/site-packages (from stack-data->ipython->ultralytics) (1.0.0)\n",
      "Requirement already satisfied: pure-eval in /home/anonymous/projects/stanlito/lib/python3.10/site-packages (from stack-data->ipython->ultralytics) (0.2.2)\n",
      "Requirement already satisfied: pyasn1<0.5.0,>=0.4.6 in /home/anonymous/projects/stanlito/lib/python3.10/site-packages (from pyasn1-modules>=0.2.1->google-auth<3,>=1.6.3->tensorboard>=2.4.1->ultralytics) (0.4.8)\n",
      "Requirement already satisfied: oauthlib>=3.0.0 in /home/anonymous/projects/stanlito/lib/python3.10/site-packages (from requests-oauthlib>=0.7.0->google-auth-oauthlib<0.5,>=0.4.1->tensorboard>=2.4.1->ultralytics) (3.2.0)\n"
     ]
    }
   ],
   "source": [
    "!pip install ultralytics"
   ]
  },
  {
   "cell_type": "code",
   "execution_count": 191,
   "metadata": {},
   "outputs": [
    {
     "ename": "AttributeError",
     "evalue": "module 'onnx' has no attribute 'export'",
     "output_type": "error",
     "traceback": [
      "\u001b[0;31m---------------------------------------------------------------------------\u001b[0m",
      "\u001b[0;31mAttributeError\u001b[0m                            Traceback (most recent call last)",
      "Cell \u001b[0;32mIn[191], line 3\u001b[0m\n\u001b[1;32m      1\u001b[0m \u001b[38;5;28;01mimport\u001b[39;00m \u001b[38;5;21;01monnx\u001b[39;00m\n\u001b[1;32m      2\u001b[0m output_path \u001b[38;5;241m=\u001b[39m \u001b[38;5;124m'\u001b[39m\u001b[38;5;124mmodel.onnx\u001b[39m\u001b[38;5;124m'\u001b[39m\n\u001b[0;32m----> 3\u001b[0m \u001b[43monnx\u001b[49m\u001b[38;5;241;43m.\u001b[39;49m\u001b[43mexport\u001b[49m(vit, dummy_input, output_path, verbose\u001b[38;5;241m=\u001b[39m\u001b[38;5;28;01mTrue\u001b[39;00m)\n",
      "\u001b[0;31mAttributeError\u001b[0m: module 'onnx' has no attribute 'export'"
     ]
    }
   ],
   "source": [
    "import onnx\n",
    "output_path = 'model.onnx'\n",
    "onnx.export(vit, dummy_input, output_path, verbose=True)"
   ]
  },
  {
   "cell_type": "code",
   "execution_count": null,
   "metadata": {},
   "outputs": [],
   "source": []
  },
  {
   "cell_type": "code",
   "execution_count": null,
   "metadata": {},
   "outputs": [],
   "source": []
  },
  {
   "cell_type": "code",
   "execution_count": null,
   "metadata": {},
   "outputs": [],
   "source": []
  },
  {
   "cell_type": "code",
   "execution_count": null,
   "metadata": {},
   "outputs": [],
   "source": []
  },
  {
   "cell_type": "code",
   "execution_count": null,
   "metadata": {},
   "outputs": [],
   "source": []
  },
  {
   "cell_type": "code",
   "execution_count": null,
   "metadata": {},
   "outputs": [],
   "source": []
  },
  {
   "cell_type": "code",
   "execution_count": null,
   "metadata": {},
   "outputs": [],
   "source": []
  },
  {
   "cell_type": "code",
   "execution_count": null,
   "metadata": {},
   "outputs": [],
   "source": []
  },
  {
   "cell_type": "code",
   "execution_count": null,
   "metadata": {},
   "outputs": [],
   "source": []
  },
  {
   "cell_type": "code",
   "execution_count": null,
   "metadata": {},
   "outputs": [],
   "source": []
  },
  {
   "cell_type": "code",
   "execution_count": null,
   "metadata": {},
   "outputs": [],
   "source": []
  },
  {
   "cell_type": "code",
   "execution_count": null,
   "metadata": {},
   "outputs": [],
   "source": []
  },
  {
   "cell_type": "code",
   "execution_count": null,
   "metadata": {},
   "outputs": [],
   "source": []
  },
  {
   "cell_type": "code",
   "execution_count": null,
   "metadata": {},
   "outputs": [],
   "source": []
  },
  {
   "cell_type": "code",
   "execution_count": null,
   "metadata": {},
   "outputs": [],
   "source": []
  },
  {
   "cell_type": "code",
   "execution_count": null,
   "metadata": {},
   "outputs": [],
   "source": []
  },
  {
   "cell_type": "code",
   "execution_count": null,
   "metadata": {},
   "outputs": [],
   "source": []
  },
  {
   "cell_type": "code",
   "execution_count": null,
   "metadata": {},
   "outputs": [],
   "source": []
  },
  {
   "cell_type": "code",
   "execution_count": null,
   "metadata": {},
   "outputs": [],
   "source": []
  },
  {
   "cell_type": "code",
   "execution_count": null,
   "metadata": {},
   "outputs": [],
   "source": []
  },
  {
   "cell_type": "code",
   "execution_count": null,
   "metadata": {},
   "outputs": [],
   "source": []
  },
  {
   "cell_type": "code",
   "execution_count": null,
   "metadata": {},
   "outputs": [],
   "source": []
  },
  {
   "cell_type": "code",
   "execution_count": null,
   "metadata": {},
   "outputs": [],
   "source": []
  },
  {
   "cell_type": "code",
   "execution_count": null,
   "metadata": {},
   "outputs": [],
   "source": []
  },
  {
   "cell_type": "code",
   "execution_count": null,
   "metadata": {},
   "outputs": [],
   "source": []
  }
 ],
 "metadata": {
  "kernelspec": {
   "display_name": "Python 3",
   "language": "python",
   "name": "python3"
  },
  "language_info": {
   "codemirror_mode": {
    "name": "ipython",
    "version": 3
   },
   "file_extension": ".py",
   "mimetype": "text/x-python",
   "name": "python",
   "nbconvert_exporter": "python",
   "pygments_lexer": "ipython3",
   "version": "3.7.7"
  }
 },
 "nbformat": 4,
 "nbformat_minor": 5
}
