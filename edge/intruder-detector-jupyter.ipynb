{
 "cells": [
  {
   "cell_type": "markdown",
   "metadata": {},
   "source": [
    "<a id=\"top\"></a>\n",
    "# Intruder Detector Sample Application"
   ]
  },
  {
   "cell_type": "markdown",
   "metadata": {},
   "source": [
    "## OpenVINO version check:\n",
    "You are currently using the Intel® Distribution of OpenVINO™ Toolkit latest development version. Alternatively, you can open a version of this notebook for the Intel® Distribution of OpenVINO™ Toolkit LTS development version by [clicking this link](../../../../openvino-lts/developer-samples/python/intruder-detector-python/intruder-detector-jupyter.ipynb)."
   ]
  },
  {
   "cell_type": "markdown",
   "metadata": {},
   "source": [
    "## Prerequisites\n",
    "This sample requires the following:\n",
    "- All files are present and in the following directory structure:\n",
    "    - **inference.py** - Base Python* code to perform inference\n",
    "    - **intruder-detector-jupyter.ipynb** - This Jupyter* Notebook\n",
    "    - **intruder-detector.py** - Python* code for intruder detection application\n",
    "    - **resources/conf.txt** - Application configuration file\n",
    "    - **resources/labels.txt** - Mapping of numerical labels to text strings\n",
    "    - **resources/person-bicycle-car-detection.mp4** - Test video\n",
    "\n",
    "It is recommended that you have already read the following from [Get Started on the Intel® DevCloud for the Edge](https://devcloud.intel.com/edge/home/):\n",
    "- [Overview of the Intel® DevCloud for the Edge](https://devcloud.intel.com/edge/get_started/devcloud/)\n",
    "- [Overview of the Intel® Distribution of OpenVINO™ toolkit](https://devcloud.intel.com/edge/get_started/openvino/)\n",
    "\n",
    "<br><div class=note><i><b>Note: </b>It is assumed that the server this sample is being run on is on the Intel® DevCloud for the Edge which has Jupyter* Notebook customizations and all the required libraries already installed.  If you download or copy to a new server, this sample may not run.</i></div>\n"
   ]
  },
  {
   "cell_type": "markdown",
   "metadata": {},
   "source": [
    "## Introduction\n",
    "\n",
    "This sample application demonstrates how a smart video IoT solution may be created using Intel® hardware and software tools to perform intruder detection.  This solution detects any number of objects within a video frame and for each detected object of interest (an intruder):\n",
    "- Draws a box around the detected object\n",
    "- Reports the object label, time detected, and camera source in a log window and log file\n",
    "- Saves a snapshot image of the frame\n",
    "\n",
    "### Key concepts\n",
    "This sample application includes an example for the following:\n",
    "- Application:\n",
    "  - Video and image input is supported using OpenCV\n",
    "  - OpenCV is used to draw bounding boxes around detected objects, labels, and other information\n",
    "  - Visualization of the resulting bounding boxes in the output\n",
    "- Intel® DevCloud for the Edge:\n",
    "  - Submitting inference as jobs that are performed on different edge compute nodes (rather than on the development node hosting this Jupyter* notebook)\n",
    "  - Monitoring job status\n",
    "  - Viewing results and assessing performance for hardware on different compute nodes\n",
    "- [Intel® Distribution of OpenVINO™ toolkit](https://software.intel.com/openvino-toolkit):\n",
    "  - Create the necessary Intermediate Representation (IR) files for the inference model using the [Model Downloader](http://docs.openvinotoolkit.org/latest/_tools_downloader_README.html) and [Model Optimizer](http://docs.openvinotoolkit.org/latest/_docs_MO_DG_Deep_Learning_Model_Optimizer_DevGuide.html)\n",
    "  - Run an inference application on multiple hardware devices using the [Inference Engine](http://docs.openvinotoolkit.org/latest/_docs_IE_DG_Deep_Learning_Inference_Engine_DevGuide.html)\n"
   ]
  },
  {
   "cell_type": "markdown",
   "metadata": {},
   "source": [
    "## Intruder detector application\n",
    "The intruder detector application uses the Intel® Distribution of OpenVINO™ toolkit to perform inference on an input video to locate an intruder within each frame.  We will setup, run, and view the results for this application for several different hardware devices (CPU. GPU, etc.) available on the compute nodes within the Intel® DevCloud for the Edge.  To accomplish this, we will be performing the following tasks:\n",
    "\n",
    "1. Use the [Model Downloader](http://docs.openvinotoolkit.org/latest/_tools_downloader_README.html) to download the inference model IR files needed to perform inference\n",
    "2. Create the job file used to submit running inference on compute nodes\n",
    "3. Submit jobs for different compute nodes and monitor the job status until complete\n",
    "4. View results and assess performance \n",
    "\n",
    "### How it works\n",
    "At startup the intruder detector application configures itself by parsing the command line arguments, reading a configuration file, and reading a labels file.  Once configured, the application loads the specified inference model's IR files into the [Inference Engine](http://docs.openvinotoolkit.org/latest/_docs_IE_DG_Deep_Learning_Inference_Engine_DevGuide.html) and runs inference on the specified input image or video to detect objects.  The label for each detected object is compared against the list of labels that were specified as an \"intruder\".  When an intruder is detected, a box is drawn around the object on the output image, the intruder is reported with time, and a snapshot of the output image is saved.\n",
    "\n",
    "To run the application on the Intel® DevCloud for the Edge, a job is submitted to an edge compute node with a hardware accelerator such as Intel® HD Graphics GPU, Intel® Movidius™ Neural Compute Stick 2.  After inference on the input is completed, the output is stored in the appropriate `results/<architecture>/` directory.  The results are then viewed within this Jupyter* Notebook using the `videoHTML` video playback utility.\n",
    "\n",
    "The application and inference code for this sample is already implemented in the two Python* files: [`intruder-detector.py`](./intruder-detector.py) and [`inference.py`](./inference.py).\n",
    "\n",
    "The following sections will guide you through configuring and running the intruder detector application."
   ]
  },
  {
   "cell_type": "markdown",
   "metadata": {},
   "source": [
    "### Configuration\n",
    "The following sections describe all the necessary configuration to run the intruder detector application.\n",
    "#### Command line arguments\n",
    "The application is run from the command line using the following format:\n",
    "```bash\n",
    "python3 intruder-detector.py <arguments...>\n",
    "```\n",
    "The required command line _<arguments...>_ to run the Python* executable [`intruder-detector.py`](./intruder-detector.py) are:\n",
    "- **-m** - Path to the _.xml_ IR file (created using [Model Optimizer](http://docs.openvinotoolkit.org/latest/_docs_MO_DG_Deep_Learning_Model_Optimizer_DevGuide.html)) for the inference model. \n",
    "- **-lb** - Path to labels file that matches the trained model used\n",
    "- **-o** - The path to where the output video file will be stored\n",
    "- **-d** - Device type to use to run inference (CPU, GPU, MYRIAD)"
   ]
  },
  {
   "cell_type": "markdown",
   "metadata": {},
   "source": [
    "#### The labels file\n",
    "\n",
    "In order to label detected objects, the sample application requires a labels file associated with the model being used for detection.  The labels file is a text file containing all the classes/labels that the model can recognize, in the order that it was trained to recognize them (one class per line).  The included labels file `resources/labels.txt`, is intended to be used with the `person-vehicle-bike-detection-crossroad-0078` model that will be used for inference.\n",
    "\n",
    "Below are the contents of the `labels.txt` file that we will be using:\n",
    "```\n",
    "person\n",
    "car\n",
    "bicycle\n",
    "```"
   ]
  },
  {
   "cell_type": "markdown",
   "metadata": {},
   "source": [
    "#### The config file\n",
    "\n",
    "The configuration file `resources/conf.txt` contains the path to the video that will be used by the application followed by the labels of \"intruders\" to be detected on the input video. All defined labels (intruders) will be reported and annotated with a box on the output video.\n",
    "\n",
    "Each line of the configuration file is of the form ``video: <path/to/video>`` or ``intruder: <label>``.<br>\n",
    "The labels used in the configuration file must coincide with the labels from the labels file.\n",
    "\n",
    "Below are the contents of the `conf.txt` file that we will be using:\n",
    "\n",
    "```\n",
    "video: ./resources/person-bicycle-car-detection.mp4\n",
    "intruder: person\n",
    "intruder: bicycle\n",
    "intruder: car\n",
    "```"
   ]
  },
  {
   "cell_type": "markdown",
   "metadata": {},
   "source": [
    "### Imports\n",
    "We begin by importing all the Python* modules that will be used within this Jupyter* Notebook to run and display the results of the intruder detector application on the Intel® DevCloud for the Edge:\n",
    "- [os](https://docs.python.org/3/library/os.html#module-os) - Operating system specific module (used for file name parsing)\n",
    "- [time](https://docs.python.org/3/library/time.html#module-time) - Time tracking module (used for measuring execution time)\n",
    "- [matplotlib.pyplot](https://matplotlib.org/) - pyplot is used for displaying output images\n",
    "- [sys](https://docs.python.org/3/library/sys.html#module-sys) - System specific parameters and functions\n",
    "- [qarpo.demoutils](https://github.com/ColfaxResearch/qarpo) - Provides utilities for displaying results and managing jobs from within this Jupyter* Notebook\n",
    "\n",
    "Run the following cell to import the Python* dependencies needed.\n",
    "\n",
    "<br><div class=tip><b>Tip: </b>Select a cell and then use **Ctrl+Enter** to run that cell.</div>"
   ]
  },
  {
   "cell_type": "code",
   "execution_count": 1,
   "metadata": {
    "ExecuteTime": {
     "end_time": "2021-04-14T18:52:59.153664Z",
     "start_time": "2021-04-14T18:52:58.491414Z"
    }
   },
   "outputs": [
    {
     "name": "stdout",
     "output_type": "stream",
     "text": [
      "Imported Python modules successfully.\n"
     ]
    }
   ],
   "source": [
    "import matplotlib.pyplot as plt\n",
    "import os\n",
    "import time\n",
    "import sys\n",
    "from qarpo.demoutils import *\n",
    "print('Imported Python modules successfully.')"
   ]
  },
  {
   "cell_type": "markdown",
   "metadata": {},
   "source": [
    "### Create the IR files for the inference model\n",
    "\n",
    "The Intel® Distribution of OpenVINO™ toolkit includes the [Model Optimizer](http://docs.openvinotoolkit.org/latest/_docs_MO_DG_Deep_Learning_Model_Optimizer_DevGuide.html) used to convert and optimize trained models into the Intermediate Representation (IR) model files, and the [Inference Engine](http://docs.openvinotoolkit.org/latest/_docs_IE_DG_Deep_Learning_Inference_Engine_DevGuide.html) that uses the IR model files to run inference on hardware devices.  The IR model files can be created from trained models from popular frameworks (e.g. Caffe\\*, Tensorflow*, etc.). \n",
    "The Intel® Distribution of OpenVINO™ toolkit also includes the [Model Downloader](http://docs.openvinotoolkit.org/latest/_tools_downloader_README.html) utility  to download some common inference models from the [Open Model Zoo](https://github.com/opencv/open_model_zoo). \n",
    "\n",
    "Run the following cell to run the Model Downloader utility with the `--print_all` argument to see all the available inference models."
   ]
  },
  {
   "cell_type": "code",
   "execution_count": 2,
   "metadata": {
    "ExecuteTime": {
     "end_time": "2021-04-14T18:53:00.527864Z",
     "start_time": "2021-04-14T18:52:59.156599Z"
    }
   },
   "outputs": [
    {
     "name": "stdout",
     "output_type": "stream",
     "text": [
      "Sphereface\n",
      "aclnet\n",
      "aclnet-int8\n",
      "action-recognition-0001\n",
      "age-gender-recognition-retail-0013\n",
      "alexnet\n",
      "anti-spoof-mn3\n",
      "asl-recognition-0004\n",
      "background-matting-mobilenetv2\n",
      "bert-base-ner\n",
      "bert-large-uncased-whole-word-masking-squad-0001\n",
      "bert-large-uncased-whole-word-masking-squad-emb-0001\n",
      "bert-large-uncased-whole-word-masking-squad-int8-0001\n",
      "bert-small-uncased-whole-word-masking-squad-0001\n",
      "bert-small-uncased-whole-word-masking-squad-0002\n",
      "bert-small-uncased-whole-word-masking-squad-emb-int8-0001\n",
      "bert-small-uncased-whole-word-masking-squad-int8-0002\n",
      "brain-tumor-segmentation-0001\n",
      "brain-tumor-segmentation-0002\n",
      "caffenet\n",
      "cocosnet\n",
      "colorization-siggraph\n",
      "colorization-v2\n",
      "common-sign-language-0001\n",
      "common-sign-language-0002\n",
      "convnext-tiny\n",
      "ctdet_coco_dlav0_512\n",
      "ctpn\n",
      "deblurgan-v2\n",
      "deeplabv3\n",
      "densenet-121\n",
      "densenet-121-tf\n",
      "detr-resnet50\n",
      "dla-34\n",
      "driver-action-recognition-adas-0002\n",
      "drn-d-38\n",
      "efficientdet-d0-tf\n",
      "efficientdet-d1-tf\n",
      "efficientnet-b0\n",
      "efficientnet-b0-pytorch\n",
      "efficientnet-v2-b0\n",
      "efficientnet-v2-s\n",
      "emotions-recognition-retail-0003\n",
      "f3net\n",
      "face-detection-0200\n",
      "face-detection-0202\n",
      "face-detection-0204\n",
      "face-detection-0205\n",
      "face-detection-0206\n",
      "face-detection-adas-0001\n",
      "face-detection-retail-0004\n",
      "face-detection-retail-0005\n",
      "face-detection-retail-0044\n",
      "face-recognition-resnet100-arcface-onnx\n",
      "face-reidentification-retail-0095\n",
      "faceboxes-pytorch\n",
      "facenet-20180408-102900\n",
      "facial-landmarks-35-adas-0002\n",
      "facial-landmarks-98-detection-0001\n",
      "fast-neural-style-mosaic-onnx\n",
      "faster-rcnn-resnet101-coco-sparse-60-0001\n",
      "faster_rcnn_inception_resnet_v2_atrous_coco\n",
      "faster_rcnn_resnet50_coco\n",
      "fastseg-large\n",
      "fastseg-small\n",
      "fbcnn\n",
      "fcrn-dp-nyu-depth-v2-tf\n",
      "formula-recognition-medium-scan-0001\n",
      "formula-recognition-polynomials-handwritten-0001\n",
      "forward-tacotron\n",
      "gaze-estimation-adas-0002\n",
      "gmcnn-places2-tf\n",
      "googlenet-v1\n",
      "googlenet-v1-tf\n",
      "googlenet-v2\n",
      "googlenet-v2-tf\n",
      "googlenet-v3\n",
      "googlenet-v3-pytorch\n",
      "googlenet-v4-tf\n",
      "gpt-2\n",
      "handwritten-english-recognition-0001\n",
      "handwritten-japanese-recognition-0001\n",
      "handwritten-score-recognition-0003\n",
      "handwritten-simplified-chinese-recognition-0001\n",
      "hbonet-0.25\n",
      "hbonet-1.0\n",
      "head-pose-estimation-adas-0001\n",
      "higher-hrnet-w32-human-pose-estimation\n",
      "horizontal-text-detection-0001\n",
      "hrnet-v2-c1-segmentation\n",
      "human-pose-estimation-0001\n",
      "human-pose-estimation-0005\n",
      "human-pose-estimation-0006\n",
      "human-pose-estimation-0007\n",
      "human-pose-estimation-3d-0001\n",
      "hybrid-cs-model-mri\n",
      "i3d-rgb-tf\n",
      "icnet-camvid-ava-0001\n",
      "icnet-camvid-ava-sparse-30-0001\n",
      "icnet-camvid-ava-sparse-60-0001\n",
      "image-retrieval-0001\n",
      "inception-resnet-v2-tf\n",
      "instance-segmentation-person-0007\n",
      "instance-segmentation-security-0002\n",
      "instance-segmentation-security-0091\n",
      "instance-segmentation-security-0228\n",
      "instance-segmentation-security-1039\n",
      "instance-segmentation-security-1040\n",
      "landmarks-regression-retail-0009\n",
      "levit-128s\n",
      "license-plate-recognition-barrier-0001\n",
      "license-plate-recognition-barrier-0007\n",
      "machine-translation-nar-de-en-0002\n",
      "machine-translation-nar-en-de-0002\n",
      "machine-translation-nar-en-ru-0002\n",
      "machine-translation-nar-ru-en-0002\n",
      "mask_rcnn_inception_resnet_v2_atrous_coco\n",
      "mask_rcnn_resnet50_atrous_coco\n",
      "midasnet\n",
      "mixnet-l\n",
      "mobilefacedet-v1-mxnet\n",
      "mobilenet-ssd\n",
      "mobilenet-v1-0.25-128\n",
      "mobilenet-v1-1.0-224\n",
      "mobilenet-v1-1.0-224-tf\n",
      "mobilenet-v2\n",
      "mobilenet-v2-1.0-224\n",
      "mobilenet-v2-1.4-224\n",
      "mobilenet-v2-pytorch\n",
      "mobilenet-v3-large-1.0-224-paddle\n",
      "mobilenet-v3-large-1.0-224-tf\n",
      "mobilenet-v3-small-1.0-224-paddle\n",
      "mobilenet-v3-small-1.0-224-tf\n",
      "mobilenet-yolo-v4-syg\n",
      "modnet-photographic-portrait-matting\n",
      "modnet-webcam-portrait-matting\n",
      "mozilla-deepspeech-0.6.1\n",
      "mozilla-deepspeech-0.8.2\n",
      "mtcnn\n",
      "nanodet-m-1.5x-416\n",
      "nanodet-plus-m-1.5x-416\n",
      "netvlad-tf\n",
      "nfnet-f0\n",
      "noise-suppression-denseunet-ll-0001\n",
      "noise-suppression-poconetlike-0001\n",
      "ocrnet-hrnet-w48-paddle\n",
      "octave-resnet-26-0.25\n",
      "open-closed-eye-0001\n",
      "pedestrian-and-vehicle-detector-adas-0001\n",
      "pedestrian-detection-adas-0002\n",
      "pelee-coco\n",
      "person-attributes-recognition-crossroad-0230\n",
      "person-attributes-recognition-crossroad-0234\n",
      "person-attributes-recognition-crossroad-0238\n",
      "person-detection-0106\n",
      "person-detection-0200\n",
      "person-detection-0201\n",
      "person-detection-0202\n",
      "person-detection-0203\n",
      "person-detection-0301\n",
      "person-detection-0302\n",
      "person-detection-0303\n",
      "person-detection-action-recognition-0005\n",
      "person-detection-action-recognition-0006\n",
      "person-detection-action-recognition-teacher-0002\n",
      "person-detection-asl-0001\n",
      "person-detection-raisinghand-recognition-0001\n",
      "person-detection-retail-0002\n",
      "person-detection-retail-0013\n",
      "person-reidentification-retail-0277\n",
      "person-reidentification-retail-0286\n",
      "person-reidentification-retail-0287\n",
      "person-reidentification-retail-0288\n",
      "person-vehicle-bike-detection-2000\n",
      "person-vehicle-bike-detection-2001\n",
      "person-vehicle-bike-detection-2002\n",
      "person-vehicle-bike-detection-2003\n",
      "person-vehicle-bike-detection-2004\n",
      "person-vehicle-bike-detection-crossroad-0078\n",
      "person-vehicle-bike-detection-crossroad-1016\n",
      "person-vehicle-bike-detection-crossroad-yolov3-1020\n",
      "product-detection-0001\n",
      "pspnet-pytorch\n",
      "quartznet-15x5-en\n",
      "regnetx-3.2gf\n",
      "repvgg-a0\n",
      "repvgg-b1\n",
      "repvgg-b3\n",
      "resnest-50-pytorch\n",
      "resnet-18-pytorch\n",
      "resnet-34-pytorch\n",
      "resnet-50-pytorch\n",
      "resnet-50-tf\n",
      "resnet18-xnor-binary-onnx-0001\n",
      "resnet50-binary-0001\n",
      "retinaface-resnet50-pytorch\n",
      "retinanet-tf\n",
      "rexnet-v1-x1.0\n",
      "rfcn-resnet101-coco-tf\n",
      "road-segmentation-adas-0001\n",
      "robust-video-matting-mobilenetv3\n",
      "se-inception\n",
      "se-resnet-50\n",
      "se-resnext-50\n",
      "semantic-segmentation-adas-0001\n",
      "shufflenet-v2-x0.5\n",
      "shufflenet-v2-x1.0\n",
      "single-human-pose-estimation-0001\n",
      "single-image-super-resolution-1032\n",
      "single-image-super-resolution-1033\n",
      "smartlab-object-detection-0001\n",
      "smartlab-object-detection-0002\n",
      "smartlab-object-detection-0003\n",
      "smartlab-object-detection-0004\n",
      "smartlab-sequence-modelling-0001\n",
      "squeezenet1.0\n",
      "squeezenet1.1\n",
      "ssd-resnet34-1200-onnx\n",
      "ssd300\n",
      "ssd512\n",
      "ssd_mobilenet_v1_coco\n",
      "ssd_mobilenet_v1_fpn_coco\n",
      "ssdlite_mobilenet_v2\n",
      "swin-tiny-patch4-window7-224\n",
      "t2t-vit-14\n",
      "text-detection-0003\n",
      "text-detection-0004\n",
      "text-image-super-resolution-0001\n",
      "text-recognition-0012\n",
      "text-recognition-0014\n",
      "text-recognition-0015\n",
      "text-recognition-0016\n",
      "text-recognition-resnet-fc\n",
      "text-spotting-0005\n",
      "text-to-speech-en-0001\n",
      "text-to-speech-en-multi-0001\n",
      "time-series-forecasting-electricity-0001\n",
      "ultra-lightweight-face-detection-rfb-320\n",
      "ultra-lightweight-face-detection-slim-320\n",
      "unet-camvid-onnx-0001\n",
      "vehicle-attributes-recognition-barrier-0039\n",
      "vehicle-attributes-recognition-barrier-0042\n",
      "vehicle-detection-0200\n",
      "vehicle-detection-0201\n",
      "vehicle-detection-0202\n",
      "vehicle-detection-adas-0002\n",
      "vehicle-license-plate-detection-barrier-0106\n",
      "vehicle-license-plate-detection-barrier-0123\n",
      "vehicle-reid-0001\n",
      "vgg16\n",
      "vgg19\n",
      "vitstr-small-patch16-224\n",
      "wav2vec2-base\n",
      "wavernn\n",
      "weld-porosity-detection-0001\n",
      "yolact-resnet50-fpn-pytorch\n",
      "yolo-v1-tiny-tf\n",
      "yolo-v2-ava-0001\n",
      "yolo-v2-ava-sparse-35-0001\n",
      "yolo-v2-ava-sparse-70-0001\n",
      "yolo-v2-tf\n",
      "yolo-v2-tiny-ava-0001\n",
      "yolo-v2-tiny-ava-sparse-30-0001\n",
      "yolo-v2-tiny-ava-sparse-60-0001\n",
      "yolo-v2-tiny-tf\n",
      "yolo-v2-tiny-vehicle-detection-0001\n",
      "yolo-v3-onnx\n",
      "yolo-v3-tf\n",
      "yolo-v3-tiny-onnx\n",
      "yolo-v3-tiny-tf\n",
      "yolo-v4-tf\n",
      "yolo-v4-tiny-tf\n",
      "yolof\n",
      "yolox-tiny\n"
     ]
    }
   ],
   "source": [
    "!omz_downloader --print_all"
   ]
  },
  {
   "cell_type": "markdown",
   "metadata": {},
   "source": [
    "<br><div class=tip><i><b>Tip: </b>The '!' at the beginning is a special Jupyter* Notebook command that allows you to run shell commands as if you are at a command line. The above command will also work in a terminal (with the '!' removed).</i></div>\n",
    "\n",
    "Some of these downloaded models are already in the IR format, while others will require the Model Optimizer to be run. For our application, we will be using the [`person-vehicle-bike-detection-crossroad-0078`](https://github.com/opencv/open_model_zoo/tree/master/models/intel/person-vehicle-bike-detection-crossroad-0078) inference model, which is already in IR format. \n",
    "\n",
    "The format for the Model Downloader command to download a model is:\n",
    "```bash\n",
    "/opt/intel/openvino/deployment_tools/tools/model_downloader/downloader.py \\\n",
    "    --name <model_name> -o <output_directory>\n",
    "```\n",
    "The input arguments are as follows:\n",
    "* **--name** : The name of the model you want to download. It should be one of the models listed in the previous cell.\n",
    "* **-o** : The output directory where to store the downloaded model. If the directory does not exist, it will be created.\n",
    "\n",
    "Run the following cell to download the `person-vehicle-bike-detection-crossroad-0078` model to the `./models` directory relative to the location of this Jupyter* Notebook."
   ]
  },
  {
   "cell_type": "code",
   "execution_count": 3,
   "metadata": {
    "ExecuteTime": {
     "end_time": "2021-04-14T18:53:03.831874Z",
     "start_time": "2021-04-14T18:53:00.533705Z"
    }
   },
   "outputs": [
    {
     "name": "stdout",
     "output_type": "stream",
     "text": [
      "################|| Downloading person-vehicle-bike-detection-crossroad-0078 ||################\n",
      "\n",
      "========== Downloading models/intel/person-vehicle-bike-detection-crossroad-0078/FP32/person-vehicle-bike-detection-crossroad-0078.xml\n",
      "... 100%, 451 KB, 887 KB/s, 0 seconds passed\n",
      "\n",
      "========== Downloading models/intel/person-vehicle-bike-detection-crossroad-0078/FP32/person-vehicle-bike-detection-crossroad-0078.bin\n",
      "... 100%, 4603 KB, 5053 KB/s, 0 seconds passed\n",
      "\n",
      "========== Downloading models/intel/person-vehicle-bike-detection-crossroad-0078/FP16/person-vehicle-bike-detection-crossroad-0078.xml\n",
      "... 100%, 586 KB, 1147 KB/s, 0 seconds passed\n",
      "\n",
      "========== Downloading models/intel/person-vehicle-bike-detection-crossroad-0078/FP16/person-vehicle-bike-detection-crossroad-0078.bin\n",
      "... 100%, 2301 KB, 2969 KB/s, 0 seconds passed\n",
      "\n",
      "========== Downloading models/intel/person-vehicle-bike-detection-crossroad-0078/FP16-INT8/person-vehicle-bike-detection-crossroad-0078.xml\n",
      "... 100%, 1192 KB, 1855 KB/s, 0 seconds passed\n",
      "\n",
      "========== Downloading models/intel/person-vehicle-bike-detection-crossroad-0078/FP16-INT8/person-vehicle-bike-detection-crossroad-0078.bin\n",
      "... 100%, 1240 KB, 1630 KB/s, 0 seconds passed\n",
      "\n",
      "All IR files that were downloaded or created:\n",
      "./models/intel/person-vehicle-bike-detection-crossroad-0078/FP16/person-vehicle-bike-detection-crossroad-0078.xml\n",
      "./models/intel/person-vehicle-bike-detection-crossroad-0078/FP16/person-vehicle-bike-detection-crossroad-0078.bin\n",
      "./models/intel/person-vehicle-bike-detection-crossroad-0078/FP32/person-vehicle-bike-detection-crossroad-0078.xml\n",
      "./models/intel/person-vehicle-bike-detection-crossroad-0078/FP32/person-vehicle-bike-detection-crossroad-0078.bin\n",
      "./models/intel/person-vehicle-bike-detection-crossroad-0078/FP16-INT8/person-vehicle-bike-detection-crossroad-0078.xml\n",
      "./models/intel/person-vehicle-bike-detection-crossroad-0078/FP16-INT8/person-vehicle-bike-detection-crossroad-0078.bin\n"
     ]
    }
   ],
   "source": [
    "!omz_downloader --name person-vehicle-bike-detection-crossroad-0078 -o models\n",
    "!echo \"All IR files that were downloaded or created:\"\n",
    "!find ./models -name \"*.xml\" -o -name \"*.bin\""
   ]
  },
  {
   "cell_type": "markdown",
   "metadata": {},
   "source": [
    "As shown above from the output of the last `!find...` command, there are more than one set of IR model files (`*.xml` and `*.bin`).  The Model Downloader will download IR model files for all available precisions for the specified model, storing each in a separate directory following the format: \n",
    "```bash\n",
    "<model_name>/<precision>/<<model_name.[xml|bin]>\n",
    "```\n",
    "We will be running the inference model on different hardware devices which have different requirements on the precision of the model (see [Inference Engine Supported Model Formats](https://docs.openvinotoolkit.org/latest/_docs_IE_DG_supported_plugins_Supported_Devices.html#supported_model_formats) for details).  For our purposes, we will focus on the use of the two most common precisions, FP32 and FP16."
   ]
  },
  {
   "cell_type": "markdown",
   "metadata": {},
   "source": [
    "### Run inference\n",
    "The following sections will go through the steps to run our inference application on the Intel® DevCloud for the Edge. "
   ]
  },
  {
   "cell_type": "markdown",
   "metadata": {},
   "source": [
    "#### Optional exercise: View input without inference\n",
    "\n",
    "If you are curious to see the input video, run the following cell to view the original video stream used for inference and this sample."
   ]
  },
  {
   "cell_type": "code",
   "execution_count": 4,
   "metadata": {
    "ExecuteTime": {
     "end_time": "2021-04-14T18:53:03.851430Z",
     "start_time": "2021-04-14T18:53:03.837135Z"
    }
   },
   "outputs": [
    {
     "data": {
      "text/html": [
       "<h2>Intruder Video</h2>\n",
       "    \n",
       "    <video alt=\"\" controls autoplay muted height=\"480\"><source src=\"./resources/person-bicycle-car-detection.mp4\" type=\"video/mp4\" /></video>\n",
       "    "
      ],
      "text/plain": [
       "<IPython.core.display.HTML object>"
      ]
     },
     "execution_count": 4,
     "metadata": {},
     "output_type": "execute_result"
    }
   ],
   "source": [
    "videoHTML('Intruder Video', ['./resources/person-bicycle-car-detection.mp4'])"
   ]
  },
  {
   "cell_type": "markdown",
   "metadata": {},
   "source": [
    "#### Create the job file\n",
    "We will run inference on several different edge compute nodes present in the Intel® DevCloud for the Edge. We will send work to the edge compute nodes by submitting the corresponding non-interactive jobs into a queue. For each job, we will specify the type of the edge compute server that must be allocated for the job.\n",
    "\n",
    "The job file is a [Bash](https://www.gnu.org/software/bash/) script that serves as a wrapper around the Python* executable of our application that will be executed directly on the edge compute node.  One purpose of the job file is to simplify running an application on different compute nodes by accepting a few arguments and then performing accordingly any necessary steps before and after running the application executable.  \n",
    "\n",
    "For this sample, the job file we will be using is already written for you and appears in the next cell.  The job file will be submitted as if it were run from the command line using the following format:\n",
    "```bash\n",
    "intruder_detector.sh <output_directory> <device> <fp_precision>\n",
    "```\n",
    "Where the job file input arguments are:\n",
    "- <*output_directory*> - Output directory to use to store output files\n",
    "- <*device*> - Hardware device to use (e.g. CPU, GPU, etc.)\n",
    "- <*fp_precision*> - Which floating point precision inference model to use (FP32 or FP16)\n",
    "\n",
    "Based on the input arguments, the job file will do the following:\n",
    "- Change to the working directory `PBS_O_WORKDIR` where this Jupyter* Notebook and other files appear on the compute node\n",
    "- Create the <*output_directory*>\n",
    "- Choose the appropriate inference model IR file for the specified <*fp_precision*>\n",
    "- Run the application Python* executable with the appropriate command line arguments\n",
    "\n",
    "Run the following cell to create the `intruder_detector.sh` job file.  The [`%%writefile`](https://ipython.readthedocs.io/en/stable/interactive/magics.html#cellmagic-writefile) line at the top will write the cell contents to the specified job file `intruder_detector.sh`."
   ]
  },
  {
   "cell_type": "code",
   "execution_count": null,
   "metadata": {
    "ExecuteTime": {
     "end_time": "2021-04-14T18:53:03.864718Z",
     "start_time": "2021-04-14T18:53:03.855586Z"
    }
   },
   "outputs": [],
   "source": [
    "%%writefile intruder_detector.sh\n",
    "\n",
    "# Store input arguments: <output_directory> <device> <fp_precision>\n",
    "OUTPUT_FILE=$1\n",
    "DEVICE=$2\n",
    "FP_MODEL=$3\n",
    "\n",
    "echo VENV_PATH=$VENV_PATH\n",
    "echo OPENVINO_RUNTIME=$OPENVINO_RUNTIME\n",
    "echo INPUT_FILE=$INPUT_FILE\n",
    "echo FP_MODEL=$FP_MODEL\n",
    "echo INPUT_TILE=$INPUT_FILE\n",
    "echo NUM_REQS=$NUM_REQS\n",
    "\n",
    "# Follow this order of setting up environment for openVINO 2022.1.0.553\n",
    "echo \"Activating a Python virtual environment from ${VENV_PATH}...\"\n",
    "source ${VENV_PATH}/bin/activate\n",
    "echo \"Activating OpenVINO variables from ${OPENVINO_RUNTIME}...\"\n",
    "source ${OPENVINO_RUNTIME}/setupvars.sh\n",
    "# The default path for the job is the user's home directory,\n",
    "#  change directory to where the files are.\n",
    "cd $PBS_O_WORKDIR\n",
    "\n",
    "# Make sure that the output directory exists.\n",
    "mkdir -p $OUTPUT_FILE\n",
    "\n",
    "\n",
    "# Set inference model IR files using specified precision\n",
    "MODELPATH=models/intel/person-vehicle-bike-detection-crossroad-0078/${FP_MODEL}/person-vehicle-bike-detection-crossroad-0078.xml\n",
    "\n",
    "# Run the intruder detector code\n",
    "python3 intruder-detector.py -m $MODELPATH \\\n",
    "                             -lb resources/labels.txt \\\n",
    "                             -o $OUTPUT_FILE \\\n",
    "                             -d $DEVICE"
   ]
  },
  {
   "cell_type": "markdown",
   "metadata": {},
   "source": [
    "#### How to submit a job\n",
    "\n",
    "Now that we have the job script, we can submit jobs to edge compute nodes in the Intel® DevCloud for the Edge.  To submit a job, the `qsub` command is used with the following format:\n",
    "```bash\n",
    "qsub <job_file> -N <JobName> -l <nodes> -F \"<job_file_arguments>\" \n",
    "```\n",
    "We can submit intruder_detector.sh to several different types of edge compute nodes simultaneously or just one node at a time.\n",
    "\n",
    "There are three options of `qsub` command that we use for this:\n",
    "- <*job_file*> - This is the job file we created in the previous step\n",
    "- `-N` <*JobName*> : Sets name specific to the job so that it is easier to distinguish  between it and other jobs\n",
    "- `-l` <*nodes*> - Specifies the number and the type of nodes using the format *nodes*=<*node_count*>:<*property*>[:<*property*>...]\n",
    "- `-F` \"<*job_file_arguments*>\" - String containing the input arguments described in the previous step to use when running the job file\n",
    "\n",
    "*(Optional)*: To see the available types of nodes on the Intel® DevCloud for the Edge, run the following cell."
   ]
  },
  {
   "cell_type": "code",
   "execution_count": null,
   "metadata": {
    "ExecuteTime": {
     "end_time": "2021-04-14T18:53:04.026128Z",
     "start_time": "2021-04-14T18:53:03.867360Z"
    }
   },
   "outputs": [],
   "source": [
    "!pbsnodes | grep compnode | awk '{print $3}' | sort | uniq -c"
   ]
  },
  {
   "cell_type": "markdown",
   "metadata": {},
   "source": [
    "In the above output from executing the previous cell, the properties describe the node, and the number on the left is the number of available nodes of that architecture.\n",
    "\n",
    "#### Submit jobs\n",
    "\n",
    "Each of the cells in the subsections below will submit a job to be run on different edge compute nodes. The output of each cell is the _JobID_ for the submitted job.  The _JobID_ can be used to track the status of the job.  After submission, a job will go into a waiting queue before running once the requested compute nodes become available.\n",
    "\n",
    "<br><div class=note><i><b>Note: </b>You may submit all jobs at once or one at a time.</i></div> \n",
    "\n",
    "<br><div class=tip><b>Tip: </b>**Shift+Enter** will run the cell and automatically move you to the next cell. This allows you to use **Shift+Enter** multiple times to quickly run through multiple cells, including markdown cells.</div>"
   ]
  },
  {
   "cell_type": "markdown",
   "metadata": {},
   "source": [
    "##### Submit to an edge compute node with an Intel® CPU\n",
    "In the cell below, we submit a job to an edge node with an [Intel® Core™ i5-6500TE](https://ark.intel.com/products/88186/Intel-Core-i5-6500TE-Processor-6M-Cache-up-to-3-30-GHz.html) processor. The inference workload will run on the CPU."
   ]
  },
  {
   "cell_type": "code",
   "execution_count": null,
   "metadata": {
    "ExecuteTime": {
     "end_time": "2021-04-14T18:53:04.255165Z",
     "start_time": "2021-04-14T18:53:04.030731Z"
    }
   },
   "outputs": [],
   "source": [
    "#Submit job to the queue\n",
    "job_id_core = !qsub intruder_detector.sh -l nodes=1:idc001skl -F \"results/core/ CPU FP32 \" -N intrud_core -v VENV_PATH,OPENVINO_RUNTIME\n",
    "print(job_id_core[0])\n",
    "#Progress indicators\n",
    "if job_id_core:\n",
    "    progressIndicator('results/core', f'i_progress_{job_id_core[0]}.txt', \"Inference\", 0, 100)"
   ]
  },
  {
   "cell_type": "markdown",
   "metadata": {},
   "source": [
    "##### Submit to an edge compute node with Intel® Xeon® Gold 6258R CPU\n",
    "In the cell below, we submit a job to an edge node with an [Intel® Xeon® Gold 6258R Processor](https://ark.intel.com/content/www/us/en/ark/products/199350/intel-xeon-gold-6258r-processor-38-5m-cache-2-70-ghz.html). The inference workload will run on the CPU."
   ]
  },
  {
   "cell_type": "code",
   "execution_count": null,
   "metadata": {
    "ExecuteTime": {
     "end_time": "2021-04-14T18:53:05.498666Z",
     "start_time": "2021-04-14T18:53:04.265599Z"
    }
   },
   "outputs": [],
   "source": [
    "#Submit job to the queue\n",
    "job_id_xeon_cascade_lake = !qsub intruder_detector.sh  -l nodes=1:idc018 -F \"results/xeon_cascade_lake/ CPU FP32\" -N intrud_xeon_cascade_lake -v VENV_PATH,OPENVINO_RUNTIME\n",
    "print(job_id_xeon_cascade_lake[0])\n",
    "#Progress indicators\n",
    "if job_id_xeon_cascade_lake:\n",
    "    progressIndicator('results/xeon_cascade_lake', f'i_progress_{job_id_xeon_cascade_lake[0]}.txt', \"Inference\", 0, 100)"
   ]
  },
  {
   "cell_type": "markdown",
   "metadata": {},
   "source": [
    "#### Submit to an edge compute node with Intel® Xeon® E3-1268L v5 CPU\n",
    "In the cell below, we submit a job to an edge node with an [Intel® Xeon® Processor E3-1268L v5](https://ark.intel.com/products/88178/Intel-Xeon-Processor-E3-1268L-v5-8M-Cache-2-40-GHz.html). The inference workload will run on the CPU."
   ]
  },
  {
   "cell_type": "code",
   "execution_count": null,
   "metadata": {
    "ExecuteTime": {
     "end_time": "2021-04-14T18:53:05.757049Z",
     "start_time": "2021-04-14T18:53:05.504374Z"
    }
   },
   "outputs": [],
   "source": [
    "#Submit job to the queue\n",
    "job_id_xeon_skylake = !qsub intruder_detector.sh  -l nodes=1:idc007xv5 -F \"results/xeon_skylake/ CPU FP32\" -N intrud_xeon_skylake -v VENV_PATH,OPENVINO_RUNTIME\n",
    "print(job_id_xeon_skylake[0])\n",
    "#Progress indicators\n",
    "if job_id_xeon_skylake:\n",
    "    progressIndicator('results/xeon_skylake', f'i_progress_{job_id_xeon_skylake[0]}.txt', \"Inference\", 0, 100)"
   ]
  },
  {
   "cell_type": "markdown",
   "metadata": {},
   "source": [
    "##### Submit to an edge compute node with Intel® Core CPU and using the integrated Intel® GPU\n",
    "In the cell below, we submit a job to an edge node with an [Intel® Core i5-6500TE](https://ark.intel.com/products/88186/Intel-Core-i5-6500TE-Processor-6M-Cache-up-to-3-30-GHz.html). The inference workload will run on the Intel® HD Graphics 530 GPU integrated with the CPU."
   ]
  },
  {
   "cell_type": "code",
   "execution_count": null,
   "metadata": {
    "ExecuteTime": {
     "end_time": "2021-04-14T18:53:05.998358Z",
     "start_time": "2021-04-14T18:53:05.761339Z"
    },
    "scrolled": true
   },
   "outputs": [],
   "source": [
    "#Submit job to the queue\n",
    "job_id_gpu = !qsub intruder_detector.sh -l nodes=1:idc001skl -F \"results/gpu/ GPU FP32\" -N intrud_gpu -v VENV_PATH,OPENVINO_RUNTIME\n",
    "print(job_id_gpu[0])\n",
    "#Progress indicators\n",
    "if job_id_gpu:\n",
    "    progressIndicator('results/gpu', f'i_progress_{job_id_gpu[0]}.txt', \"Inference\", 0, 100)"
   ]
  },
  {
   "cell_type": "markdown",
   "metadata": {},
   "source": [
    "##### Submit to an edge compute node with Intel® Neural Compute Stick 2\n",
    "In the cell below, we submit a job to an edge node with an [Intel Core i5-6500te](https://ark.intel.com/products/88186/Intel-Core-i5-6500TE-Processor-6M-Cache-up-to-3-30-GHz.html) CPU. The inference workload will run on an [Intel® Neural Compute Stick 2](https://software.intel.com/en-us/neural-compute-stick) installed in this node."
   ]
  },
  {
   "cell_type": "code",
   "execution_count": null,
   "metadata": {
    "ExecuteTime": {
     "end_time": "2021-04-14T18:53:06.274825Z",
     "start_time": "2021-04-14T18:53:06.006158Z"
    }
   },
   "outputs": [],
   "source": [
    "#Submit job to the queue\n",
    "job_id_ncs2 = !qsub intruder_detector.sh -l nodes=1:idc004nc2 -F \"results/ncs2/ MYRIAD FP16\" -N intrud_ncs2 -v VENV_PATH,OPENVINO_RUNTIME\n",
    "print(job_id_ncs2[0])\n",
    "#Progress indicators\n",
    "if job_id_ncs2:\n",
    "    progressIndicator('results/ncs2', f'i_progress_{job_id_ncs2[0]}.txt', \"Inference\", 0, 100)"
   ]
  },
  {
   "cell_type": "markdown",
   "metadata": {},
   "source": [
    "##### Submit to an edge compute node with Intel® Atom® and using the integrated Intel® GPU\n",
    "In the cell below, we submit a job to an edge node with an [Intel® Atom® x7-E3950](https://ark.intel.com/products/96488/Intel-Atom-x7-E3950-Processor-2M-Cache-up-to-2-00-GHz.html) processor. The inference workload will run on the integrated Intel® HD Graphics 505 GPU."
   ]
  },
  {
   "cell_type": "code",
   "execution_count": null,
   "metadata": {
    "ExecuteTime": {
     "end_time": "2021-04-14T18:53:06.551676Z",
     "start_time": "2021-04-14T18:53:06.282783Z"
    }
   },
   "outputs": [],
   "source": [
    "#Submit job to the queue\n",
    "job_id_atom = !qsub intruder_detector.sh -l nodes=1:idc008u2g -F \"results/atom/ GPU FP32\" -N intrud_atom -v VENV_PATH,OPENVINO_RUNTIME\n",
    "print(job_id_atom[0]) \n",
    "#Progress indicators\n",
    "if job_id_atom:\n",
    "    progressIndicator('results/atom', f'i_progress_{job_id_atom[0]}.txt', \"Inference\", 0, 100)"
   ]
  },
  {
   "cell_type": "markdown",
   "metadata": {},
   "source": [
    "### Monitor job status\n",
    "\n",
    "To check the status of the jobs that have been submitted, use the `qstat` command.  The custom Jupyter* Notebook widget `liveQstat()` is provided to display the output of `qstat` with live updates.  \n",
    "\n",
    "Run the following cell to display the current job status with periodic updates. "
   ]
  },
  {
   "cell_type": "code",
   "execution_count": null,
   "metadata": {
    "ExecuteTime": {
     "end_time": "2021-04-14T18:53:06.633313Z",
     "start_time": "2021-04-14T18:53:06.557782Z"
    }
   },
   "outputs": [],
   "source": [
    "liveQstat()"
   ]
  },
  {
   "cell_type": "markdown",
   "metadata": {},
   "source": [
    "You should see the jobs that you have submitted (referenced by the `JobID` that gets displayed right after you submit the jobs in the previous step).\n",
    "There should also be an extra job in the queue named `jupyterhub-singleuser`: this job is your current Jupyter* Notebook session which is always running.\n",
    "\n",
    "The `S` column shows the current status of each job: \n",
    "- If the status is `Q`, then the job is queued and waiting for available resources\n",
    "- If ste status is `R`, then the job is running\n",
    "- If the job is no longer listed, then the job has completed\n",
    "\n",
    "<br><div class=note><i><b>\n",
    "Note: The amount of time spent in the queue depends on the number of users accessing the requested compute nodes. Once the jobs for this sample application begin to run, they should take from 1 to 5 minutes each to complete.\n",
    "</b></i></div>"
   ]
  },
  {
   "cell_type": "markdown",
   "metadata": {},
   "source": [
    "<br><div class=danger><b>Wait!: </b>Please wait for the inference jobs and video rendering to complete before proceeding to the next step to view results.</div>\n",
    "\n",
    "### View results\n",
    "\n",
    "Once the jobs have completed, the queue system outputs the stdout and stderr streams of each job into files with names of the forms <*JobName*>.o<*JobID*> and <*JobName*>.e<*JobID*>, respecitvely.  The *JobName* corresponds to the `-N` option when submitting the job using the `qsub` command.  \n",
    "\n",
    "The output video file for each job is written to the file `video1.mp4` located in the directory `results/<device>` that was specified as the output directory to the job file.  We will now use the `videoHTML()` utility to display the output video files within this Jupyter* notebook.  Calling `videoHTML()` from a Python* cell follows the form:\n",
    "```python\n",
    "videoHTML(title, [list_of_video_files], statistics(optional))\n",
    "```\n",
    "The parameters are:\n",
    "- *title* - Title to put at the top of the displayed output\n",
    "- \\[*list_of_video_files*\\] - Python* list of video files to display\n",
    "- *statistics(optional)* - Optional statistics file containing the number of seconds it took to process a number of frames\n",
    "\n",
    "Run the cells below to display the videos."
   ]
  },
  {
   "cell_type": "markdown",
   "metadata": {},
   "source": [
    "##### View results from an Intel® CPU"
   ]
  },
  {
   "cell_type": "code",
   "execution_count": null,
   "metadata": {
    "ExecuteTime": {
     "end_time": "2021-04-14T18:53:08.337237Z",
     "start_time": "2021-04-14T18:53:06.643483Z"
    }
   },
   "outputs": [],
   "source": [
    "videoHTML('Intel Core CPU', \n",
    "          [f'results/core/video1_{job_id_core[0]}.webm'],f'results/core/stats_{job_id_core[0]}.txt')"
   ]
  },
  {
   "cell_type": "markdown",
   "metadata": {},
   "source": [
    "##### View results from an Intel® Xeon® Gold 6258R CPU"
   ]
  },
  {
   "cell_type": "code",
   "execution_count": null,
   "metadata": {
    "ExecuteTime": {
     "end_time": "2021-04-14T18:53:08.348944Z",
     "start_time": "2021-04-14T18:52:59.142Z"
    }
   },
   "outputs": [],
   "source": [
    "videoHTML('Intel Xeon CPU',\n",
    "          [f'results/xeon_cascade_lake/video1_{job_id_xeon_cascade_lake[0]}.webm'], f'results/xeon_cascade_lake/stats_{job_id_xeon_cascade_lake[0]}.txt')"
   ]
  },
  {
   "cell_type": "markdown",
   "metadata": {},
   "source": [
    "##### View results from an Intel® Xeon®  E3-1268L v5 CPU"
   ]
  },
  {
   "cell_type": "code",
   "execution_count": null,
   "metadata": {
    "ExecuteTime": {
     "end_time": "2021-04-14T18:53:08.357005Z",
     "start_time": "2021-04-14T18:52:59.184Z"
    }
   },
   "outputs": [],
   "source": [
    "videoHTML('Intel Xeon CPU',\n",
    "          [f'results/xeon_skylake/video1_{job_id_xeon_skylake[0]}.webm'], f'results/xeon_skylake/stats_{job_id_xeon_skylake[0]}.txt')"
   ]
  },
  {
   "cell_type": "markdown",
   "metadata": {},
   "source": [
    "##### View results from an Intel® Core CPU and integrated Intel® GPU"
   ]
  },
  {
   "cell_type": "code",
   "execution_count": null,
   "metadata": {
    "ExecuteTime": {
     "end_time": "2021-04-14T18:53:08.365386Z",
     "start_time": "2021-04-14T18:52:59.225Z"
    }
   },
   "outputs": [],
   "source": [
    "videoHTML('Intel Core + Intel GPU',\n",
    "          [f'results/gpu/video1_{job_id_gpu[0]}.webm'],f'results/gpu/stats_{job_id_gpu[0]}.txt')"
   ]
  },
  {
   "cell_type": "markdown",
   "metadata": {},
   "source": [
    "##### View results from an Intel® Neural Compute Stick 2"
   ]
  },
  {
   "cell_type": "code",
   "execution_count": null,
   "metadata": {
    "ExecuteTime": {
     "end_time": "2021-04-14T18:53:08.368843Z",
     "start_time": "2021-04-14T18:52:59.267Z"
    }
   },
   "outputs": [],
   "source": [
    "videoHTML('Intel CPU + Intel NCS2', \n",
    "          [f'results/ncs2/video1_{job_id_ncs2[0]}.webm'],f'results/ncs2/stats_{job_id_ncs2[0]}.txt')"
   ]
  },
  {
   "cell_type": "markdown",
   "metadata": {},
   "source": [
    "##### View results from an Intel® Atom® and integrated Intel® GPU"
   ]
  },
  {
   "cell_type": "code",
   "execution_count": null,
   "metadata": {
    "ExecuteTime": {
     "end_time": "2021-04-14T18:53:08.370427Z",
     "start_time": "2021-04-14T18:52:59.314Z"
    }
   },
   "outputs": [],
   "source": [
    "videoHTML('Intel Atom CPU + Intel GPU',\n",
    "          [f'results/atom/video1_{job_id_atom[0]}.webm'],f'results/atom/stats_{job_id_atom[0]}.txt')"
   ]
  },
  {
   "cell_type": "markdown",
   "metadata": {},
   "source": [
    "### View and assess performance results\n",
    "\n",
    "The running time of each inference task is recorded in `results/<device>/stats.txt`. Run the cell below to plot the results of all jobs side-by-side. Lower values mean better performance for **Inference Engine Processing Time** and higher values mean better performance for **Inference Engine FPS**. When comparing results, please keep in mind that some architectures are optimized for highest performance, others for low power or other metrics."
   ]
  },
  {
   "cell_type": "code",
   "execution_count": null,
   "metadata": {
    "ExecuteTime": {
     "end_time": "2021-04-14T18:53:08.385813Z",
     "start_time": "2021-04-14T18:52:59.361Z"
    }
   },
   "outputs": [],
   "source": [
    "# Create table of <architecture>, <title> for plotting\n",
    "arch_list = [('core', 'Intel Core\\ni5-6500TE\\nCPU'),\n",
    "             ('xeon_cascade_lake', 'Intel Xeon\\nGold\\n 6258R\\nCPU'),\n",
    "             ('xeon_skylake', 'Intel Xeon\\nE3-1268L v5\\nCPU'),\n",
    "             ('gpu', ' Intel Core\\ni5-6500TE\\nHD530/GPU'),\n",
    "             ('ncs2', 'Intel VPU\\ni5-6500TE\\nNCS2 VPU'),\n",
    "             ('atom', 'Intel Atom\\nx7-E3950\\nHD505/GPU')]\n",
    "# For each archtecture in table, create path to stats file or placeholder \n",
    "stats_list = []\n",
    "for arch, a_name in arch_list:\n",
    "    # if job_id_<architecture> exists, the job was run and has a stats file\n",
    "    if 'job_id_'+arch in vars():\n",
    "        stats_list.append((f'results/{arch}/stats_{vars()[\"job_id_\"+arch][0]}.txt', a_name))\n",
    "    else:\n",
    "        stats_list.append(('placeholder'+arch, a_name))\n",
    "# Plot the execution time from the stats files\n",
    "summaryPlot(stats_list, 'Architecture', 'Time, seconds', 'Inference Engine Processing Time', 'time')\n",
    "# Plot the frames per second from the stats files\n",
    "summaryPlot(stats_list, 'Architecture', 'Frames per second', 'Inference Engine FPS', 'fps')"
   ]
  },
  {
   "cell_type": "markdown",
   "metadata": {},
   "source": [
    "## Telemetry Dashboard\n",
    "Once your submitted jobs are completed, run the cells below to view telemetry dashboards containing performance metrics for your model and target architecture."
   ]
  },
  {
   "cell_type": "code",
   "execution_count": null,
   "metadata": {
    "ExecuteTime": {
     "end_time": "2021-04-14T18:53:08.394880Z",
     "start_time": "2021-04-14T18:52:59.408Z"
    }
   },
   "outputs": [],
   "source": [
    "link_t = \"<a target='_blank' href='{href}'> Click here to view telemetry dashboard of the last job ran on Intel® Core™ i5-6500TE</a>\"\n",
    "\n",
    "result_file = \"https://devcloud.intel.com/edge/metrics/d/\" + job_id_core[0].split('.')[0]\n",
    "\n",
    "html = HTML(link_t.format(href=result_file))\n",
    "\n",
    "display(html)"
   ]
  },
  {
   "cell_type": "code",
   "execution_count": null,
   "metadata": {
    "ExecuteTime": {
     "end_time": "2021-04-14T18:53:08.396875Z",
     "start_time": "2021-04-14T18:52:59.463Z"
    }
   },
   "outputs": [],
   "source": [
    "link_t = \"<a target='_blank' href='{href}'> Click here to view metering dashboard of the last job ran on Intel® Xeon® Gold 6258R CPU</a>\"\n",
    "\n",
    "result_file = \"https://devcloud.intel.com/edge/metrics/d/\" + job_id_xeon_cascade_lake[0].split('.')[0]\n",
    "\n",
    "html = HTML(link_t.format(href=result_file))\n",
    "\n",
    "display(html)"
   ]
  },
  {
   "cell_type": "code",
   "execution_count": null,
   "metadata": {
    "ExecuteTime": {
     "end_time": "2021-04-14T18:53:08.398232Z",
     "start_time": "2021-04-14T18:52:59.502Z"
    }
   },
   "outputs": [],
   "source": [
    "link_t = \"<a target='_blank' href='{href}'> Click here to view metering dashboard of the last job ran on Intel® Xeon® E3-1268L v5 CPU</a>\"\n",
    "\n",
    "result_file = \"https://devcloud.intel.com/edge/metrics/d/\" + job_id_xeon_skylake[0].split('.')[0]\n",
    "\n",
    "html = HTML(link_t.format(href=result_file))\n",
    "\n",
    "display(html)"
   ]
  },
  {
   "cell_type": "code",
   "execution_count": null,
   "metadata": {
    "ExecuteTime": {
     "end_time": "2021-04-14T18:53:08.399593Z",
     "start_time": "2021-04-14T18:52:59.542Z"
    }
   },
   "outputs": [],
   "source": [
    "link_t = \"<a target='_blank' href='{href}'> Click here to view metering dashboard of the last job ran on Intel® Core CPU and using the onboard Intel® GPU</a>\"\n",
    "\n",
    "result_file = \"https://devcloud.intel.com/edge/metrics/d/\" + job_id_gpu[0].split('.')[0]\n",
    "\n",
    "html = HTML(link_t.format(href=result_file))\n",
    "\n",
    "display(html)"
   ]
  },
  {
   "cell_type": "code",
   "execution_count": null,
   "metadata": {
    "ExecuteTime": {
     "end_time": "2021-04-14T18:53:08.400967Z",
     "start_time": "2021-04-14T18:52:59.575Z"
    }
   },
   "outputs": [],
   "source": [
    "link_t = \"<a target='_blank' href='{href}'> Click here to view metering dashboard of the last job ran on Intel® NCS 2 (Neural Compute Stick 2)</a>\"\n",
    "\n",
    "result_file = \"https://devcloud.intel.com/edge/metrics/d/\" + job_id_ncs2[0].split('.')[0]\n",
    "\n",
    "html = HTML(link_t.format(href=result_file))\n",
    "\n",
    "display(html)"
   ]
  },
  {
   "cell_type": "code",
   "execution_count": null,
   "metadata": {
    "ExecuteTime": {
     "end_time": "2021-04-14T18:53:08.406441Z",
     "start_time": "2021-04-14T18:52:59.610Z"
    }
   },
   "outputs": [],
   "source": [
    "link_t = \"<a target='_blank' href='{href}'> Click here to view metering dashboard of the last job ran on UP Squared Grove IoT Development Kit (UP2)</a>\"\n",
    "\n",
    "result_file = \"https://devcloud.intel.com/edge/metrics/d/\" +  job_id_atom[0].split('.')[0]\n",
    "\n",
    "html = HTML(link_t.format(href=result_file))\n",
    "\n",
    "display(html)"
   ]
  },
  {
   "cell_type": "markdown",
   "metadata": {},
   "source": [
    "## Next steps\n",
    "- [More Jupyter* Notebook Samples](https://software.intel.com/content/www/us/en/develop/tools/devcloud/edge/build/sample-apps.html) - additional sample applications \n",
    "- [Jupyter* Notebook Tutorials](https://software.intel.com/content/www/us/en/develop/tools/devcloud/edge/learn/tutorials.html) - sample application Jupyter* Notebook tutorials\n",
    "- [Intel® Distribution of OpenVINO™ toolkit Main Page](https://software.intel.com/openvino-toolkit) - learn more about the tools and use of the Intel® Distribution of OpenVINO™ toolkit for implementing inference on the edge\n"
   ]
  },
  {
   "cell_type": "markdown",
   "metadata": {},
   "source": [
    "## About this notebook\n",
    "\n",
    "For technical support, please see the [Intel® DevCloud Forums](https://software.intel.com/en-us/forums/intel-devcloud-for-edge)"
   ]
  },
  {
   "cell_type": "markdown",
   "metadata": {},
   "source": [
    "<p style=background-color:#0071C5;color:white;padding:0.5em;display:table-cell;width:100pc;vertical-align:middle>\n",
    "<img style=float:right src=\"https://devcloud.intel.com/edge/static/images/svg/IDZ_logo.svg\" alt=\"Intel DevCloud logo\" width=\"150px\"/>\n",
    "<a style=color:white>Intel® DevCloud for the Edge</a><br>   \n",
    "<a style=color:white href=\"#top\">Top of Page</a> | \n",
    "<a style=color:white href=\"https://devcloud.intel.com/edge/static/docs/terms/Intel-DevCloud-for-the-Edge-Usage-Agreement.pdf\">Usage Agreement (Intel)</a> | \n",
    "<a style=color:white href=\"https://devcloud.intel.com/edge/static/docs/terms/Colfax_Cloud_Service_Terms_v1.3.pdf\">Service Terms (Colfax)</a>\n",
    "</p>"
   ]
  }
 ],
 "metadata": {
  "kernelspec": {
   "display_name": "Python3 (OpenVINO 2022.2.0)",
   "language": "python",
   "name": "openvino_2022.2-python36-prod"
  },
  "language_info": {
   "codemirror_mode": {
    "name": "ipython",
    "version": 3
   },
   "file_extension": ".py",
   "mimetype": "text/x-python",
   "name": "python",
   "nbconvert_exporter": "python",
   "pygments_lexer": "ipython3",
   "version": "3.6.9"
  },
  "nbTranslate": {
   "displayLangs": [
    "*"
   ],
   "hotkey": "alt-t",
   "langInMainMenu": true,
   "sourceLang": "en",
   "targetLang": "fr",
   "useGoogleTranslate": true
  },
  "toc": {
   "base_numbering": 1,
   "nav_menu": {},
   "number_sections": true,
   "sideBar": true,
   "skip_h1_title": true,
   "title_cell": "Table of Contents",
   "title_sidebar": "Table of Contents",
   "toc_cell": false,
   "toc_position": {
    "height": "calc(100% - 180px)",
    "left": "10px",
    "top": "150px",
    "width": "305.083px"
   },
   "toc_section_display": true,
   "toc_window_display": false
  }
 },
 "nbformat": 4,
 "nbformat_minor": 4
}
